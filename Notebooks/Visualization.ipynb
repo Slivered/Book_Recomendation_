{
 "cells": [
  {
   "cell_type": "code",
   "execution_count": 1,
   "metadata": {},
   "outputs": [],
   "source": [
    "import pandas as pd\n",
    "import matplotlib.pyplot as plt\n",
    "import seaborn as sns\n",
    "import plotly.express as px\n",
    "\n",
    "import sys\n",
    "sys.path.append(\"../\")\n",
    "import src.Resources as src"
   ]
  },
  {
   "cell_type": "code",
   "execution_count": 2,
   "metadata": {},
   "outputs": [],
   "source": [
    "movies = pd.read_csv('../Data/Movies_clean.csv', index_col= 0)  \n",
    "books = pd.read_csv('../Data/Books_clean.csv', index_col= 0)  "
   ]
  },
  {
   "cell_type": "code",
   "execution_count": 3,
   "metadata": {},
   "outputs": [
    {
     "data": {
      "text/html": [
       "<div>\n",
       "<style scoped>\n",
       "    .dataframe tbody tr th:only-of-type {\n",
       "        vertical-align: middle;\n",
       "    }\n",
       "\n",
       "    .dataframe tbody tr th {\n",
       "        vertical-align: top;\n",
       "    }\n",
       "\n",
       "    .dataframe thead th {\n",
       "        text-align: right;\n",
       "    }\n",
       "</style>\n",
       "<table border=\"1\" class=\"dataframe\">\n",
       "  <thead>\n",
       "    <tr style=\"text-align: right;\">\n",
       "      <th></th>\n",
       "      <th>Title</th>\n",
       "      <th>Image</th>\n",
       "      <th>Genre</th>\n",
       "      <th>Description</th>\n",
       "      <th>Rating</th>\n",
       "      <th>Votes</th>\n",
       "      <th>Directors</th>\n",
       "      <th>Stars</th>\n",
       "    </tr>\n",
       "  </thead>\n",
       "  <tbody>\n",
       "    <tr>\n",
       "      <th>0</th>\n",
       "      <td>Dungeons &amp; Dragons: Honor entre ladrones</td>\n",
       "      <td>https://m.media-amazon.com/images/M/MV5BZjAyMG...</td>\n",
       "      <td>Action|Adventure|Comedy</td>\n",
       "      <td>A charming thief and a band of unlikely advent...</td>\n",
       "      <td>7.6</td>\n",
       "      <td>35423</td>\n",
       "      <td>John Francis Daley| Jonathan Goldstein</td>\n",
       "      <td>Chris Pine| Michelle Rodriguez| Regé-Jean Pag...</td>\n",
       "    </tr>\n",
       "    <tr>\n",
       "      <th>1</th>\n",
       "      <td>John Wick 4</td>\n",
       "      <td>https://m.media-amazon.com/images/M/MV5BMDExZG...</td>\n",
       "      <td>Action|Crime|Thriller</td>\n",
       "      <td>John Wick uncovers a path to defeating The Hig...</td>\n",
       "      <td>8.3</td>\n",
       "      <td>106008</td>\n",
       "      <td>Chad Stahelski</td>\n",
       "      <td>Keanu Reeves| Laurence Fishburne| George Geor...</td>\n",
       "    </tr>\n",
       "    <tr>\n",
       "      <th>2</th>\n",
       "      <td>Criminales a la vista</td>\n",
       "      <td>https://m.media-amazon.com/images/S/sash/4Fyxw...</td>\n",
       "      <td>Action|Comedy|Crime</td>\n",
       "      <td>Full-time detectives Nick and Audrey are strug...</td>\n",
       "      <td>5.6</td>\n",
       "      <td>30998</td>\n",
       "      <td>Jeremy Garelick</td>\n",
       "      <td>Adam Sandler| Jennifer Aniston| Mark Strong| ...</td>\n",
       "    </tr>\n",
       "    <tr>\n",
       "      <th>3</th>\n",
       "      <td>Avatar: El sentido del agua</td>\n",
       "      <td>https://m.media-amazon.com/images/S/sash/4Fyxw...</td>\n",
       "      <td>Action|Adventure|Fantasy</td>\n",
       "      <td>Jake Sully lives with his newfound family form...</td>\n",
       "      <td>7.7</td>\n",
       "      <td>349677</td>\n",
       "      <td>James Cameron</td>\n",
       "      <td>Sam Worthington| Zoe Saldana| Sigourney Weave...</td>\n",
       "    </tr>\n",
       "    <tr>\n",
       "      <th>4</th>\n",
       "      <td>Criminales en el mar</td>\n",
       "      <td>https://m.media-amazon.com/images/S/sash/4Fyxw...</td>\n",
       "      <td>Action|Comedy|Crime</td>\n",
       "      <td>A New York cop and his wife go on a European v...</td>\n",
       "      <td>6.0</td>\n",
       "      <td>146485</td>\n",
       "      <td>Kyle Newacheck</td>\n",
       "      <td>Adam Sandler| Jennifer Aniston| Luke Evans| T...</td>\n",
       "    </tr>\n",
       "    <tr>\n",
       "      <th>...</th>\n",
       "      <td>...</td>\n",
       "      <td>...</td>\n",
       "      <td>...</td>\n",
       "      <td>...</td>\n",
       "      <td>...</td>\n",
       "      <td>...</td>\n",
       "      <td>...</td>\n",
       "      <td>...</td>\n",
       "    </tr>\n",
       "    <tr>\n",
       "      <th>130080</th>\n",
       "      <td>Atop the Fourth Wall: The Movie</td>\n",
       "      <td>https://m.media-amazon.com/images/S/sash/4Fyxw...</td>\n",
       "      <td>Comedy|Sci-Fi|Thriller</td>\n",
       "      <td>A witty comic book reviewer gears up to save t...</td>\n",
       "      <td>3.2</td>\n",
       "      <td>303</td>\n",
       "      <td>Jessica Kitrick| Lewis Lovhaug</td>\n",
       "      <td>Nash Bozard| Teresa Dietzinger| Brad Jones| M...</td>\n",
       "    </tr>\n",
       "    <tr>\n",
       "      <th>130081</th>\n",
       "      <td>Alien Reign of Man</td>\n",
       "      <td>https://m.media-amazon.com/images/S/sash/4Fyxw...</td>\n",
       "      <td>Fantasy|Sci-Fi</td>\n",
       "      <td>Stranded on a distant planet, a team must figh...</td>\n",
       "      <td>2.1</td>\n",
       "      <td>545</td>\n",
       "      <td>Tristan Price</td>\n",
       "      <td>Khu| Torrei Hart| Deanna Grace Congo| Stacey ...</td>\n",
       "    </tr>\n",
       "    <tr>\n",
       "      <th>130082</th>\n",
       "      <td>Opium</td>\n",
       "      <td>https://m.media-amazon.com/images/S/sash/4Fyxw...</td>\n",
       "      <td>Comedy|Sci-Fi</td>\n",
       "      <td>Five short stories attempts to examine the rel...</td>\n",
       "      <td>8.4</td>\n",
       "      <td>7</td>\n",
       "      <td>Aman Sachdeva</td>\n",
       "      <td>Anirban Bhattacharyya| Manu Rishi Chadha| Sha...</td>\n",
       "    </tr>\n",
       "    <tr>\n",
       "      <th>130083</th>\n",
       "      <td>Il prato macchiato di rosso</td>\n",
       "      <td>https://m.media-amazon.com/images/S/sash/4Fyxw...</td>\n",
       "      <td>Comedy|Horror|Mystery</td>\n",
       "      <td>A group of rich decadents pick up wanderers fr...</td>\n",
       "      <td>5.2</td>\n",
       "      <td>202</td>\n",
       "      <td>Riccardo Ghione</td>\n",
       "      <td>Marina Malfatti| Enzo Tarascio| Daniela Carol...</td>\n",
       "    </tr>\n",
       "    <tr>\n",
       "      <th>130084</th>\n",
       "      <td>The Pod</td>\n",
       "      <td>https://m.media-amazon.com/images/S/sash/4Fyxw...</td>\n",
       "      <td>Comedy|Horror|Sci-Fi</td>\n",
       "      <td>Aliens with a ravenous appetite for summertime...</td>\n",
       "      <td>3.5</td>\n",
       "      <td>136</td>\n",
       "      <td>Edward Conna</td>\n",
       "      <td>Krystal Banks| Ted Barba| David Beard| Michae...</td>\n",
       "    </tr>\n",
       "  </tbody>\n",
       "</table>\n",
       "<p>130085 rows × 8 columns</p>\n",
       "</div>"
      ],
      "text/plain": [
       "                                           Title  \\\n",
       "0       Dungeons & Dragons: Honor entre ladrones   \n",
       "1                                    John Wick 4   \n",
       "2                          Criminales a la vista   \n",
       "3                    Avatar: El sentido del agua   \n",
       "4                           Criminales en el mar   \n",
       "...                                          ...   \n",
       "130080           Atop the Fourth Wall: The Movie   \n",
       "130081                        Alien Reign of Man   \n",
       "130082                                     Opium   \n",
       "130083               Il prato macchiato di rosso   \n",
       "130084                                   The Pod   \n",
       "\n",
       "                                                    Image  \\\n",
       "0       https://m.media-amazon.com/images/M/MV5BZjAyMG...   \n",
       "1       https://m.media-amazon.com/images/M/MV5BMDExZG...   \n",
       "2       https://m.media-amazon.com/images/S/sash/4Fyxw...   \n",
       "3       https://m.media-amazon.com/images/S/sash/4Fyxw...   \n",
       "4       https://m.media-amazon.com/images/S/sash/4Fyxw...   \n",
       "...                                                   ...   \n",
       "130080  https://m.media-amazon.com/images/S/sash/4Fyxw...   \n",
       "130081  https://m.media-amazon.com/images/S/sash/4Fyxw...   \n",
       "130082  https://m.media-amazon.com/images/S/sash/4Fyxw...   \n",
       "130083  https://m.media-amazon.com/images/S/sash/4Fyxw...   \n",
       "130084  https://m.media-amazon.com/images/S/sash/4Fyxw...   \n",
       "\n",
       "                           Genre  \\\n",
       "0        Action|Adventure|Comedy   \n",
       "1          Action|Crime|Thriller   \n",
       "2            Action|Comedy|Crime   \n",
       "3       Action|Adventure|Fantasy   \n",
       "4            Action|Comedy|Crime   \n",
       "...                          ...   \n",
       "130080    Comedy|Sci-Fi|Thriller   \n",
       "130081            Fantasy|Sci-Fi   \n",
       "130082             Comedy|Sci-Fi   \n",
       "130083     Comedy|Horror|Mystery   \n",
       "130084      Comedy|Horror|Sci-Fi   \n",
       "\n",
       "                                              Description  Rating   Votes  \\\n",
       "0       A charming thief and a band of unlikely advent...     7.6   35423   \n",
       "1       John Wick uncovers a path to defeating The Hig...     8.3  106008   \n",
       "2       Full-time detectives Nick and Audrey are strug...     5.6   30998   \n",
       "3       Jake Sully lives with his newfound family form...     7.7  349677   \n",
       "4       A New York cop and his wife go on a European v...     6.0  146485   \n",
       "...                                                   ...     ...     ...   \n",
       "130080  A witty comic book reviewer gears up to save t...     3.2     303   \n",
       "130081  Stranded on a distant planet, a team must figh...     2.1     545   \n",
       "130082  Five short stories attempts to examine the rel...     8.4       7   \n",
       "130083  A group of rich decadents pick up wanderers fr...     5.2     202   \n",
       "130084  Aliens with a ravenous appetite for summertime...     3.5     136   \n",
       "\n",
       "                                       Directors  \\\n",
       "0        John Francis Daley| Jonathan Goldstein    \n",
       "1                                Chad Stahelski    \n",
       "2                               Jeremy Garelick    \n",
       "3                                 James Cameron    \n",
       "4                                Kyle Newacheck    \n",
       "...                                          ...   \n",
       "130080           Jessica Kitrick| Lewis Lovhaug    \n",
       "130081                            Tristan Price    \n",
       "130082                            Aman Sachdeva    \n",
       "130083                          Riccardo Ghione    \n",
       "130084                             Edward Conna    \n",
       "\n",
       "                                                    Stars  \n",
       "0        Chris Pine| Michelle Rodriguez| Regé-Jean Pag...  \n",
       "1        Keanu Reeves| Laurence Fishburne| George Geor...  \n",
       "2        Adam Sandler| Jennifer Aniston| Mark Strong| ...  \n",
       "3        Sam Worthington| Zoe Saldana| Sigourney Weave...  \n",
       "4        Adam Sandler| Jennifer Aniston| Luke Evans| T...  \n",
       "...                                                   ...  \n",
       "130080   Nash Bozard| Teresa Dietzinger| Brad Jones| M...  \n",
       "130081   Khu| Torrei Hart| Deanna Grace Congo| Stacey ...  \n",
       "130082   Anirban Bhattacharyya| Manu Rishi Chadha| Sha...  \n",
       "130083   Marina Malfatti| Enzo Tarascio| Daniela Carol...  \n",
       "130084   Krystal Banks| Ted Barba| David Beard| Michae...  \n",
       "\n",
       "[130085 rows x 8 columns]"
      ]
     },
     "execution_count": 3,
     "metadata": {},
     "output_type": "execute_result"
    }
   ],
   "source": [
    "movies"
   ]
  },
  {
   "cell_type": "code",
   "execution_count": 4,
   "metadata": {},
   "outputs": [
    {
     "data": {
      "text/plain": [
       "0          John Francis Daley| Jonathan Goldstein \n",
       "1                                  Chad Stahelski \n",
       "2                                 Jeremy Garelick \n",
       "3                                   James Cameron \n",
       "4                                  Kyle Newacheck \n",
       "                            ...                   \n",
       "130080             Jessica Kitrick| Lewis Lovhaug \n",
       "130081                              Tristan Price \n",
       "130082                              Aman Sachdeva \n",
       "130083                            Riccardo Ghione \n",
       "130084                               Edward Conna \n",
       "Name: Directors, Length: 130085, dtype: object"
      ]
     },
     "execution_count": 4,
     "metadata": {},
     "output_type": "execute_result"
    }
   ],
   "source": [
    "movies[\"Directors\"]"
   ]
  },
  {
   "cell_type": "code",
   "execution_count": 5,
   "metadata": {},
   "outputs": [],
   "source": [
    "movies.columns = [\"Title\",\"Image\",\"Genre\",\"Description\",\"Rating\",\"Votes\",\"Directors\",\"Stars\"]\n",
    "books.columns = [\"Author\",\"Image\",\"Description\",\"Rating\",\"Votes\",\"Title\",\"Genre\"]"
   ]
  },
  {
   "cell_type": "code",
   "execution_count": 6,
   "metadata": {},
   "outputs": [],
   "source": [
    "movies[\"Stars\"].fillna(\"Nostars\",inplace=True)\n",
    "movies.drop_duplicates(inplace=True)\n",
    "movies = movies.drop_duplicates(subset=\"Title\")\n",
    "movies = movies.reset_index()\n",
    "movies = movies.drop(\"index\",axis=1)\n",
    "\n",
    "books[\"Description\"].fillna(\"No description\",inplace=True)\n",
    "books.drop_duplicates(inplace=True)\n",
    "books = books.drop_duplicates(subset=\"Title\")\n",
    "books = books.reset_index()\n",
    "books = books.drop(\"index\",axis=1)"
   ]
  },
  {
   "cell_type": "code",
   "execution_count": 7,
   "metadata": {},
   "outputs": [],
   "source": [
    "director = movies[\"Directors\"].apply(lambda x: x.split(\"|\"))\n",
    "m_genre = movies[\"Genre\"].apply(lambda x: x.split(\"|\"))\n",
    "stars = movies[\"Stars\"].apply(lambda x: x.split(\"|\"))\n",
    "b_genre = books[\"Genre\"].apply(lambda x: x.split(\"|\"))"
   ]
  },
  {
   "cell_type": "code",
   "execution_count": 8,
   "metadata": {},
   "outputs": [],
   "source": [
    "n_directors = len(director.explode().unique())\n",
    "movie_genres = len(m_genre.explode().unique())\n",
    "movie_stars = len(stars.explode().unique())\n",
    "book_genre = len(b_genre.explode().unique())\n",
    "n_authors = books[\"Author\"].nunique()\n",
    "n_titles = books[\"Title\"].nunique()\n",
    "n_titles_m = movies[\"Title\"].nunique()"
   ]
  },
  {
   "cell_type": "code",
   "execution_count": 9,
   "metadata": {},
   "outputs": [],
   "source": [
    "Bignumbers = pd.DataFrame([n_authors], columns=[\"Book_Authors\"])\n",
    "Bignumbers[\"Movie_directors\"] = n_directors\n",
    "Bignumbers[\"Movie_stars\"] = movie_stars\n",
    "Bignumbers[\"Book_titles\"] = n_titles\n",
    "Bignumbers[\"Movie_titles\"] = n_titles_m\n",
    "Bignumbers[\"Book_genres\"] = book_genre\n",
    "Bignumbers[\"Movie_genres\"] = movie_genres"
   ]
  },
  {
   "cell_type": "code",
   "execution_count": 10,
   "metadata": {},
   "outputs": [
    {
     "data": {
      "text/html": [
       "<div>\n",
       "<style scoped>\n",
       "    .dataframe tbody tr th:only-of-type {\n",
       "        vertical-align: middle;\n",
       "    }\n",
       "\n",
       "    .dataframe tbody tr th {\n",
       "        vertical-align: top;\n",
       "    }\n",
       "\n",
       "    .dataframe thead th {\n",
       "        text-align: right;\n",
       "    }\n",
       "</style>\n",
       "<table border=\"1\" class=\"dataframe\">\n",
       "  <thead>\n",
       "    <tr style=\"text-align: right;\">\n",
       "      <th></th>\n",
       "      <th>Book_Authors</th>\n",
       "      <th>Movie_directors</th>\n",
       "      <th>Movie_stars</th>\n",
       "      <th>Book_titles</th>\n",
       "      <th>Movie_titles</th>\n",
       "      <th>Book_genres</th>\n",
       "      <th>Movie_genres</th>\n",
       "    </tr>\n",
       "  </thead>\n",
       "  <tbody>\n",
       "    <tr>\n",
       "      <th>0</th>\n",
       "      <td>5202</td>\n",
       "      <td>41338</td>\n",
       "      <td>129173</td>\n",
       "      <td>12473</td>\n",
       "      <td>77900</td>\n",
       "      <td>22</td>\n",
       "      <td>28</td>\n",
       "    </tr>\n",
       "  </tbody>\n",
       "</table>\n",
       "</div>"
      ],
      "text/plain": [
       "   Book_Authors  Movie_directors  Movie_stars  Book_titles  Movie_titles  \\\n",
       "0          5202            41338       129173        12473         77900   \n",
       "\n",
       "   Book_genres  Movie_genres  \n",
       "0           22            28  "
      ]
     },
     "execution_count": 10,
     "metadata": {},
     "output_type": "execute_result"
    }
   ],
   "source": [
    "Bignumbers"
   ]
  },
  {
   "cell_type": "code",
   "execution_count": 11,
   "metadata": {},
   "outputs": [],
   "source": [
    "movies_1 = movies[movies[\"Votes\"]>1000]\n",
    "books_1 = books[books[\"Votes\"]>1000]"
   ]
  },
  {
   "cell_type": "code",
   "execution_count": 12,
   "metadata": {},
   "outputs": [],
   "source": [
    "max_m =movies_1[\"Rating\"].max()\n",
    "min_m = movies_1[\"Rating\"].min()\n",
    "median_m = movies_1[\"Rating\"].median()\n",
    "mean_m = movies_1[\"Rating\"].mean()"
   ]
  },
  {
   "cell_type": "code",
   "execution_count": 13,
   "metadata": {},
   "outputs": [],
   "source": [
    "max_b = books_1[\"Rating\"].max()\n",
    "min_b = books_1[\"Rating\"].min()\n",
    "median_b = books_1[\"Rating\"].median()\n",
    "mean_b = books_1[\"Rating\"].mean()"
   ]
  },
  {
   "cell_type": "code",
   "execution_count": 14,
   "metadata": {},
   "outputs": [],
   "source": [
    "metric = [\"Max\",\"Min\",\"Median\",\"Mean\",\"Max\",\"Min\",\"Median\",\"Mean\"]\n",
    "rating = [max_m,min_m,median_m,mean_m,max_b,min_b,median_b,mean_b]\n",
    "type = [\"Movie\",\"Movie\",\"Movie\",\"Movie\",\"Book\",\"Book\",\"Book\",\"Book\"]\n"
   ]
  },
  {
   "cell_type": "code",
   "execution_count": 15,
   "metadata": {},
   "outputs": [],
   "source": [
    "Data = pd.DataFrame({\"Metric\": metric, \"Rating\": rating, \"Type\": type})"
   ]
  },
  {
   "cell_type": "code",
   "execution_count": 16,
   "metadata": {},
   "outputs": [
    {
     "data": {
      "application/vnd.plotly.v1+json": {
       "config": {
        "plotlyServerURL": "https://plot.ly"
       },
       "data": [
        {
         "alignmentgroup": "True",
         "hovertemplate": "Type=Movie<br>Metric=%{x}<br>Rating=%{y}<extra></extra>",
         "legendgroup": "Movie",
         "marker": {
          "color": "#636efa",
          "pattern": {
           "shape": ""
          }
         },
         "name": "Movie",
         "offsetgroup": "Movie",
         "orientation": "v",
         "showlegend": true,
         "textposition": "auto",
         "type": "bar",
         "x": [
          "Max",
          "Min",
          "Median",
          "Mean"
         ],
         "xaxis": "x",
         "y": [
          9.8,
          1,
          6.5,
          6.3038062159839585
         ],
         "yaxis": "y"
        },
        {
         "alignmentgroup": "True",
         "hovertemplate": "Type=Book<br>Metric=%{x}<br>Rating=%{y}<extra></extra>",
         "legendgroup": "Book",
         "marker": {
          "color": "#EF553B",
          "pattern": {
           "shape": ""
          }
         },
         "name": "Book",
         "offsetgroup": "Book",
         "orientation": "v",
         "showlegend": true,
         "textposition": "auto",
         "type": "bar",
         "x": [
          "Max",
          "Min",
          "Median",
          "Mean"
         ],
         "xaxis": "x",
         "y": [
          9.74,
          5.42,
          8.04,
          8.010928386395921
         ],
         "yaxis": "y"
        }
       ],
       "layout": {
        "barmode": "group",
        "legend": {
         "title": {
          "text": "Type"
         },
         "tracegroupgap": 0
        },
        "margin": {
         "t": 60
        },
        "template": {
         "data": {
          "bar": [
           {
            "error_x": {
             "color": "#2a3f5f"
            },
            "error_y": {
             "color": "#2a3f5f"
            },
            "marker": {
             "line": {
              "color": "#E5ECF6",
              "width": 0.5
             },
             "pattern": {
              "fillmode": "overlay",
              "size": 10,
              "solidity": 0.2
             }
            },
            "type": "bar"
           }
          ],
          "barpolar": [
           {
            "marker": {
             "line": {
              "color": "#E5ECF6",
              "width": 0.5
             },
             "pattern": {
              "fillmode": "overlay",
              "size": 10,
              "solidity": 0.2
             }
            },
            "type": "barpolar"
           }
          ],
          "carpet": [
           {
            "aaxis": {
             "endlinecolor": "#2a3f5f",
             "gridcolor": "white",
             "linecolor": "white",
             "minorgridcolor": "white",
             "startlinecolor": "#2a3f5f"
            },
            "baxis": {
             "endlinecolor": "#2a3f5f",
             "gridcolor": "white",
             "linecolor": "white",
             "minorgridcolor": "white",
             "startlinecolor": "#2a3f5f"
            },
            "type": "carpet"
           }
          ],
          "choropleth": [
           {
            "colorbar": {
             "outlinewidth": 0,
             "ticks": ""
            },
            "type": "choropleth"
           }
          ],
          "contour": [
           {
            "colorbar": {
             "outlinewidth": 0,
             "ticks": ""
            },
            "colorscale": [
             [
              0,
              "#0d0887"
             ],
             [
              0.1111111111111111,
              "#46039f"
             ],
             [
              0.2222222222222222,
              "#7201a8"
             ],
             [
              0.3333333333333333,
              "#9c179e"
             ],
             [
              0.4444444444444444,
              "#bd3786"
             ],
             [
              0.5555555555555556,
              "#d8576b"
             ],
             [
              0.6666666666666666,
              "#ed7953"
             ],
             [
              0.7777777777777778,
              "#fb9f3a"
             ],
             [
              0.8888888888888888,
              "#fdca26"
             ],
             [
              1,
              "#f0f921"
             ]
            ],
            "type": "contour"
           }
          ],
          "contourcarpet": [
           {
            "colorbar": {
             "outlinewidth": 0,
             "ticks": ""
            },
            "type": "contourcarpet"
           }
          ],
          "heatmap": [
           {
            "colorbar": {
             "outlinewidth": 0,
             "ticks": ""
            },
            "colorscale": [
             [
              0,
              "#0d0887"
             ],
             [
              0.1111111111111111,
              "#46039f"
             ],
             [
              0.2222222222222222,
              "#7201a8"
             ],
             [
              0.3333333333333333,
              "#9c179e"
             ],
             [
              0.4444444444444444,
              "#bd3786"
             ],
             [
              0.5555555555555556,
              "#d8576b"
             ],
             [
              0.6666666666666666,
              "#ed7953"
             ],
             [
              0.7777777777777778,
              "#fb9f3a"
             ],
             [
              0.8888888888888888,
              "#fdca26"
             ],
             [
              1,
              "#f0f921"
             ]
            ],
            "type": "heatmap"
           }
          ],
          "heatmapgl": [
           {
            "colorbar": {
             "outlinewidth": 0,
             "ticks": ""
            },
            "colorscale": [
             [
              0,
              "#0d0887"
             ],
             [
              0.1111111111111111,
              "#46039f"
             ],
             [
              0.2222222222222222,
              "#7201a8"
             ],
             [
              0.3333333333333333,
              "#9c179e"
             ],
             [
              0.4444444444444444,
              "#bd3786"
             ],
             [
              0.5555555555555556,
              "#d8576b"
             ],
             [
              0.6666666666666666,
              "#ed7953"
             ],
             [
              0.7777777777777778,
              "#fb9f3a"
             ],
             [
              0.8888888888888888,
              "#fdca26"
             ],
             [
              1,
              "#f0f921"
             ]
            ],
            "type": "heatmapgl"
           }
          ],
          "histogram": [
           {
            "marker": {
             "pattern": {
              "fillmode": "overlay",
              "size": 10,
              "solidity": 0.2
             }
            },
            "type": "histogram"
           }
          ],
          "histogram2d": [
           {
            "colorbar": {
             "outlinewidth": 0,
             "ticks": ""
            },
            "colorscale": [
             [
              0,
              "#0d0887"
             ],
             [
              0.1111111111111111,
              "#46039f"
             ],
             [
              0.2222222222222222,
              "#7201a8"
             ],
             [
              0.3333333333333333,
              "#9c179e"
             ],
             [
              0.4444444444444444,
              "#bd3786"
             ],
             [
              0.5555555555555556,
              "#d8576b"
             ],
             [
              0.6666666666666666,
              "#ed7953"
             ],
             [
              0.7777777777777778,
              "#fb9f3a"
             ],
             [
              0.8888888888888888,
              "#fdca26"
             ],
             [
              1,
              "#f0f921"
             ]
            ],
            "type": "histogram2d"
           }
          ],
          "histogram2dcontour": [
           {
            "colorbar": {
             "outlinewidth": 0,
             "ticks": ""
            },
            "colorscale": [
             [
              0,
              "#0d0887"
             ],
             [
              0.1111111111111111,
              "#46039f"
             ],
             [
              0.2222222222222222,
              "#7201a8"
             ],
             [
              0.3333333333333333,
              "#9c179e"
             ],
             [
              0.4444444444444444,
              "#bd3786"
             ],
             [
              0.5555555555555556,
              "#d8576b"
             ],
             [
              0.6666666666666666,
              "#ed7953"
             ],
             [
              0.7777777777777778,
              "#fb9f3a"
             ],
             [
              0.8888888888888888,
              "#fdca26"
             ],
             [
              1,
              "#f0f921"
             ]
            ],
            "type": "histogram2dcontour"
           }
          ],
          "mesh3d": [
           {
            "colorbar": {
             "outlinewidth": 0,
             "ticks": ""
            },
            "type": "mesh3d"
           }
          ],
          "parcoords": [
           {
            "line": {
             "colorbar": {
              "outlinewidth": 0,
              "ticks": ""
             }
            },
            "type": "parcoords"
           }
          ],
          "pie": [
           {
            "automargin": true,
            "type": "pie"
           }
          ],
          "scatter": [
           {
            "fillpattern": {
             "fillmode": "overlay",
             "size": 10,
             "solidity": 0.2
            },
            "type": "scatter"
           }
          ],
          "scatter3d": [
           {
            "line": {
             "colorbar": {
              "outlinewidth": 0,
              "ticks": ""
             }
            },
            "marker": {
             "colorbar": {
              "outlinewidth": 0,
              "ticks": ""
             }
            },
            "type": "scatter3d"
           }
          ],
          "scattercarpet": [
           {
            "marker": {
             "colorbar": {
              "outlinewidth": 0,
              "ticks": ""
             }
            },
            "type": "scattercarpet"
           }
          ],
          "scattergeo": [
           {
            "marker": {
             "colorbar": {
              "outlinewidth": 0,
              "ticks": ""
             }
            },
            "type": "scattergeo"
           }
          ],
          "scattergl": [
           {
            "marker": {
             "colorbar": {
              "outlinewidth": 0,
              "ticks": ""
             }
            },
            "type": "scattergl"
           }
          ],
          "scattermapbox": [
           {
            "marker": {
             "colorbar": {
              "outlinewidth": 0,
              "ticks": ""
             }
            },
            "type": "scattermapbox"
           }
          ],
          "scatterpolar": [
           {
            "marker": {
             "colorbar": {
              "outlinewidth": 0,
              "ticks": ""
             }
            },
            "type": "scatterpolar"
           }
          ],
          "scatterpolargl": [
           {
            "marker": {
             "colorbar": {
              "outlinewidth": 0,
              "ticks": ""
             }
            },
            "type": "scatterpolargl"
           }
          ],
          "scatterternary": [
           {
            "marker": {
             "colorbar": {
              "outlinewidth": 0,
              "ticks": ""
             }
            },
            "type": "scatterternary"
           }
          ],
          "surface": [
           {
            "colorbar": {
             "outlinewidth": 0,
             "ticks": ""
            },
            "colorscale": [
             [
              0,
              "#0d0887"
             ],
             [
              0.1111111111111111,
              "#46039f"
             ],
             [
              0.2222222222222222,
              "#7201a8"
             ],
             [
              0.3333333333333333,
              "#9c179e"
             ],
             [
              0.4444444444444444,
              "#bd3786"
             ],
             [
              0.5555555555555556,
              "#d8576b"
             ],
             [
              0.6666666666666666,
              "#ed7953"
             ],
             [
              0.7777777777777778,
              "#fb9f3a"
             ],
             [
              0.8888888888888888,
              "#fdca26"
             ],
             [
              1,
              "#f0f921"
             ]
            ],
            "type": "surface"
           }
          ],
          "table": [
           {
            "cells": {
             "fill": {
              "color": "#EBF0F8"
             },
             "line": {
              "color": "white"
             }
            },
            "header": {
             "fill": {
              "color": "#C8D4E3"
             },
             "line": {
              "color": "white"
             }
            },
            "type": "table"
           }
          ]
         },
         "layout": {
          "annotationdefaults": {
           "arrowcolor": "#2a3f5f",
           "arrowhead": 0,
           "arrowwidth": 1
          },
          "autotypenumbers": "strict",
          "coloraxis": {
           "colorbar": {
            "outlinewidth": 0,
            "ticks": ""
           }
          },
          "colorscale": {
           "diverging": [
            [
             0,
             "#8e0152"
            ],
            [
             0.1,
             "#c51b7d"
            ],
            [
             0.2,
             "#de77ae"
            ],
            [
             0.3,
             "#f1b6da"
            ],
            [
             0.4,
             "#fde0ef"
            ],
            [
             0.5,
             "#f7f7f7"
            ],
            [
             0.6,
             "#e6f5d0"
            ],
            [
             0.7,
             "#b8e186"
            ],
            [
             0.8,
             "#7fbc41"
            ],
            [
             0.9,
             "#4d9221"
            ],
            [
             1,
             "#276419"
            ]
           ],
           "sequential": [
            [
             0,
             "#0d0887"
            ],
            [
             0.1111111111111111,
             "#46039f"
            ],
            [
             0.2222222222222222,
             "#7201a8"
            ],
            [
             0.3333333333333333,
             "#9c179e"
            ],
            [
             0.4444444444444444,
             "#bd3786"
            ],
            [
             0.5555555555555556,
             "#d8576b"
            ],
            [
             0.6666666666666666,
             "#ed7953"
            ],
            [
             0.7777777777777778,
             "#fb9f3a"
            ],
            [
             0.8888888888888888,
             "#fdca26"
            ],
            [
             1,
             "#f0f921"
            ]
           ],
           "sequentialminus": [
            [
             0,
             "#0d0887"
            ],
            [
             0.1111111111111111,
             "#46039f"
            ],
            [
             0.2222222222222222,
             "#7201a8"
            ],
            [
             0.3333333333333333,
             "#9c179e"
            ],
            [
             0.4444444444444444,
             "#bd3786"
            ],
            [
             0.5555555555555556,
             "#d8576b"
            ],
            [
             0.6666666666666666,
             "#ed7953"
            ],
            [
             0.7777777777777778,
             "#fb9f3a"
            ],
            [
             0.8888888888888888,
             "#fdca26"
            ],
            [
             1,
             "#f0f921"
            ]
           ]
          },
          "colorway": [
           "#636efa",
           "#EF553B",
           "#00cc96",
           "#ab63fa",
           "#FFA15A",
           "#19d3f3",
           "#FF6692",
           "#B6E880",
           "#FF97FF",
           "#FECB52"
          ],
          "font": {
           "color": "#2a3f5f"
          },
          "geo": {
           "bgcolor": "white",
           "lakecolor": "white",
           "landcolor": "#E5ECF6",
           "showlakes": true,
           "showland": true,
           "subunitcolor": "white"
          },
          "hoverlabel": {
           "align": "left"
          },
          "hovermode": "closest",
          "mapbox": {
           "style": "light"
          },
          "paper_bgcolor": "white",
          "plot_bgcolor": "#E5ECF6",
          "polar": {
           "angularaxis": {
            "gridcolor": "white",
            "linecolor": "white",
            "ticks": ""
           },
           "bgcolor": "#E5ECF6",
           "radialaxis": {
            "gridcolor": "white",
            "linecolor": "white",
            "ticks": ""
           }
          },
          "scene": {
           "xaxis": {
            "backgroundcolor": "#E5ECF6",
            "gridcolor": "white",
            "gridwidth": 2,
            "linecolor": "white",
            "showbackground": true,
            "ticks": "",
            "zerolinecolor": "white"
           },
           "yaxis": {
            "backgroundcolor": "#E5ECF6",
            "gridcolor": "white",
            "gridwidth": 2,
            "linecolor": "white",
            "showbackground": true,
            "ticks": "",
            "zerolinecolor": "white"
           },
           "zaxis": {
            "backgroundcolor": "#E5ECF6",
            "gridcolor": "white",
            "gridwidth": 2,
            "linecolor": "white",
            "showbackground": true,
            "ticks": "",
            "zerolinecolor": "white"
           }
          },
          "shapedefaults": {
           "line": {
            "color": "#2a3f5f"
           }
          },
          "ternary": {
           "aaxis": {
            "gridcolor": "white",
            "linecolor": "white",
            "ticks": ""
           },
           "baxis": {
            "gridcolor": "white",
            "linecolor": "white",
            "ticks": ""
           },
           "bgcolor": "#E5ECF6",
           "caxis": {
            "gridcolor": "white",
            "linecolor": "white",
            "ticks": ""
           }
          },
          "title": {
           "x": 0.05
          },
          "xaxis": {
           "automargin": true,
           "gridcolor": "white",
           "linecolor": "white",
           "ticks": "",
           "title": {
            "standoff": 15
           },
           "zerolinecolor": "white",
           "zerolinewidth": 2
          },
          "yaxis": {
           "automargin": true,
           "gridcolor": "white",
           "linecolor": "white",
           "ticks": "",
           "title": {
            "standoff": 15
           },
           "zerolinecolor": "white",
           "zerolinewidth": 2
          }
         }
        },
        "xaxis": {
         "anchor": "y",
         "domain": [
          0,
          1
         ],
         "title": {
          "text": "Metric"
         }
        },
        "yaxis": {
         "anchor": "x",
         "domain": [
          0,
          1
         ],
         "title": {
          "text": "Rating"
         }
        }
       }
      }
     },
     "metadata": {},
     "output_type": "display_data"
    }
   ],
   "source": [
    "fig = px.bar(Data, x=\"Metric\",y=\"Rating\",color=\"Type\",barmode=\"group\")\n",
    "fig.show()"
   ]
  },
  {
   "cell_type": "code",
   "execution_count": 17,
   "metadata": {},
   "outputs": [],
   "source": [
    "books['Genre'] = books['Genre'].apply(src.map_genre)"
   ]
  },
  {
   "cell_type": "code",
   "execution_count": 18,
   "metadata": {},
   "outputs": [],
   "source": [
    "books.dropna(inplace=True)\n",
    "movies.dropna(inplace=True)\n",
    "books[\"Genre\"] = books[\"Genre\"].apply(lambda x: x.split(\"|\"))\n",
    "movies[\"Genre\"] = movies[\"Genre\"].apply(lambda x : x.split(\"|\"))"
   ]
  },
  {
   "cell_type": "code",
   "execution_count": 19,
   "metadata": {},
   "outputs": [],
   "source": [
    "genre_books = books[\"Genre\"].explode().value_counts().reset_index()\n",
    "genre_movies = movies[\"Genre\"].explode().value_counts().reset_index()"
   ]
  },
  {
   "cell_type": "code",
   "execution_count": 20,
   "metadata": {},
   "outputs": [],
   "source": [
    "genre_books[\"Type\"]= \"Book\"\n",
    "genre_movies[\"Type\"] = \"Movie\""
   ]
  },
  {
   "cell_type": "code",
   "execution_count": 21,
   "metadata": {},
   "outputs": [],
   "source": [
    "genre_total = pd.concat([genre_books,genre_movies])"
   ]
  },
  {
   "cell_type": "code",
   "execution_count": 22,
   "metadata": {},
   "outputs": [
    {
     "data": {
      "application/vnd.plotly.v1+json": {
       "config": {
        "plotlyServerURL": "https://plot.ly"
       },
       "data": [
        {
         "alignmentgroup": "True",
         "hovertemplate": "Type=Book<br>index=%{x}<br>Genre=%{y}<extra></extra>",
         "legendgroup": "Book",
         "marker": {
          "color": "#44CF6C",
          "pattern": {
           "shape": ""
          }
         },
         "name": "Book",
         "offsetgroup": "Book",
         "orientation": "v",
         "showlegend": true,
         "textposition": "auto",
         "type": "bar",
         "x": [
          "History",
          "Fantasy",
          "Mystery",
          "Adult",
          "Romance",
          "Biography",
          "Thriller",
          "Horror",
          "Crime",
          "Comedy",
          "Action",
          "Family",
          "Adventure",
          "Drama",
          "War",
          "Sports",
          "Music"
         ],
         "xaxis": "x",
         "y": [
          5159,
          2943,
          2556,
          2276,
          1842,
          1472,
          1431,
          1300,
          1050,
          885,
          714,
          645,
          460,
          441,
          345,
          58,
          25
         ],
         "yaxis": "y"
        },
        {
         "alignmentgroup": "True",
         "hovertemplate": "Type=Movie<br>index=%{x}<br>Genre=%{y}<extra></extra>",
         "legendgroup": "Movie",
         "marker": {
          "color": "#0E7C7B",
          "pattern": {
           "shape": ""
          }
         },
         "name": "Movie",
         "offsetgroup": "Movie",
         "orientation": "v",
         "showlegend": true,
         "textposition": "auto",
         "type": "bar",
         "x": [
          "Drama",
          "Action",
          "Comedy",
          "Adventure",
          "Crime",
          "Romance",
          "Thriller",
          "Horror",
          "Animation",
          "Family",
          "Documentary",
          "Mystery",
          "Music",
          "Biography",
          "History",
          "Short",
          "Sci-Fi",
          "Fantasy",
          "Musical",
          "Western",
          "War",
          "Sport",
          "Film-Noir",
          "Reality-TV",
          "News",
          "Talk-Show",
          "Game-Show",
          "Adult"
         ],
         "xaxis": "x",
         "y": [
          33514,
          28785,
          18851,
          12178,
          11769,
          8750,
          7824,
          6736,
          4973,
          4838,
          4722,
          4419,
          4328,
          4279,
          4265,
          3967,
          3960,
          3806,
          3667,
          3533,
          3353,
          2189,
          806,
          124,
          46,
          18,
          7,
          3
         ],
         "yaxis": "y"
        }
       ],
       "layout": {
        "barmode": "group",
        "font": {
         "color": "#00072D",
         "family": "Arial"
        },
        "legend": {
         "title": {
          "text": "Type"
         },
         "tracegroupgap": 0
        },
        "margin": {
         "t": 60
        },
        "paper_bgcolor": "#F7EBEC",
        "plot_bgcolor": "#E1D5D7",
        "template": {
         "data": {
          "bar": [
           {
            "error_x": {
             "color": "#2a3f5f"
            },
            "error_y": {
             "color": "#2a3f5f"
            },
            "marker": {
             "line": {
              "color": "#E5ECF6",
              "width": 0.5
             },
             "pattern": {
              "fillmode": "overlay",
              "size": 10,
              "solidity": 0.2
             }
            },
            "type": "bar"
           }
          ],
          "barpolar": [
           {
            "marker": {
             "line": {
              "color": "#E5ECF6",
              "width": 0.5
             },
             "pattern": {
              "fillmode": "overlay",
              "size": 10,
              "solidity": 0.2
             }
            },
            "type": "barpolar"
           }
          ],
          "carpet": [
           {
            "aaxis": {
             "endlinecolor": "#2a3f5f",
             "gridcolor": "white",
             "linecolor": "white",
             "minorgridcolor": "white",
             "startlinecolor": "#2a3f5f"
            },
            "baxis": {
             "endlinecolor": "#2a3f5f",
             "gridcolor": "white",
             "linecolor": "white",
             "minorgridcolor": "white",
             "startlinecolor": "#2a3f5f"
            },
            "type": "carpet"
           }
          ],
          "choropleth": [
           {
            "colorbar": {
             "outlinewidth": 0,
             "ticks": ""
            },
            "type": "choropleth"
           }
          ],
          "contour": [
           {
            "colorbar": {
             "outlinewidth": 0,
             "ticks": ""
            },
            "colorscale": [
             [
              0,
              "#0d0887"
             ],
             [
              0.1111111111111111,
              "#46039f"
             ],
             [
              0.2222222222222222,
              "#7201a8"
             ],
             [
              0.3333333333333333,
              "#9c179e"
             ],
             [
              0.4444444444444444,
              "#bd3786"
             ],
             [
              0.5555555555555556,
              "#d8576b"
             ],
             [
              0.6666666666666666,
              "#ed7953"
             ],
             [
              0.7777777777777778,
              "#fb9f3a"
             ],
             [
              0.8888888888888888,
              "#fdca26"
             ],
             [
              1,
              "#f0f921"
             ]
            ],
            "type": "contour"
           }
          ],
          "contourcarpet": [
           {
            "colorbar": {
             "outlinewidth": 0,
             "ticks": ""
            },
            "type": "contourcarpet"
           }
          ],
          "heatmap": [
           {
            "colorbar": {
             "outlinewidth": 0,
             "ticks": ""
            },
            "colorscale": [
             [
              0,
              "#0d0887"
             ],
             [
              0.1111111111111111,
              "#46039f"
             ],
             [
              0.2222222222222222,
              "#7201a8"
             ],
             [
              0.3333333333333333,
              "#9c179e"
             ],
             [
              0.4444444444444444,
              "#bd3786"
             ],
             [
              0.5555555555555556,
              "#d8576b"
             ],
             [
              0.6666666666666666,
              "#ed7953"
             ],
             [
              0.7777777777777778,
              "#fb9f3a"
             ],
             [
              0.8888888888888888,
              "#fdca26"
             ],
             [
              1,
              "#f0f921"
             ]
            ],
            "type": "heatmap"
           }
          ],
          "heatmapgl": [
           {
            "colorbar": {
             "outlinewidth": 0,
             "ticks": ""
            },
            "colorscale": [
             [
              0,
              "#0d0887"
             ],
             [
              0.1111111111111111,
              "#46039f"
             ],
             [
              0.2222222222222222,
              "#7201a8"
             ],
             [
              0.3333333333333333,
              "#9c179e"
             ],
             [
              0.4444444444444444,
              "#bd3786"
             ],
             [
              0.5555555555555556,
              "#d8576b"
             ],
             [
              0.6666666666666666,
              "#ed7953"
             ],
             [
              0.7777777777777778,
              "#fb9f3a"
             ],
             [
              0.8888888888888888,
              "#fdca26"
             ],
             [
              1,
              "#f0f921"
             ]
            ],
            "type": "heatmapgl"
           }
          ],
          "histogram": [
           {
            "marker": {
             "pattern": {
              "fillmode": "overlay",
              "size": 10,
              "solidity": 0.2
             }
            },
            "type": "histogram"
           }
          ],
          "histogram2d": [
           {
            "colorbar": {
             "outlinewidth": 0,
             "ticks": ""
            },
            "colorscale": [
             [
              0,
              "#0d0887"
             ],
             [
              0.1111111111111111,
              "#46039f"
             ],
             [
              0.2222222222222222,
              "#7201a8"
             ],
             [
              0.3333333333333333,
              "#9c179e"
             ],
             [
              0.4444444444444444,
              "#bd3786"
             ],
             [
              0.5555555555555556,
              "#d8576b"
             ],
             [
              0.6666666666666666,
              "#ed7953"
             ],
             [
              0.7777777777777778,
              "#fb9f3a"
             ],
             [
              0.8888888888888888,
              "#fdca26"
             ],
             [
              1,
              "#f0f921"
             ]
            ],
            "type": "histogram2d"
           }
          ],
          "histogram2dcontour": [
           {
            "colorbar": {
             "outlinewidth": 0,
             "ticks": ""
            },
            "colorscale": [
             [
              0,
              "#0d0887"
             ],
             [
              0.1111111111111111,
              "#46039f"
             ],
             [
              0.2222222222222222,
              "#7201a8"
             ],
             [
              0.3333333333333333,
              "#9c179e"
             ],
             [
              0.4444444444444444,
              "#bd3786"
             ],
             [
              0.5555555555555556,
              "#d8576b"
             ],
             [
              0.6666666666666666,
              "#ed7953"
             ],
             [
              0.7777777777777778,
              "#fb9f3a"
             ],
             [
              0.8888888888888888,
              "#fdca26"
             ],
             [
              1,
              "#f0f921"
             ]
            ],
            "type": "histogram2dcontour"
           }
          ],
          "mesh3d": [
           {
            "colorbar": {
             "outlinewidth": 0,
             "ticks": ""
            },
            "type": "mesh3d"
           }
          ],
          "parcoords": [
           {
            "line": {
             "colorbar": {
              "outlinewidth": 0,
              "ticks": ""
             }
            },
            "type": "parcoords"
           }
          ],
          "pie": [
           {
            "automargin": true,
            "type": "pie"
           }
          ],
          "scatter": [
           {
            "fillpattern": {
             "fillmode": "overlay",
             "size": 10,
             "solidity": 0.2
            },
            "type": "scatter"
           }
          ],
          "scatter3d": [
           {
            "line": {
             "colorbar": {
              "outlinewidth": 0,
              "ticks": ""
             }
            },
            "marker": {
             "colorbar": {
              "outlinewidth": 0,
              "ticks": ""
             }
            },
            "type": "scatter3d"
           }
          ],
          "scattercarpet": [
           {
            "marker": {
             "colorbar": {
              "outlinewidth": 0,
              "ticks": ""
             }
            },
            "type": "scattercarpet"
           }
          ],
          "scattergeo": [
           {
            "marker": {
             "colorbar": {
              "outlinewidth": 0,
              "ticks": ""
             }
            },
            "type": "scattergeo"
           }
          ],
          "scattergl": [
           {
            "marker": {
             "colorbar": {
              "outlinewidth": 0,
              "ticks": ""
             }
            },
            "type": "scattergl"
           }
          ],
          "scattermapbox": [
           {
            "marker": {
             "colorbar": {
              "outlinewidth": 0,
              "ticks": ""
             }
            },
            "type": "scattermapbox"
           }
          ],
          "scatterpolar": [
           {
            "marker": {
             "colorbar": {
              "outlinewidth": 0,
              "ticks": ""
             }
            },
            "type": "scatterpolar"
           }
          ],
          "scatterpolargl": [
           {
            "marker": {
             "colorbar": {
              "outlinewidth": 0,
              "ticks": ""
             }
            },
            "type": "scatterpolargl"
           }
          ],
          "scatterternary": [
           {
            "marker": {
             "colorbar": {
              "outlinewidth": 0,
              "ticks": ""
             }
            },
            "type": "scatterternary"
           }
          ],
          "surface": [
           {
            "colorbar": {
             "outlinewidth": 0,
             "ticks": ""
            },
            "colorscale": [
             [
              0,
              "#0d0887"
             ],
             [
              0.1111111111111111,
              "#46039f"
             ],
             [
              0.2222222222222222,
              "#7201a8"
             ],
             [
              0.3333333333333333,
              "#9c179e"
             ],
             [
              0.4444444444444444,
              "#bd3786"
             ],
             [
              0.5555555555555556,
              "#d8576b"
             ],
             [
              0.6666666666666666,
              "#ed7953"
             ],
             [
              0.7777777777777778,
              "#fb9f3a"
             ],
             [
              0.8888888888888888,
              "#fdca26"
             ],
             [
              1,
              "#f0f921"
             ]
            ],
            "type": "surface"
           }
          ],
          "table": [
           {
            "cells": {
             "fill": {
              "color": "#EBF0F8"
             },
             "line": {
              "color": "white"
             }
            },
            "header": {
             "fill": {
              "color": "#C8D4E3"
             },
             "line": {
              "color": "white"
             }
            },
            "type": "table"
           }
          ]
         },
         "layout": {
          "annotationdefaults": {
           "arrowcolor": "#2a3f5f",
           "arrowhead": 0,
           "arrowwidth": 1
          },
          "autotypenumbers": "strict",
          "coloraxis": {
           "colorbar": {
            "outlinewidth": 0,
            "ticks": ""
           }
          },
          "colorscale": {
           "diverging": [
            [
             0,
             "#8e0152"
            ],
            [
             0.1,
             "#c51b7d"
            ],
            [
             0.2,
             "#de77ae"
            ],
            [
             0.3,
             "#f1b6da"
            ],
            [
             0.4,
             "#fde0ef"
            ],
            [
             0.5,
             "#f7f7f7"
            ],
            [
             0.6,
             "#e6f5d0"
            ],
            [
             0.7,
             "#b8e186"
            ],
            [
             0.8,
             "#7fbc41"
            ],
            [
             0.9,
             "#4d9221"
            ],
            [
             1,
             "#276419"
            ]
           ],
           "sequential": [
            [
             0,
             "#0d0887"
            ],
            [
             0.1111111111111111,
             "#46039f"
            ],
            [
             0.2222222222222222,
             "#7201a8"
            ],
            [
             0.3333333333333333,
             "#9c179e"
            ],
            [
             0.4444444444444444,
             "#bd3786"
            ],
            [
             0.5555555555555556,
             "#d8576b"
            ],
            [
             0.6666666666666666,
             "#ed7953"
            ],
            [
             0.7777777777777778,
             "#fb9f3a"
            ],
            [
             0.8888888888888888,
             "#fdca26"
            ],
            [
             1,
             "#f0f921"
            ]
           ],
           "sequentialminus": [
            [
             0,
             "#0d0887"
            ],
            [
             0.1111111111111111,
             "#46039f"
            ],
            [
             0.2222222222222222,
             "#7201a8"
            ],
            [
             0.3333333333333333,
             "#9c179e"
            ],
            [
             0.4444444444444444,
             "#bd3786"
            ],
            [
             0.5555555555555556,
             "#d8576b"
            ],
            [
             0.6666666666666666,
             "#ed7953"
            ],
            [
             0.7777777777777778,
             "#fb9f3a"
            ],
            [
             0.8888888888888888,
             "#fdca26"
            ],
            [
             1,
             "#f0f921"
            ]
           ]
          },
          "colorway": [
           "#636efa",
           "#EF553B",
           "#00cc96",
           "#ab63fa",
           "#FFA15A",
           "#19d3f3",
           "#FF6692",
           "#B6E880",
           "#FF97FF",
           "#FECB52"
          ],
          "font": {
           "color": "#2a3f5f"
          },
          "geo": {
           "bgcolor": "white",
           "lakecolor": "white",
           "landcolor": "#E5ECF6",
           "showlakes": true,
           "showland": true,
           "subunitcolor": "white"
          },
          "hoverlabel": {
           "align": "left"
          },
          "hovermode": "closest",
          "mapbox": {
           "style": "light"
          },
          "paper_bgcolor": "white",
          "plot_bgcolor": "#E5ECF6",
          "polar": {
           "angularaxis": {
            "gridcolor": "white",
            "linecolor": "white",
            "ticks": ""
           },
           "bgcolor": "#E5ECF6",
           "radialaxis": {
            "gridcolor": "white",
            "linecolor": "white",
            "ticks": ""
           }
          },
          "scene": {
           "xaxis": {
            "backgroundcolor": "#E5ECF6",
            "gridcolor": "white",
            "gridwidth": 2,
            "linecolor": "white",
            "showbackground": true,
            "ticks": "",
            "zerolinecolor": "white"
           },
           "yaxis": {
            "backgroundcolor": "#E5ECF6",
            "gridcolor": "white",
            "gridwidth": 2,
            "linecolor": "white",
            "showbackground": true,
            "ticks": "",
            "zerolinecolor": "white"
           },
           "zaxis": {
            "backgroundcolor": "#E5ECF6",
            "gridcolor": "white",
            "gridwidth": 2,
            "linecolor": "white",
            "showbackground": true,
            "ticks": "",
            "zerolinecolor": "white"
           }
          },
          "shapedefaults": {
           "line": {
            "color": "#2a3f5f"
           }
          },
          "ternary": {
           "aaxis": {
            "gridcolor": "white",
            "linecolor": "white",
            "ticks": ""
           },
           "baxis": {
            "gridcolor": "white",
            "linecolor": "white",
            "ticks": ""
           },
           "bgcolor": "#E5ECF6",
           "caxis": {
            "gridcolor": "white",
            "linecolor": "white",
            "ticks": ""
           }
          },
          "title": {
           "x": 0.05
          },
          "xaxis": {
           "automargin": true,
           "gridcolor": "white",
           "linecolor": "white",
           "ticks": "",
           "title": {
            "standoff": 15
           },
           "zerolinecolor": "white",
           "zerolinewidth": 2
          },
          "yaxis": {
           "automargin": true,
           "gridcolor": "white",
           "linecolor": "white",
           "ticks": "",
           "title": {
            "standoff": 15
           },
           "zerolinecolor": "white",
           "zerolinewidth": 2
          }
         }
        },
        "xaxis": {
         "anchor": "y",
         "domain": [
          0,
          1
         ],
         "title": {
          "text": "index"
         }
        },
        "yaxis": {
         "anchor": "x",
         "domain": [
          0,
          1
         ],
         "title": {
          "text": "Genre"
         }
        }
       }
      }
     },
     "metadata": {},
     "output_type": "display_data"
    }
   ],
   "source": [
    "df = genre_total\n",
    "\n",
    "fig = px.bar(\n",
    "    genre_total,\n",
    "    x = \"index\",\n",
    "    y = \"Genre\",\n",
    "    color = \"Type\",\n",
    "    barmode=\"group\",\n",
    "    color_discrete_map = {\"Book\": \"#44CF6C\", \"Movie\": \"#0E7C7B\"})\n",
    "\n",
    "fig.update_layout(\n",
    "    plot_bgcolor = \"#E1D5D7\",\n",
    "    paper_bgcolor = \"#F7EBEC\",\n",
    "    font = dict(family = \"Arial\", color = \"#00072D\"))\n",
    "    \n",
    "fig.show()"
   ]
  },
  {
   "cell_type": "code",
   "execution_count": 23,
   "metadata": {},
   "outputs": [],
   "source": [
    "movies_2 = movies[movies[\"Votes\"]>80000]\n",
    "books_2 = books[books[\"Votes\"]>80000]"
   ]
  },
  {
   "cell_type": "code",
   "execution_count": 24,
   "metadata": {},
   "outputs": [
    {
     "data": {
      "text/html": [
       "<div>\n",
       "<style scoped>\n",
       "    .dataframe tbody tr th:only-of-type {\n",
       "        vertical-align: middle;\n",
       "    }\n",
       "\n",
       "    .dataframe tbody tr th {\n",
       "        vertical-align: top;\n",
       "    }\n",
       "\n",
       "    .dataframe thead th {\n",
       "        text-align: right;\n",
       "    }\n",
       "</style>\n",
       "<table border=\"1\" class=\"dataframe\">\n",
       "  <thead>\n",
       "    <tr style=\"text-align: right;\">\n",
       "      <th></th>\n",
       "      <th>Title</th>\n",
       "      <th>Image</th>\n",
       "      <th>Genre</th>\n",
       "      <th>Description</th>\n",
       "      <th>Rating</th>\n",
       "      <th>Votes</th>\n",
       "      <th>Directors</th>\n",
       "      <th>Stars</th>\n",
       "    </tr>\n",
       "  </thead>\n",
       "  <tbody>\n",
       "    <tr>\n",
       "      <th>1</th>\n",
       "      <td>John Wick 4</td>\n",
       "      <td>https://m.media-amazon.com/images/M/MV5BMDExZG...</td>\n",
       "      <td>[Action, Crime, Thriller]</td>\n",
       "      <td>John Wick uncovers a path to defeating The Hig...</td>\n",
       "      <td>8.3</td>\n",
       "      <td>106008</td>\n",
       "      <td>Chad Stahelski</td>\n",
       "      <td>Keanu Reeves| Laurence Fishburne| George Geor...</td>\n",
       "    </tr>\n",
       "  </tbody>\n",
       "</table>\n",
       "</div>"
      ],
      "text/plain": [
       "         Title                                              Image  \\\n",
       "1  John Wick 4  https://m.media-amazon.com/images/M/MV5BMDExZG...   \n",
       "\n",
       "                       Genre  \\\n",
       "1  [Action, Crime, Thriller]   \n",
       "\n",
       "                                         Description  Rating   Votes  \\\n",
       "1  John Wick uncovers a path to defeating The Hig...     8.3  106008   \n",
       "\n",
       "          Directors                                              Stars  \n",
       "1   Chad Stahelski    Keanu Reeves| Laurence Fishburne| George Geor...  "
      ]
     },
     "execution_count": 24,
     "metadata": {},
     "output_type": "execute_result"
    }
   ],
   "source": [
    "movies_2.head(1)"
   ]
  },
  {
   "cell_type": "code",
   "execution_count": 25,
   "metadata": {},
   "outputs": [
    {
     "data": {
      "text/html": [
       "<div>\n",
       "<style scoped>\n",
       "    .dataframe tbody tr th:only-of-type {\n",
       "        vertical-align: middle;\n",
       "    }\n",
       "\n",
       "    .dataframe tbody tr th {\n",
       "        vertical-align: top;\n",
       "    }\n",
       "\n",
       "    .dataframe thead th {\n",
       "        text-align: right;\n",
       "    }\n",
       "</style>\n",
       "<table border=\"1\" class=\"dataframe\">\n",
       "  <thead>\n",
       "    <tr style=\"text-align: right;\">\n",
       "      <th></th>\n",
       "      <th>Author</th>\n",
       "      <th>Image</th>\n",
       "      <th>Description</th>\n",
       "      <th>Rating</th>\n",
       "      <th>Votes</th>\n",
       "      <th>Title</th>\n",
       "      <th>Genre</th>\n",
       "    </tr>\n",
       "  </thead>\n",
       "  <tbody>\n",
       "    <tr>\n",
       "      <th>0</th>\n",
       "      <td>William Shakespeare</td>\n",
       "      <td>https://images-na.ssl-images-amazon.com/images...</td>\n",
       "      <td>In Romeo and Juliet, Shakespeare creates a vio...</td>\n",
       "      <td>7.48</td>\n",
       "      <td>2462752</td>\n",
       "      <td>Romeo and Juliet</td>\n",
       "      <td>[Romance]</td>\n",
       "    </tr>\n",
       "  </tbody>\n",
       "</table>\n",
       "</div>"
      ],
      "text/plain": [
       "                Author                                              Image  \\\n",
       "0  William Shakespeare  https://images-na.ssl-images-amazon.com/images...   \n",
       "\n",
       "                                         Description  Rating    Votes  \\\n",
       "0  In Romeo and Juliet, Shakespeare creates a vio...    7.48  2462752   \n",
       "\n",
       "              Title      Genre  \n",
       "0  Romeo and Juliet  [Romance]  "
      ]
     },
     "execution_count": 25,
     "metadata": {},
     "output_type": "execute_result"
    }
   ],
   "source": [
    "books_2.head(1)"
   ]
  },
  {
   "cell_type": "code",
   "execution_count": 26,
   "metadata": {},
   "outputs": [],
   "source": [
    "books_exploded = pd.DataFrame({\"Image\":books_2[\"Image\"],\"Title\": books_2[\"Title\"],\"Author\":books_2[\"Author\"], \"Rating\": books_2[\"Rating\"],\"Description\":books_2[\"Description\"],\"Genre\":books_2[\"Genre\"]})\n",
    "movies_exploded = pd.DataFrame({\"Image\":movies_2[\"Image\"],\"Title\": movies_2[\"Title\"],\"Directors\":movies_2[\"Directors\"], \"Rating\": movies_2[\"Rating\"],\"Description\": movies_2[\"Description\"],\"Genre\":movies_2[\"Genre\"]})\n"
   ]
  },
  {
   "cell_type": "code",
   "execution_count": 27,
   "metadata": {},
   "outputs": [],
   "source": [
    "books_exploded = books_exploded.explode(\"Genre\").reset_index(drop=True)\n",
    "movies_exploded = movies_exploded.explode(\"Genre\").reset_index(drop=True)"
   ]
  },
  {
   "cell_type": "code",
   "execution_count": 28,
   "metadata": {},
   "outputs": [],
   "source": [
    "def best_books(genre):\n",
    "    books_exploded = pd.read_csv(\"../Data/Books_exploded.csv\",index_col=0)\n",
    "    \n",
    "    books_genre = books_exploded[books_exploded[\"Genre\"] == genre ]\n",
    "    top_10_gen = books_genre.sort_values(by=\"Rating\",ascending=False).head(10)\n",
    "    top_10_gen.drop(\"Genre\",axis=1,inplace=True)\n",
    "    return top_10_gen"
   ]
  },
  {
   "cell_type": "code",
   "execution_count": 29,
   "metadata": {},
   "outputs": [
    {
     "data": {
      "text/html": [
       "<div>\n",
       "<style scoped>\n",
       "    .dataframe tbody tr th:only-of-type {\n",
       "        vertical-align: middle;\n",
       "    }\n",
       "\n",
       "    .dataframe tbody tr th {\n",
       "        vertical-align: top;\n",
       "    }\n",
       "\n",
       "    .dataframe thead th {\n",
       "        text-align: right;\n",
       "    }\n",
       "</style>\n",
       "<table border=\"1\" class=\"dataframe\">\n",
       "  <thead>\n",
       "    <tr style=\"text-align: right;\">\n",
       "      <th></th>\n",
       "      <th>Image</th>\n",
       "      <th>Title</th>\n",
       "      <th>Author</th>\n",
       "      <th>Rating</th>\n",
       "      <th>Description</th>\n",
       "    </tr>\n",
       "  </thead>\n",
       "  <tbody>\n",
       "    <tr>\n",
       "      <th>3538</th>\n",
       "      <td>https://images-na.ssl-images-amazon.com/images...</td>\n",
       "      <td>Paint It All Red</td>\n",
       "      <td>S.T. Abby</td>\n",
       "      <td>9.16</td>\n",
       "      <td>Hush, little baby, don't say a word...  Will L...</td>\n",
       "    </tr>\n",
       "    <tr>\n",
       "      <th>3530</th>\n",
       "      <td>https://images-na.ssl-images-amazon.com/images...</td>\n",
       "      <td>All the Lies</td>\n",
       "      <td>S.T. Abby</td>\n",
       "      <td>9.08</td>\n",
       "      <td>To understand the monsters in the world, you h...</td>\n",
       "    </tr>\n",
       "    <tr>\n",
       "      <th>203</th>\n",
       "      <td>https://images-na.ssl-images-amazon.com/images...</td>\n",
       "      <td>The Green Mile</td>\n",
       "      <td>Stephen King</td>\n",
       "      <td>8.94</td>\n",
       "      <td>At Cold Mountain Penitentiary, along the lonel...</td>\n",
       "    </tr>\n",
       "    <tr>\n",
       "      <th>3517</th>\n",
       "      <td>https://images-na.ssl-images-amazon.com/images...</td>\n",
       "      <td>Scarlet Angel</td>\n",
       "      <td>S.T. Abby</td>\n",
       "      <td>8.84</td>\n",
       "      <td>To kill a monster, you have to be twice as mon...</td>\n",
       "    </tr>\n",
       "    <tr>\n",
       "      <th>121</th>\n",
       "      <td>https://images-na.ssl-images-amazon.com/images...</td>\n",
       "      <td>The Godfather</td>\n",
       "      <td>Mario Puzo</td>\n",
       "      <td>8.76</td>\n",
       "      <td>The Godfather—the epic tale of crime and betra...</td>\n",
       "    </tr>\n",
       "    <tr>\n",
       "      <th>296</th>\n",
       "      <td>https://images-na.ssl-images-amazon.com/images...</td>\n",
       "      <td>Verity</td>\n",
       "      <td>Colleen Hoover</td>\n",
       "      <td>8.72</td>\n",
       "      <td>Lowen Ashleigh is a struggling writer on the b...</td>\n",
       "    </tr>\n",
       "    <tr>\n",
       "      <th>3285</th>\n",
       "      <td>https://images-na.ssl-images-amazon.com/images...</td>\n",
       "      <td>Troubled Blood</td>\n",
       "      <td>Robert Galbraith</td>\n",
       "      <td>8.72</td>\n",
       "      <td>Private Detective Cormoran Strike is visiting ...</td>\n",
       "    </tr>\n",
       "    <tr>\n",
       "      <th>3525</th>\n",
       "      <td>https://images-na.ssl-images-amazon.com/images...</td>\n",
       "      <td>Firekeeper's Daughter</td>\n",
       "      <td>Angeline Boulley</td>\n",
       "      <td>8.70</td>\n",
       "      <td>As a biracial, unenrolled tribal member and th...</td>\n",
       "    </tr>\n",
       "    <tr>\n",
       "      <th>371</th>\n",
       "      <td>https://images-na.ssl-images-amazon.com/images...</td>\n",
       "      <td>Different Seasons</td>\n",
       "      <td>Stephen King</td>\n",
       "      <td>8.70</td>\n",
       "      <td>This Book is in Good Condition. Used Copy With...</td>\n",
       "    </tr>\n",
       "    <tr>\n",
       "      <th>3226</th>\n",
       "      <td>https://images-na.ssl-images-amazon.com/images...</td>\n",
       "      <td>A Good Girl's Guide to Murder</td>\n",
       "      <td>Holly Jackson</td>\n",
       "      <td>8.70</td>\n",
       "      <td>The case is closed. Five years ago, schoolgirl...</td>\n",
       "    </tr>\n",
       "  </tbody>\n",
       "</table>\n",
       "</div>"
      ],
      "text/plain": [
       "                                                  Image  \\\n",
       "3538  https://images-na.ssl-images-amazon.com/images...   \n",
       "3530  https://images-na.ssl-images-amazon.com/images...   \n",
       "203   https://images-na.ssl-images-amazon.com/images...   \n",
       "3517  https://images-na.ssl-images-amazon.com/images...   \n",
       "121   https://images-na.ssl-images-amazon.com/images...   \n",
       "296   https://images-na.ssl-images-amazon.com/images...   \n",
       "3285  https://images-na.ssl-images-amazon.com/images...   \n",
       "3525  https://images-na.ssl-images-amazon.com/images...   \n",
       "371   https://images-na.ssl-images-amazon.com/images...   \n",
       "3226  https://images-na.ssl-images-amazon.com/images...   \n",
       "\n",
       "                              Title            Author  Rating  \\\n",
       "3538               Paint It All Red         S.T. Abby    9.16   \n",
       "3530                   All the Lies         S.T. Abby    9.08   \n",
       "203                  The Green Mile      Stephen King    8.94   \n",
       "3517                  Scarlet Angel         S.T. Abby    8.84   \n",
       "121                   The Godfather        Mario Puzo    8.76   \n",
       "296                          Verity    Colleen Hoover    8.72   \n",
       "3285                 Troubled Blood  Robert Galbraith    8.72   \n",
       "3525          Firekeeper's Daughter  Angeline Boulley    8.70   \n",
       "371               Different Seasons      Stephen King    8.70   \n",
       "3226  A Good Girl's Guide to Murder     Holly Jackson    8.70   \n",
       "\n",
       "                                            Description  \n",
       "3538  Hush, little baby, don't say a word...  Will L...  \n",
       "3530  To understand the monsters in the world, you h...  \n",
       "203   At Cold Mountain Penitentiary, along the lonel...  \n",
       "3517  To kill a monster, you have to be twice as mon...  \n",
       "121   The Godfather—the epic tale of crime and betra...  \n",
       "296   Lowen Ashleigh is a struggling writer on the b...  \n",
       "3285  Private Detective Cormoran Strike is visiting ...  \n",
       "3525  As a biracial, unenrolled tribal member and th...  \n",
       "371   This Book is in Good Condition. Used Copy With...  \n",
       "3226  The case is closed. Five years ago, schoolgirl...  "
      ]
     },
     "execution_count": 29,
     "metadata": {},
     "output_type": "execute_result"
    }
   ],
   "source": [
    "best_books(\"Thriller\")"
   ]
  },
  {
   "cell_type": "code",
   "execution_count": 30,
   "metadata": {},
   "outputs": [],
   "source": [
    "def best_movies(genre):\n",
    "    movies_exploded = pd.read_csv(\"../Data/Movies_exploded.csv\",index_col=0)\n",
    "    \n",
    "    movies_genre = movies_exploded[movies_exploded[\"Genre\"] == genre ]\n",
    "    \n",
    "    top_10_gen = movies_genre.sort_values(by=\"Rating\",ascending=False).head(10)\n",
    "    top_10_gen.drop(\"Genre\",axis=1,inplace=True)\n",
    "    return top_10_gen"
   ]
  },
  {
   "cell_type": "code",
   "execution_count": 31,
   "metadata": {},
   "outputs": [
    {
     "data": {
      "text/html": [
       "<div>\n",
       "<style scoped>\n",
       "    .dataframe tbody tr th:only-of-type {\n",
       "        vertical-align: middle;\n",
       "    }\n",
       "\n",
       "    .dataframe tbody tr th {\n",
       "        vertical-align: top;\n",
       "    }\n",
       "\n",
       "    .dataframe thead th {\n",
       "        text-align: right;\n",
       "    }\n",
       "</style>\n",
       "<table border=\"1\" class=\"dataframe\">\n",
       "  <thead>\n",
       "    <tr style=\"text-align: right;\">\n",
       "      <th></th>\n",
       "      <th>Image</th>\n",
       "      <th>Title</th>\n",
       "      <th>Directors</th>\n",
       "      <th>Rating</th>\n",
       "      <th>Description</th>\n",
       "    </tr>\n",
       "  </thead>\n",
       "  <tbody>\n",
       "    <tr>\n",
       "      <th>5316</th>\n",
       "      <td>https://m.media-amazon.com/images/S/sash/4Fyxw...</td>\n",
       "      <td>El silencio de los corderos</td>\n",
       "      <td>Jonathan Demme</td>\n",
       "      <td>8.6</td>\n",
       "      <td>A young F.B.I. cadet must receive the help of ...</td>\n",
       "    </tr>\n",
       "    <tr>\n",
       "      <th>5307</th>\n",
       "      <td>https://m.media-amazon.com/images/S/sash/4Fyxw...</td>\n",
       "      <td>Infiltrados</td>\n",
       "      <td>Martin Scorsese</td>\n",
       "      <td>8.5</td>\n",
       "      <td>An undercover cop and a mole in the police att...</td>\n",
       "    </tr>\n",
       "    <tr>\n",
       "      <th>6802</th>\n",
       "      <td>https://m.media-amazon.com/images/S/sash/4Fyxw...</td>\n",
       "      <td>La ventana indiscreta</td>\n",
       "      <td>Alfred Hitchcock</td>\n",
       "      <td>8.5</td>\n",
       "      <td>A wheelchair-bound photographer spies on his n...</td>\n",
       "    </tr>\n",
       "    <tr>\n",
       "      <th>6720</th>\n",
       "      <td>https://m.media-amazon.com/images/S/sash/4Fyxw...</td>\n",
       "      <td>Psicosis</td>\n",
       "      <td>Alfred Hitchcock</td>\n",
       "      <td>8.5</td>\n",
       "      <td>A Phoenix secretary embezzles $40,000 from her...</td>\n",
       "    </tr>\n",
       "    <tr>\n",
       "      <th>5833</th>\n",
       "      <td>https://m.media-amazon.com/images/S/sash/4Fyxw...</td>\n",
       "      <td>Parásitos</td>\n",
       "      <td>Bong Joon Ho</td>\n",
       "      <td>8.5</td>\n",
       "      <td>Greed and class discrimination threaten the ne...</td>\n",
       "    </tr>\n",
       "    <tr>\n",
       "      <th>260</th>\n",
       "      <td>https://m.media-amazon.com/images/S/sash/4Fyxw...</td>\n",
       "      <td>El caballero oscuro: La leyenda renace</td>\n",
       "      <td>Christopher Nolan</td>\n",
       "      <td>8.4</td>\n",
       "      <td>Eight years after the Joker's reign of chaos, ...</td>\n",
       "    </tr>\n",
       "    <tr>\n",
       "      <th>6077</th>\n",
       "      <td>https://m.media-amazon.com/images/S/sash/4Fyxw...</td>\n",
       "      <td>La vida de los otros</td>\n",
       "      <td>Florian Henckel von Donnersmarck</td>\n",
       "      <td>8.4</td>\n",
       "      <td>In 1984 East Berlin, an agent of the secret po...</td>\n",
       "    </tr>\n",
       "    <tr>\n",
       "      <th>5940</th>\n",
       "      <td>https://m.media-amazon.com/images/S/sash/4Fyxw...</td>\n",
       "      <td>Masacre (Ven y mira)</td>\n",
       "      <td>Elem Klimov</td>\n",
       "      <td>8.4</td>\n",
       "      <td>After finding an old rifle, a young boy joins ...</td>\n",
       "    </tr>\n",
       "    <tr>\n",
       "      <th>6722</th>\n",
       "      <td>https://m.media-amazon.com/images/S/sash/4Fyxw...</td>\n",
       "      <td>Memento</td>\n",
       "      <td>Christopher Nolan</td>\n",
       "      <td>8.4</td>\n",
       "      <td>A man with short-term memory loss attempts to ...</td>\n",
       "    </tr>\n",
       "    <tr>\n",
       "      <th>5351</th>\n",
       "      <td>https://m.media-amazon.com/images/S/sash/4Fyxw...</td>\n",
       "      <td>Reservoir Dogs</td>\n",
       "      <td>Quentin Tarantino</td>\n",
       "      <td>8.3</td>\n",
       "      <td>When a simple jewelry heist goes horribly wron...</td>\n",
       "    </tr>\n",
       "  </tbody>\n",
       "</table>\n",
       "</div>"
      ],
      "text/plain": [
       "                                                  Image  \\\n",
       "5316  https://m.media-amazon.com/images/S/sash/4Fyxw...   \n",
       "5307  https://m.media-amazon.com/images/S/sash/4Fyxw...   \n",
       "6802  https://m.media-amazon.com/images/S/sash/4Fyxw...   \n",
       "6720  https://m.media-amazon.com/images/S/sash/4Fyxw...   \n",
       "5833  https://m.media-amazon.com/images/S/sash/4Fyxw...   \n",
       "260   https://m.media-amazon.com/images/S/sash/4Fyxw...   \n",
       "6077  https://m.media-amazon.com/images/S/sash/4Fyxw...   \n",
       "5940  https://m.media-amazon.com/images/S/sash/4Fyxw...   \n",
       "6722  https://m.media-amazon.com/images/S/sash/4Fyxw...   \n",
       "5351  https://m.media-amazon.com/images/S/sash/4Fyxw...   \n",
       "\n",
       "                                       Title  \\\n",
       "5316             El silencio de los corderos   \n",
       "5307                             Infiltrados   \n",
       "6802                   La ventana indiscreta   \n",
       "6720                                Psicosis   \n",
       "5833                               Parásitos   \n",
       "260   El caballero oscuro: La leyenda renace   \n",
       "6077                    La vida de los otros   \n",
       "5940                    Masacre (Ven y mira)   \n",
       "6722                                 Memento   \n",
       "5351                          Reservoir Dogs   \n",
       "\n",
       "                               Directors  Rating  \\\n",
       "5316                     Jonathan Demme      8.6   \n",
       "5307                    Martin Scorsese      8.5   \n",
       "6802                   Alfred Hitchcock      8.5   \n",
       "6720                   Alfred Hitchcock      8.5   \n",
       "5833                       Bong Joon Ho      8.5   \n",
       "260                   Christopher Nolan      8.4   \n",
       "6077   Florian Henckel von Donnersmarck      8.4   \n",
       "5940                        Elem Klimov      8.4   \n",
       "6722                  Christopher Nolan      8.4   \n",
       "5351                  Quentin Tarantino      8.3   \n",
       "\n",
       "                                            Description  \n",
       "5316  A young F.B.I. cadet must receive the help of ...  \n",
       "5307  An undercover cop and a mole in the police att...  \n",
       "6802  A wheelchair-bound photographer spies on his n...  \n",
       "6720  A Phoenix secretary embezzles $40,000 from her...  \n",
       "5833  Greed and class discrimination threaten the ne...  \n",
       "260   Eight years after the Joker's reign of chaos, ...  \n",
       "6077  In 1984 East Berlin, an agent of the secret po...  \n",
       "5940  After finding an old rifle, a young boy joins ...  \n",
       "6722  A man with short-term memory loss attempts to ...  \n",
       "5351  When a simple jewelry heist goes horribly wron...  "
      ]
     },
     "execution_count": 31,
     "metadata": {},
     "output_type": "execute_result"
    }
   ],
   "source": [
    "best_movies(\"Thriller\")"
   ]
  },
  {
   "cell_type": "code",
   "execution_count": 32,
   "metadata": {},
   "outputs": [
    {
     "data": {
      "text/html": [
       "<div>\n",
       "<style scoped>\n",
       "    .dataframe tbody tr th:only-of-type {\n",
       "        vertical-align: middle;\n",
       "    }\n",
       "\n",
       "    .dataframe tbody tr th {\n",
       "        vertical-align: top;\n",
       "    }\n",
       "\n",
       "    .dataframe thead th {\n",
       "        text-align: right;\n",
       "    }\n",
       "</style>\n",
       "<table border=\"1\" class=\"dataframe\">\n",
       "  <thead>\n",
       "    <tr style=\"text-align: right;\">\n",
       "      <th></th>\n",
       "      <th>Image</th>\n",
       "      <th>Title</th>\n",
       "      <th>Author</th>\n",
       "      <th>Rating</th>\n",
       "      <th>Description</th>\n",
       "    </tr>\n",
       "  </thead>\n",
       "  <tbody>\n",
       "    <tr>\n",
       "      <th>3538</th>\n",
       "      <td>https://images-na.ssl-images-amazon.com/images...</td>\n",
       "      <td>Paint It All Red</td>\n",
       "      <td>S.T. Abby</td>\n",
       "      <td>9.16</td>\n",
       "      <td>Hush, little baby, don't say a word...  Will L...</td>\n",
       "    </tr>\n",
       "    <tr>\n",
       "      <th>3530</th>\n",
       "      <td>https://images-na.ssl-images-amazon.com/images...</td>\n",
       "      <td>All the Lies</td>\n",
       "      <td>S.T. Abby</td>\n",
       "      <td>9.08</td>\n",
       "      <td>To understand the monsters in the world, you h...</td>\n",
       "    </tr>\n",
       "    <tr>\n",
       "      <th>203</th>\n",
       "      <td>https://images-na.ssl-images-amazon.com/images...</td>\n",
       "      <td>The Green Mile</td>\n",
       "      <td>Stephen King</td>\n",
       "      <td>8.94</td>\n",
       "      <td>At Cold Mountain Penitentiary, along the lonel...</td>\n",
       "    </tr>\n",
       "    <tr>\n",
       "      <th>3517</th>\n",
       "      <td>https://images-na.ssl-images-amazon.com/images...</td>\n",
       "      <td>Scarlet Angel</td>\n",
       "      <td>S.T. Abby</td>\n",
       "      <td>8.84</td>\n",
       "      <td>To kill a monster, you have to be twice as mon...</td>\n",
       "    </tr>\n",
       "    <tr>\n",
       "      <th>121</th>\n",
       "      <td>https://images-na.ssl-images-amazon.com/images...</td>\n",
       "      <td>The Godfather</td>\n",
       "      <td>Mario Puzo</td>\n",
       "      <td>8.76</td>\n",
       "      <td>The Godfather—the epic tale of crime and betra...</td>\n",
       "    </tr>\n",
       "    <tr>\n",
       "      <th>296</th>\n",
       "      <td>https://images-na.ssl-images-amazon.com/images...</td>\n",
       "      <td>Verity</td>\n",
       "      <td>Colleen Hoover</td>\n",
       "      <td>8.72</td>\n",
       "      <td>Lowen Ashleigh is a struggling writer on the b...</td>\n",
       "    </tr>\n",
       "    <tr>\n",
       "      <th>3285</th>\n",
       "      <td>https://images-na.ssl-images-amazon.com/images...</td>\n",
       "      <td>Troubled Blood</td>\n",
       "      <td>Robert Galbraith</td>\n",
       "      <td>8.72</td>\n",
       "      <td>Private Detective Cormoran Strike is visiting ...</td>\n",
       "    </tr>\n",
       "    <tr>\n",
       "      <th>3525</th>\n",
       "      <td>https://images-na.ssl-images-amazon.com/images...</td>\n",
       "      <td>Firekeeper's Daughter</td>\n",
       "      <td>Angeline Boulley</td>\n",
       "      <td>8.70</td>\n",
       "      <td>As a biracial, unenrolled tribal member and th...</td>\n",
       "    </tr>\n",
       "    <tr>\n",
       "      <th>371</th>\n",
       "      <td>https://images-na.ssl-images-amazon.com/images...</td>\n",
       "      <td>Different Seasons</td>\n",
       "      <td>Stephen King</td>\n",
       "      <td>8.70</td>\n",
       "      <td>This Book is in Good Condition. Used Copy With...</td>\n",
       "    </tr>\n",
       "    <tr>\n",
       "      <th>3226</th>\n",
       "      <td>https://images-na.ssl-images-amazon.com/images...</td>\n",
       "      <td>A Good Girl's Guide to Murder</td>\n",
       "      <td>Holly Jackson</td>\n",
       "      <td>8.70</td>\n",
       "      <td>The case is closed. Five years ago, schoolgirl...</td>\n",
       "    </tr>\n",
       "  </tbody>\n",
       "</table>\n",
       "</div>"
      ],
      "text/plain": [
       "                                                  Image  \\\n",
       "3538  https://images-na.ssl-images-amazon.com/images...   \n",
       "3530  https://images-na.ssl-images-amazon.com/images...   \n",
       "203   https://images-na.ssl-images-amazon.com/images...   \n",
       "3517  https://images-na.ssl-images-amazon.com/images...   \n",
       "121   https://images-na.ssl-images-amazon.com/images...   \n",
       "296   https://images-na.ssl-images-amazon.com/images...   \n",
       "3285  https://images-na.ssl-images-amazon.com/images...   \n",
       "3525  https://images-na.ssl-images-amazon.com/images...   \n",
       "371   https://images-na.ssl-images-amazon.com/images...   \n",
       "3226  https://images-na.ssl-images-amazon.com/images...   \n",
       "\n",
       "                              Title            Author  Rating  \\\n",
       "3538               Paint It All Red         S.T. Abby    9.16   \n",
       "3530                   All the Lies         S.T. Abby    9.08   \n",
       "203                  The Green Mile      Stephen King    8.94   \n",
       "3517                  Scarlet Angel         S.T. Abby    8.84   \n",
       "121                   The Godfather        Mario Puzo    8.76   \n",
       "296                          Verity    Colleen Hoover    8.72   \n",
       "3285                 Troubled Blood  Robert Galbraith    8.72   \n",
       "3525          Firekeeper's Daughter  Angeline Boulley    8.70   \n",
       "371               Different Seasons      Stephen King    8.70   \n",
       "3226  A Good Girl's Guide to Murder     Holly Jackson    8.70   \n",
       "\n",
       "                                            Description  \n",
       "3538  Hush, little baby, don't say a word...  Will L...  \n",
       "3530  To understand the monsters in the world, you h...  \n",
       "203   At Cold Mountain Penitentiary, along the lonel...  \n",
       "3517  To kill a monster, you have to be twice as mon...  \n",
       "121   The Godfather—the epic tale of crime and betra...  \n",
       "296   Lowen Ashleigh is a struggling writer on the b...  \n",
       "3285  Private Detective Cormoran Strike is visiting ...  \n",
       "3525  As a biracial, unenrolled tribal member and th...  \n",
       "371   This Book is in Good Condition. Used Copy With...  \n",
       "3226  The case is closed. Five years ago, schoolgirl...  "
      ]
     },
     "execution_count": 32,
     "metadata": {},
     "output_type": "execute_result"
    }
   ],
   "source": [
    "best_books(\"Thriller\")"
   ]
  },
  {
   "cell_type": "code",
   "execution_count": 33,
   "metadata": {},
   "outputs": [],
   "source": [
    "books_exploded.to_csv(\"../Data/Books_exploded.csv\")\n",
    "movies_exploded.to_csv(\"../Data/Movies_exploded.csv\")"
   ]
  }
 ],
 "metadata": {
  "kernelspec": {
   "display_name": "ironhack",
   "language": "python",
   "name": "python3"
  },
  "language_info": {
   "codemirror_mode": {
    "name": "ipython",
    "version": 3
   },
   "file_extension": ".py",
   "mimetype": "text/x-python",
   "name": "python",
   "nbconvert_exporter": "python",
   "pygments_lexer": "ipython3",
   "version": "3.9.13"
  },
  "orig_nbformat": 4
 },
 "nbformat": 4,
 "nbformat_minor": 2
}
