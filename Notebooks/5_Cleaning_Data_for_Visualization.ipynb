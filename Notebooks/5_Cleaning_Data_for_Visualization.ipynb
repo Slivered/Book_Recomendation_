{
 "cells": [
  {
   "cell_type": "code",
   "execution_count": 6,
   "metadata": {},
   "outputs": [],
   "source": [
    "import pandas as pd\n",
    "import matplotlib.pyplot as plt\n",
    "import plotly.express as px\n",
    "\n",
    "import sys\n",
    "sys.path.append(\"../\")\n",
    "import src.Resources as src"
   ]
  },
  {
   "cell_type": "code",
   "execution_count": 7,
   "metadata": {},
   "outputs": [],
   "source": [
    "movies = pd.read_csv('../Data/Movies_clean.csv', index_col= 0)  \n",
    "books = pd.read_csv('../Data/Books_clean.csv', index_col= 0)  "
   ]
  },
  {
   "attachments": {},
   "cell_type": "markdown",
   "metadata": {},
   "source": [
    "We drop any duplicates titles"
   ]
  },
  {
   "cell_type": "code",
   "execution_count": 8,
   "metadata": {},
   "outputs": [],
   "source": [
    "movies[\"Stars\"].fillna(\"Nostars\",inplace=True)\n",
    "movies.drop_duplicates(inplace=True)\n",
    "movies = movies.drop_duplicates(subset=\"Title\")\n",
    "movies = movies.reset_index()\n",
    "movies = movies.drop(\"index\",axis=1)\n",
    "\n",
    "books[\"Description\"].fillna(\"No description\",inplace=True)\n",
    "books.drop_duplicates(inplace=True)\n",
    "books = books.drop_duplicates(subset=\"Title\")\n",
    "books = books.reset_index()\n",
    "books = books.drop(\"index\",axis=1)"
   ]
  },
  {
   "attachments": {},
   "cell_type": "markdown",
   "metadata": {},
   "source": [
    "We split these columns by this character |"
   ]
  },
  {
   "cell_type": "code",
   "execution_count": 9,
   "metadata": {},
   "outputs": [],
   "source": [
    "director = movies[\"Directors\"].apply(lambda x: x.split(\"|\"))\n",
    "m_genre = movies[\"Genre\"].apply(lambda x: x.split(\"|\"))\n",
    "stars = movies[\"Stars\"].apply(lambda x: x.split(\"|\"))\n",
    "b_genre = books[\"Genre\"].apply(lambda x: x.split(\"|\"))"
   ]
  },
  {
   "attachments": {},
   "cell_type": "markdown",
   "metadata": {},
   "source": [
    "We explode some columns and get their unique values"
   ]
  },
  {
   "cell_type": "code",
   "execution_count": 10,
   "metadata": {},
   "outputs": [],
   "source": [
    "n_directors = len(director.explode().unique())\n",
    "movie_genres = len(m_genre.explode().unique())\n",
    "movie_stars = len(stars.explode().unique())\n",
    "book_genre = len(b_genre.explode().unique())\n",
    "n_authors = books[\"Author\"].nunique()\n",
    "n_titles = books[\"Title\"].nunique()\n",
    "n_titles_m = movies[\"Title\"].nunique()"
   ]
  },
  {
   "attachments": {},
   "cell_type": "markdown",
   "metadata": {},
   "source": [
    "These will be our big numbers"
   ]
  },
  {
   "cell_type": "code",
   "execution_count": 11,
   "metadata": {},
   "outputs": [],
   "source": [
    "Bignumbers = pd.DataFrame([n_authors], columns=[\"Book_Authors\"])\n",
    "Bignumbers[\"Movie_directors\"] = n_directors\n",
    "Bignumbers[\"Movie_stars\"] = movie_stars\n",
    "Bignumbers[\"Book_titles\"] = n_titles\n",
    "Bignumbers[\"Movie_titles\"] = n_titles_m\n",
    "Bignumbers[\"Book_genres\"] = book_genre\n",
    "Bignumbers[\"Movie_genres\"] = movie_genres"
   ]
  },
  {
   "cell_type": "code",
   "execution_count": 12,
   "metadata": {},
   "outputs": [
    {
     "data": {
      "text/html": [
       "<div>\n",
       "<style scoped>\n",
       "    .dataframe tbody tr th:only-of-type {\n",
       "        vertical-align: middle;\n",
       "    }\n",
       "\n",
       "    .dataframe tbody tr th {\n",
       "        vertical-align: top;\n",
       "    }\n",
       "\n",
       "    .dataframe thead th {\n",
       "        text-align: right;\n",
       "    }\n",
       "</style>\n",
       "<table border=\"1\" class=\"dataframe\">\n",
       "  <thead>\n",
       "    <tr style=\"text-align: right;\">\n",
       "      <th></th>\n",
       "      <th>Book_Authors</th>\n",
       "      <th>Movie_directors</th>\n",
       "      <th>Movie_stars</th>\n",
       "      <th>Book_titles</th>\n",
       "      <th>Movie_titles</th>\n",
       "      <th>Book_genres</th>\n",
       "      <th>Movie_genres</th>\n",
       "    </tr>\n",
       "  </thead>\n",
       "  <tbody>\n",
       "    <tr>\n",
       "      <th>0</th>\n",
       "      <td>5208</td>\n",
       "      <td>41338</td>\n",
       "      <td>129173</td>\n",
       "      <td>12483</td>\n",
       "      <td>77900</td>\n",
       "      <td>22</td>\n",
       "      <td>28</td>\n",
       "    </tr>\n",
       "  </tbody>\n",
       "</table>\n",
       "</div>"
      ],
      "text/plain": [
       "   Book_Authors  Movie_directors  Movie_stars  Book_titles  Movie_titles  \\\n",
       "0          5208            41338       129173        12483         77900   \n",
       "\n",
       "   Book_genres  Movie_genres  \n",
       "0           22            28  "
      ]
     },
     "execution_count": 12,
     "metadata": {},
     "output_type": "execute_result"
    }
   ],
   "source": [
    "Bignumbers"
   ]
  },
  {
   "cell_type": "code",
   "execution_count": 13,
   "metadata": {},
   "outputs": [],
   "source": [
    "Bignumbers.to_csv(\"../Data/Bignumbers.csv\")"
   ]
  },
  {
   "attachments": {},
   "cell_type": "markdown",
   "metadata": {},
   "source": [
    "We get some ratings for our graphs, i decided to filter by 1000 votes, feel free to filter higher or lower"
   ]
  },
  {
   "cell_type": "code",
   "execution_count": 14,
   "metadata": {},
   "outputs": [],
   "source": [
    "movies_1 = movies[movies[\"Votes\"]>1000]\n",
    "books_1 = books[books[\"Votes\"]>1000]"
   ]
  },
  {
   "cell_type": "code",
   "execution_count": 15,
   "metadata": {},
   "outputs": [],
   "source": [
    "max_m =movies_1[\"Rating\"].max()\n",
    "min_m = movies_1[\"Rating\"].min()\n",
    "median_m = movies_1[\"Rating\"].median()\n",
    "mean_m = movies_1[\"Rating\"].mean()"
   ]
  },
  {
   "cell_type": "code",
   "execution_count": 16,
   "metadata": {},
   "outputs": [
    {
     "data": {
      "text/plain": [
       "6.3038062159839585"
      ]
     },
     "execution_count": 16,
     "metadata": {},
     "output_type": "execute_result"
    }
   ],
   "source": [
    "mean_m"
   ]
  },
  {
   "cell_type": "code",
   "execution_count": 17,
   "metadata": {},
   "outputs": [],
   "source": [
    "max_b = books_1[\"Rating\"].max()\n",
    "min_b = books_1[\"Rating\"].min()\n",
    "median_b = books_1[\"Rating\"].median()\n",
    "mean_b = books_1[\"Rating\"].mean()"
   ]
  },
  {
   "cell_type": "code",
   "execution_count": 18,
   "metadata": {},
   "outputs": [
    {
     "data": {
      "text/plain": [
       "8.011008438466037"
      ]
     },
     "execution_count": 18,
     "metadata": {},
     "output_type": "execute_result"
    }
   ],
   "source": [
    "mean_b"
   ]
  },
  {
   "attachments": {},
   "cell_type": "markdown",
   "metadata": {},
   "source": [
    "These will be our metrics for our streamlit graphs"
   ]
  },
  {
   "cell_type": "code",
   "execution_count": 19,
   "metadata": {},
   "outputs": [],
   "source": [
    "metric = [\"Max\",\"Min\",\"Median\",\"Mean\",\"Max\",\"Min\",\"Median\",\"Mean\"]\n",
    "rating = [max_m,min_m,median_m,mean_m,max_b,min_b,median_b,mean_b]\n",
    "type = [\"Movie\",\"Movie\",\"Movie\",\"Movie\",\"Book\",\"Book\",\"Book\",\"Book\"]\n"
   ]
  },
  {
   "cell_type": "code",
   "execution_count": 20,
   "metadata": {},
   "outputs": [],
   "source": [
    "Metrics_movies_books = pd.DataFrame({\"Metric\": metric, \"Rating\": rating, \"Type\": type})\n",
    "Metrics_movies_books.to_csv(\"../Data/Metrics_movies_books.csv\")"
   ]
  },
  {
   "cell_type": "code",
   "execution_count": 21,
   "metadata": {},
   "outputs": [],
   "source": [
    "books['Genre'] = books['Genre'].apply(src.map_genre)\n",
    "movies[\"Genre\"] = movies[\"Genre\"].apply(src.map_movie_genre)"
   ]
  },
  {
   "cell_type": "code",
   "execution_count": 22,
   "metadata": {},
   "outputs": [],
   "source": [
    "books.dropna(inplace=True)\n",
    "movies.dropna(inplace=True)\n",
    "books[\"Genre\"] = books[\"Genre\"].apply(lambda x: x.split(\"|\"))\n",
    "movies[\"Genre\"] = movies[\"Genre\"].apply(lambda x : x.split(\"|\"))"
   ]
  },
  {
   "cell_type": "code",
   "execution_count": 23,
   "metadata": {},
   "outputs": [],
   "source": [
    "genre_books = books[\"Genre\"].explode().value_counts().reset_index()\n",
    "genre_movies = movies[\"Genre\"].explode().value_counts().reset_index()"
   ]
  },
  {
   "cell_type": "code",
   "execution_count": 25,
   "metadata": {},
   "outputs": [],
   "source": [
    "genre_books[\"Type\"]= \"Book\"\n",
    "genre_movies[\"Type\"] = \"Movie\""
   ]
  },
  {
   "cell_type": "code",
   "execution_count": 26,
   "metadata": {},
   "outputs": [],
   "source": [
    "genre_total = pd.concat([genre_books,genre_movies])"
   ]
  },
  {
   "attachments": {},
   "cell_type": "markdown",
   "metadata": {},
   "source": [
    "Here i want to filter with votes so i only get the best books and movies, this will be used to do a filter that shows the 3 best movies and books of each genre"
   ]
  },
  {
   "cell_type": "code",
   "execution_count": 36,
   "metadata": {},
   "outputs": [],
   "source": [
    "movies_2 = movies[movies[\"Votes\"]>80000]\n",
    "books_2 = books[books[\"Votes\"]>80000]"
   ]
  },
  {
   "cell_type": "code",
   "execution_count": 30,
   "metadata": {},
   "outputs": [],
   "source": [
    "books_exploded = pd.DataFrame({\"Image\":books_2[\"Image\"],\"Title\": books_2[\"Title\"],\"Author\":books_2[\"Author\"], \"Rating\": books_2[\"Rating\"],\"Description\":books_2[\"Description\"],\"Genre\":books_2[\"Genre\"]})\n",
    "movies_exploded = pd.DataFrame({\"Image\":movies_2[\"Image\"],\"Title\": movies_2[\"Title\"],\"Directors\":movies_2[\"Directors\"], \"Rating\": movies_2[\"Rating\"],\"Description\": movies_2[\"Description\"],\"Genre\":movies_2[\"Genre\"]})\n"
   ]
  },
  {
   "cell_type": "code",
   "execution_count": 31,
   "metadata": {},
   "outputs": [],
   "source": [
    "books_exploded = books_exploded.explode(\"Genre\").reset_index(drop=True)\n",
    "movies_exploded = movies_exploded.explode(\"Genre\").reset_index(drop=True)"
   ]
  },
  {
   "cell_type": "code",
   "execution_count": 32,
   "metadata": {},
   "outputs": [],
   "source": [
    "books_exploded.to_csv(\"../Data/Books_exploded.csv\")\n",
    "movies_exploded.to_csv(\"../Data/Movies_exploded.csv\")\n",
    "genre_total.to_csv(\"../Data/genre_total.csv\")"
   ]
  }
 ],
 "metadata": {
  "kernelspec": {
   "display_name": "ironhack",
   "language": "python",
   "name": "python3"
  },
  "language_info": {
   "codemirror_mode": {
    "name": "ipython",
    "version": 3
   },
   "file_extension": ".py",
   "mimetype": "text/x-python",
   "name": "python",
   "nbconvert_exporter": "python",
   "pygments_lexer": "ipython3",
   "version": "3.9.13"
  },
  "orig_nbformat": 4
 },
 "nbformat": 4,
 "nbformat_minor": 2
}
