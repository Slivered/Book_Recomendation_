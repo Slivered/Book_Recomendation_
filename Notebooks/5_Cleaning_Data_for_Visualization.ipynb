{
 "cells": [
  {
   "cell_type": "code",
   "execution_count": 1,
   "metadata": {},
   "outputs": [],
   "source": [
    "import pandas as pd\n",
    "import matplotlib.pyplot as plt\n",
    "import plotly.express as px\n",
    "\n",
    "import sys\n",
    "sys.path.append(\"../\")\n",
    "import src.Resources as src"
   ]
  },
  {
   "cell_type": "code",
   "execution_count": 2,
   "metadata": {},
   "outputs": [],
   "source": [
    "movies = pd.read_csv('../Data/Movies_clean.csv', index_col= 0)  \n",
    "books = pd.read_csv('../Data/Books_clean.csv', index_col= 0)  \n",
    "books_2 = pd.read_csv('../Data/Books.csv',index_col=0)"
   ]
  },
  {
   "cell_type": "code",
   "execution_count": 3,
   "metadata": {},
   "outputs": [
    {
     "data": {
      "text/html": [
       "<div>\n",
       "<style scoped>\n",
       "    .dataframe tbody tr th:only-of-type {\n",
       "        vertical-align: middle;\n",
       "    }\n",
       "\n",
       "    .dataframe tbody tr th {\n",
       "        vertical-align: top;\n",
       "    }\n",
       "\n",
       "    .dataframe thead th {\n",
       "        text-align: right;\n",
       "    }\n",
       "</style>\n",
       "<table border=\"1\" class=\"dataframe\">\n",
       "  <thead>\n",
       "    <tr style=\"text-align: right;\">\n",
       "      <th></th>\n",
       "      <th>Book_author</th>\n",
       "      <th>Book_img</th>\n",
       "      <th>Book_description</th>\n",
       "      <th>Book_rating</th>\n",
       "      <th>Book_votes</th>\n",
       "      <th>Book_title</th>\n",
       "      <th>Book_genre</th>\n",
       "    </tr>\n",
       "  </thead>\n",
       "  <tbody>\n",
       "    <tr>\n",
       "      <th>0</th>\n",
       "      <td>William Shakespeare</td>\n",
       "      <td>https://images-na.ssl-images-amazon.com/images...</td>\n",
       "      <td>In Romeo and Juliet, Shakespeare creates a vio...</td>\n",
       "      <td>3.74</td>\n",
       "      <td>2462752</td>\n",
       "      <td>Romeo and Juliet</td>\n",
       "      <td>Classics|Plays|Fiction|Romance</td>\n",
       "    </tr>\n",
       "    <tr>\n",
       "      <th>1</th>\n",
       "      <td>William Shakespeare</td>\n",
       "      <td>https://images-na.ssl-images-amazon.com/images...</td>\n",
       "      <td>Among Shakespeare's plays, \"Hamlet\" is conside...</td>\n",
       "      <td>4.02</td>\n",
       "      <td>888492</td>\n",
       "      <td>Hamlet</td>\n",
       "      <td>Classics|Plays|Fiction|Drama</td>\n",
       "    </tr>\n",
       "    <tr>\n",
       "      <th>2</th>\n",
       "      <td>William Shakespeare</td>\n",
       "      <td>https://images-na.ssl-images-amazon.com/images...</td>\n",
       "      <td>One night on the heath, the brave and respecte...</td>\n",
       "      <td>3.90</td>\n",
       "      <td>836710</td>\n",
       "      <td>Macbeth</td>\n",
       "      <td>Classics|Plays|Fiction|School</td>\n",
       "    </tr>\n",
       "    <tr>\n",
       "      <th>3</th>\n",
       "      <td>William Shakespeare</td>\n",
       "      <td>https://images-na.ssl-images-amazon.com/images...</td>\n",
       "      <td>In Othello, Shakespeare creates a powerful dra...</td>\n",
       "      <td>3.89</td>\n",
       "      <td>368863</td>\n",
       "      <td>Othello</td>\n",
       "      <td>Classics|Plays|Fiction|Drama</td>\n",
       "    </tr>\n",
       "    <tr>\n",
       "      <th>4</th>\n",
       "      <td>William Shakespeare</td>\n",
       "      <td>https://images-na.ssl-images-amazon.com/images...</td>\n",
       "      <td>Shakespeare's intertwined love polygons begin ...</td>\n",
       "      <td>3.95</td>\n",
       "      <td>513517</td>\n",
       "      <td>A Midsummer Night's Dream</td>\n",
       "      <td>Classics|Plays|Fiction|Fantasy</td>\n",
       "    </tr>\n",
       "    <tr>\n",
       "      <th>...</th>\n",
       "      <td>...</td>\n",
       "      <td>...</td>\n",
       "      <td>...</td>\n",
       "      <td>...</td>\n",
       "      <td>...</td>\n",
       "      <td>...</td>\n",
       "      <td>...</td>\n",
       "    </tr>\n",
       "    <tr>\n",
       "      <th>1171</th>\n",
       "      <td>Stephenie Meyer</td>\n",
       "      <td>https://images-na.ssl-images-amazon.com/images...</td>\n",
       "      <td>\"BELLA?\" Edward's soft voice came from behind ...</td>\n",
       "      <td>3.72</td>\n",
       "      <td>1697723</td>\n",
       "      <td>Eclipse</td>\n",
       "      <td>YoungAdult|Fantasy|Romance|Vampires</td>\n",
       "    </tr>\n",
       "    <tr>\n",
       "      <th>1172</th>\n",
       "      <td>Samantha Kolesnik</td>\n",
       "      <td>https://images-na.ssl-images-amazon.com/images...</td>\n",
       "      <td>Suzy and her brother, Lim, live with their abu...</td>\n",
       "      <td>3.67</td>\n",
       "      <td>2222</td>\n",
       "      <td>True Crime</td>\n",
       "      <td>Horror|Novella|Fiction|Thriller</td>\n",
       "    </tr>\n",
       "    <tr>\n",
       "      <th>1173</th>\n",
       "      <td>Susan Hill</td>\n",
       "      <td>https://images-na.ssl-images-amazon.com/images...</td>\n",
       "      <td>The Small Hand: A Ghost Story (The Susan Hill ...</td>\n",
       "      <td>3.46</td>\n",
       "      <td>6550</td>\n",
       "      <td>The Small Hand</td>\n",
       "      <td>Horror|Fiction|Gothic|GhostStories</td>\n",
       "    </tr>\n",
       "    <tr>\n",
       "      <th>1174</th>\n",
       "      <td>Carrie Ryan</td>\n",
       "      <td>https://images-na.ssl-images-amazon.com/images...</td>\n",
       "      <td>There are many things that Annah would like to...</td>\n",
       "      <td>4.02</td>\n",
       "      <td>22448</td>\n",
       "      <td>The Dark and Hollow Places</td>\n",
       "      <td>YoungAdult|Zombies|Dystopia|Horror</td>\n",
       "    </tr>\n",
       "    <tr>\n",
       "      <th>1175</th>\n",
       "      <td>John Saul</td>\n",
       "      <td>https://images-na.ssl-images-amazon.com/images...</td>\n",
       "      <td>“[John] Saul has the instincts of a natural st...</td>\n",
       "      <td>3.93</td>\n",
       "      <td>11036</td>\n",
       "      <td>The God Project: A Novel</td>\n",
       "      <td>Horror|Fiction|Thriller|Mystery</td>\n",
       "    </tr>\n",
       "  </tbody>\n",
       "</table>\n",
       "<p>10584 rows × 7 columns</p>\n",
       "</div>"
      ],
      "text/plain": [
       "              Book_author                                           Book_img  \\\n",
       "0     William Shakespeare  https://images-na.ssl-images-amazon.com/images...   \n",
       "1     William Shakespeare  https://images-na.ssl-images-amazon.com/images...   \n",
       "2     William Shakespeare  https://images-na.ssl-images-amazon.com/images...   \n",
       "3     William Shakespeare  https://images-na.ssl-images-amazon.com/images...   \n",
       "4     William Shakespeare  https://images-na.ssl-images-amazon.com/images...   \n",
       "...                   ...                                                ...   \n",
       "1171      Stephenie Meyer  https://images-na.ssl-images-amazon.com/images...   \n",
       "1172    Samantha Kolesnik  https://images-na.ssl-images-amazon.com/images...   \n",
       "1173           Susan Hill  https://images-na.ssl-images-amazon.com/images...   \n",
       "1174          Carrie Ryan  https://images-na.ssl-images-amazon.com/images...   \n",
       "1175            John Saul  https://images-na.ssl-images-amazon.com/images...   \n",
       "\n",
       "                                       Book_description  Book_rating  \\\n",
       "0     In Romeo and Juliet, Shakespeare creates a vio...         3.74   \n",
       "1     Among Shakespeare's plays, \"Hamlet\" is conside...         4.02   \n",
       "2     One night on the heath, the brave and respecte...         3.90   \n",
       "3     In Othello, Shakespeare creates a powerful dra...         3.89   \n",
       "4     Shakespeare's intertwined love polygons begin ...         3.95   \n",
       "...                                                 ...          ...   \n",
       "1171  \"BELLA?\" Edward's soft voice came from behind ...         3.72   \n",
       "1172  Suzy and her brother, Lim, live with their abu...         3.67   \n",
       "1173  The Small Hand: A Ghost Story (The Susan Hill ...         3.46   \n",
       "1174  There are many things that Annah would like to...         4.02   \n",
       "1175  “[John] Saul has the instincts of a natural st...         3.93   \n",
       "\n",
       "      Book_votes                  Book_title  \\\n",
       "0        2462752            Romeo and Juliet   \n",
       "1         888492                      Hamlet   \n",
       "2         836710                     Macbeth   \n",
       "3         368863                     Othello   \n",
       "4         513517   A Midsummer Night's Dream   \n",
       "...          ...                         ...   \n",
       "1171     1697723                     Eclipse   \n",
       "1172        2222                  True Crime   \n",
       "1173        6550              The Small Hand   \n",
       "1174       22448  The Dark and Hollow Places   \n",
       "1175       11036    The God Project: A Novel   \n",
       "\n",
       "                               Book_genre  \n",
       "0          Classics|Plays|Fiction|Romance  \n",
       "1            Classics|Plays|Fiction|Drama  \n",
       "2           Classics|Plays|Fiction|School  \n",
       "3            Classics|Plays|Fiction|Drama  \n",
       "4          Classics|Plays|Fiction|Fantasy  \n",
       "...                                   ...  \n",
       "1171  YoungAdult|Fantasy|Romance|Vampires  \n",
       "1172      Horror|Novella|Fiction|Thriller  \n",
       "1173   Horror|Fiction|Gothic|GhostStories  \n",
       "1174   YoungAdult|Zombies|Dystopia|Horror  \n",
       "1175      Horror|Fiction|Thriller|Mystery  \n",
       "\n",
       "[10584 rows x 7 columns]"
      ]
     },
     "execution_count": 3,
     "metadata": {},
     "output_type": "execute_result"
    }
   ],
   "source": [
    "books_2"
   ]
  },
  {
   "attachments": {},
   "cell_type": "markdown",
   "metadata": {},
   "source": [
    "We drop any duplicates titles"
   ]
  },
  {
   "cell_type": "code",
   "execution_count": 4,
   "metadata": {},
   "outputs": [],
   "source": [
    "movies[\"Stars\"].fillna(\"Nostars\",inplace=True)\n",
    "movies.drop_duplicates(inplace=True)\n",
    "movies = movies.drop_duplicates(subset=\"Title\")\n",
    "movies = movies.reset_index()\n",
    "movies = movies.drop(\"index\",axis=1)\n",
    "\n",
    "books[\"Description\"].fillna(\"No description\",inplace=True)\n",
    "books.drop_duplicates(inplace=True)\n",
    "books = books.drop_duplicates(subset=\"Title\")\n",
    "books = books.reset_index()\n",
    "books = books.drop(\"index\",axis=1)"
   ]
  },
  {
   "attachments": {},
   "cell_type": "markdown",
   "metadata": {},
   "source": [
    "We split these columns by this character |"
   ]
  },
  {
   "cell_type": "code",
   "execution_count": 5,
   "metadata": {},
   "outputs": [],
   "source": [
    "director = movies[\"Directors\"].apply(lambda x: x.split(\"|\"))\n",
    "m_genre = movies[\"Genre\"].apply(lambda x: x.split(\"|\"))\n",
    "stars = movies[\"Stars\"].apply(lambda x: x.split(\"|\"))\n",
    "b_genre = books_2[\"Book_genre\"].apply(lambda x: x.split(\"|\"))"
   ]
  },
  {
   "attachments": {},
   "cell_type": "markdown",
   "metadata": {},
   "source": [
    "We explode some columns and get their unique values"
   ]
  },
  {
   "cell_type": "code",
   "execution_count": 6,
   "metadata": {},
   "outputs": [],
   "source": [
    "n_directors = len(director.explode().unique())\n",
    "movie_genres = len(m_genre.explode().unique())\n",
    "movie_stars = len(stars.explode().unique())\n",
    "book_genre = len(b_genre.explode().unique())\n",
    "n_authors = books[\"Author\"].nunique()\n",
    "n_titles = books[\"Title\"].nunique()\n",
    "n_titles_m = movies[\"Title\"].nunique()"
   ]
  },
  {
   "attachments": {},
   "cell_type": "markdown",
   "metadata": {},
   "source": [
    "These will be our big numbers"
   ]
  },
  {
   "cell_type": "code",
   "execution_count": 7,
   "metadata": {},
   "outputs": [],
   "source": [
    "Bignumbers = pd.DataFrame([n_authors], columns=[\"Book_Authors\"])\n",
    "Bignumbers[\"Movie_directors\"] = n_directors\n",
    "Bignumbers[\"Movie_stars\"] = movie_stars\n",
    "Bignumbers[\"Book_titles\"] = n_titles\n",
    "Bignumbers[\"Movie_titles\"] = n_titles_m\n",
    "Bignumbers[\"Book_genres\"] = book_genre\n",
    "Bignumbers[\"Movie_genres\"] = movie_genres"
   ]
  },
  {
   "cell_type": "code",
   "execution_count": 8,
   "metadata": {},
   "outputs": [
    {
     "data": {
      "text/html": [
       "<div>\n",
       "<style scoped>\n",
       "    .dataframe tbody tr th:only-of-type {\n",
       "        vertical-align: middle;\n",
       "    }\n",
       "\n",
       "    .dataframe tbody tr th {\n",
       "        vertical-align: top;\n",
       "    }\n",
       "\n",
       "    .dataframe thead th {\n",
       "        text-align: right;\n",
       "    }\n",
       "</style>\n",
       "<table border=\"1\" class=\"dataframe\">\n",
       "  <thead>\n",
       "    <tr style=\"text-align: right;\">\n",
       "      <th></th>\n",
       "      <th>Book_Authors</th>\n",
       "      <th>Movie_directors</th>\n",
       "      <th>Movie_stars</th>\n",
       "      <th>Book_titles</th>\n",
       "      <th>Movie_titles</th>\n",
       "      <th>Book_genres</th>\n",
       "      <th>Movie_genres</th>\n",
       "    </tr>\n",
       "  </thead>\n",
       "  <tbody>\n",
       "    <tr>\n",
       "      <th>0</th>\n",
       "      <td>5202</td>\n",
       "      <td>41338</td>\n",
       "      <td>129173</td>\n",
       "      <td>12473</td>\n",
       "      <td>77900</td>\n",
       "      <td>309</td>\n",
       "      <td>28</td>\n",
       "    </tr>\n",
       "  </tbody>\n",
       "</table>\n",
       "</div>"
      ],
      "text/plain": [
       "   Book_Authors  Movie_directors  Movie_stars  Book_titles  Movie_titles  \\\n",
       "0          5202            41338       129173        12473         77900   \n",
       "\n",
       "   Book_genres  Movie_genres  \n",
       "0          309            28  "
      ]
     },
     "execution_count": 8,
     "metadata": {},
     "output_type": "execute_result"
    }
   ],
   "source": [
    "Bignumbers"
   ]
  },
  {
   "cell_type": "code",
   "execution_count": 9,
   "metadata": {},
   "outputs": [],
   "source": [
    "Bignumbers.to_csv(\"../Data/Bignumbers.csv\")"
   ]
  },
  {
   "attachments": {},
   "cell_type": "markdown",
   "metadata": {},
   "source": [
    "We get some ratings for our graphs, i decided to filter by 1000 votes, feel free to filter higher or lower"
   ]
  },
  {
   "cell_type": "code",
   "execution_count": 10,
   "metadata": {},
   "outputs": [],
   "source": [
    "movies_1 = movies[movies[\"Votes\"]>1000]\n",
    "books_1 = books[books[\"Votes\"]>1000]"
   ]
  },
  {
   "cell_type": "code",
   "execution_count": 11,
   "metadata": {},
   "outputs": [],
   "source": [
    "max_m =movies_1[\"Rating\"].max()\n",
    "min_m = movies_1[\"Rating\"].min()\n",
    "median_m = movies_1[\"Rating\"].median()\n",
    "mean_m = movies_1[\"Rating\"].mean()"
   ]
  },
  {
   "cell_type": "code",
   "execution_count": 12,
   "metadata": {},
   "outputs": [
    {
     "data": {
      "text/plain": [
       "6.3038062159839585"
      ]
     },
     "execution_count": 12,
     "metadata": {},
     "output_type": "execute_result"
    }
   ],
   "source": [
    "mean_m"
   ]
  },
  {
   "cell_type": "code",
   "execution_count": 13,
   "metadata": {},
   "outputs": [],
   "source": [
    "max_b = books_1[\"Rating\"].max()\n",
    "min_b = books_1[\"Rating\"].min()\n",
    "median_b = books_1[\"Rating\"].median()\n",
    "mean_b = books_1[\"Rating\"].mean()"
   ]
  },
  {
   "cell_type": "code",
   "execution_count": 14,
   "metadata": {},
   "outputs": [
    {
     "data": {
      "text/plain": [
       "8.010928386395921"
      ]
     },
     "execution_count": 14,
     "metadata": {},
     "output_type": "execute_result"
    }
   ],
   "source": [
    "mean_b"
   ]
  },
  {
   "attachments": {},
   "cell_type": "markdown",
   "metadata": {},
   "source": [
    "These will be our metrics for our streamlit graphs"
   ]
  },
  {
   "cell_type": "code",
   "execution_count": 15,
   "metadata": {},
   "outputs": [],
   "source": [
    "metric = [\"Max\",\"Min\",\"Median\",\"Mean\",\"Max\",\"Min\",\"Median\",\"Mean\"]\n",
    "rating = [max_m,min_m,median_m,mean_m,max_b,min_b,median_b,mean_b]\n",
    "type = [\"Movie\",\"Movie\",\"Movie\",\"Movie\",\"Book\",\"Book\",\"Book\",\"Book\"]\n"
   ]
  },
  {
   "cell_type": "code",
   "execution_count": 16,
   "metadata": {},
   "outputs": [],
   "source": [
    "Metrics_movies_books = pd.DataFrame({\"Metric\": metric, \"Rating\": rating, \"Type\": type})\n",
    "Metrics_movies_books.to_csv(\"../Data/Metrics_movies_books.csv\")"
   ]
  },
  {
   "cell_type": "code",
   "execution_count": 17,
   "metadata": {},
   "outputs": [],
   "source": [
    "books['Genre'] = books['Genre'].apply(src.map_genre)\n",
    "movies[\"Genre\"] = movies[\"Genre\"].apply(src.map_movie_genre)"
   ]
  },
  {
   "cell_type": "code",
   "execution_count": 18,
   "metadata": {},
   "outputs": [],
   "source": [
    "books.dropna(inplace=True)\n",
    "movies.dropna(inplace=True)\n",
    "books[\"Genre\"] = books[\"Genre\"].apply(lambda x: x.split(\"|\"))\n",
    "movies[\"Genre\"] = movies[\"Genre\"].apply(lambda x : x.split(\"|\"))"
   ]
  },
  {
   "cell_type": "code",
   "execution_count": 19,
   "metadata": {},
   "outputs": [],
   "source": [
    "genre_books = books[\"Genre\"].explode().value_counts().reset_index()\n",
    "genre_movies = movies[\"Genre\"].explode().value_counts().reset_index()"
   ]
  },
  {
   "cell_type": "code",
   "execution_count": 20,
   "metadata": {},
   "outputs": [],
   "source": [
    "genre_books[\"Type\"]= \"Book\"\n",
    "genre_movies[\"Type\"] = \"Movie\""
   ]
  },
  {
   "cell_type": "code",
   "execution_count": 21,
   "metadata": {},
   "outputs": [],
   "source": [
    "genre_total = pd.concat([genre_books,genre_movies])"
   ]
  },
  {
   "attachments": {},
   "cell_type": "markdown",
   "metadata": {},
   "source": [
    "Here i want to filter with votes so i only get the best books and movies, this will be used to do a filter that shows the 3 best movies and books of each genre"
   ]
  },
  {
   "cell_type": "code",
   "execution_count": 22,
   "metadata": {},
   "outputs": [],
   "source": [
    "movies_2 = movies[movies[\"Votes\"]>80000]\n",
    "books_2 = books[books[\"Votes\"]>80000]"
   ]
  },
  {
   "cell_type": "code",
   "execution_count": 23,
   "metadata": {},
   "outputs": [],
   "source": [
    "books_exploded = pd.DataFrame({\"Image\":books_2[\"Image\"],\"Title\": books_2[\"Title\"],\"Author\":books_2[\"Author\"], \"Rating\": books_2[\"Rating\"],\"Description\":books_2[\"Description\"],\"Genre\":books_2[\"Genre\"]})\n",
    "movies_exploded = pd.DataFrame({\"Image\":movies_2[\"Image\"],\"Title\": movies_2[\"Title\"],\"Directors\":movies_2[\"Directors\"], \"Rating\": movies_2[\"Rating\"],\"Description\": movies_2[\"Description\"],\"Genre\":movies_2[\"Genre\"]})\n"
   ]
  },
  {
   "cell_type": "code",
   "execution_count": 24,
   "metadata": {},
   "outputs": [],
   "source": [
    "books_exploded = books_exploded.explode(\"Genre\").reset_index(drop=True)\n",
    "movies_exploded = movies_exploded.explode(\"Genre\").reset_index(drop=True)"
   ]
  },
  {
   "cell_type": "code",
   "execution_count": 25,
   "metadata": {},
   "outputs": [
    {
     "data": {
      "text/html": [
       "<div>\n",
       "<style scoped>\n",
       "    .dataframe tbody tr th:only-of-type {\n",
       "        vertical-align: middle;\n",
       "    }\n",
       "\n",
       "    .dataframe tbody tr th {\n",
       "        vertical-align: top;\n",
       "    }\n",
       "\n",
       "    .dataframe thead th {\n",
       "        text-align: right;\n",
       "    }\n",
       "</style>\n",
       "<table border=\"1\" class=\"dataframe\">\n",
       "  <thead>\n",
       "    <tr style=\"text-align: right;\">\n",
       "      <th></th>\n",
       "      <th>Image</th>\n",
       "      <th>Title</th>\n",
       "      <th>Author</th>\n",
       "      <th>Rating</th>\n",
       "      <th>Description</th>\n",
       "      <th>Genre</th>\n",
       "    </tr>\n",
       "  </thead>\n",
       "  <tbody>\n",
       "    <tr>\n",
       "      <th>0</th>\n",
       "      <td>https://images-na.ssl-images-amazon.com/images...</td>\n",
       "      <td>Romeo and Juliet</td>\n",
       "      <td>William Shakespeare</td>\n",
       "      <td>7.48</td>\n",
       "      <td>In Romeo and Juliet, Shakespeare creates a vio...</td>\n",
       "      <td>Romance</td>\n",
       "    </tr>\n",
       "    <tr>\n",
       "      <th>1</th>\n",
       "      <td>https://images-na.ssl-images-amazon.com/images...</td>\n",
       "      <td>Hamlet</td>\n",
       "      <td>William Shakespeare</td>\n",
       "      <td>8.04</td>\n",
       "      <td>Among Shakespeare's plays, \"Hamlet\" is conside...</td>\n",
       "      <td>Drama</td>\n",
       "    </tr>\n",
       "    <tr>\n",
       "      <th>2</th>\n",
       "      <td>https://images-na.ssl-images-amazon.com/images...</td>\n",
       "      <td>Macbeth</td>\n",
       "      <td>William Shakespeare</td>\n",
       "      <td>7.80</td>\n",
       "      <td>One night on the heath, the brave and respecte...</td>\n",
       "      <td>Family</td>\n",
       "    </tr>\n",
       "    <tr>\n",
       "      <th>3</th>\n",
       "      <td>https://images-na.ssl-images-amazon.com/images...</td>\n",
       "      <td>Othello</td>\n",
       "      <td>William Shakespeare</td>\n",
       "      <td>7.78</td>\n",
       "      <td>In Othello, Shakespeare creates a powerful dra...</td>\n",
       "      <td>Drama</td>\n",
       "    </tr>\n",
       "    <tr>\n",
       "      <th>4</th>\n",
       "      <td>https://images-na.ssl-images-amazon.com/images...</td>\n",
       "      <td>A Midsummer Night's Dream</td>\n",
       "      <td>William Shakespeare</td>\n",
       "      <td>7.90</td>\n",
       "      <td>Shakespeare's intertwined love polygons begin ...</td>\n",
       "      <td>Fantasy</td>\n",
       "    </tr>\n",
       "    <tr>\n",
       "      <th>...</th>\n",
       "      <td>...</td>\n",
       "      <td>...</td>\n",
       "      <td>...</td>\n",
       "      <td>...</td>\n",
       "      <td>...</td>\n",
       "      <td>...</td>\n",
       "    </tr>\n",
       "    <tr>\n",
       "      <th>5242</th>\n",
       "      <td>https://images-na.ssl-images-amazon.com/images...</td>\n",
       "      <td>Curious George</td>\n",
       "      <td>H.A. Rey</td>\n",
       "      <td>8.32</td>\n",
       "      <td>The first adventure in this highly popular ser...</td>\n",
       "      <td>Family</td>\n",
       "    </tr>\n",
       "    <tr>\n",
       "      <th>5243</th>\n",
       "      <td>https://images-na.ssl-images-amazon.com/images...</td>\n",
       "      <td>The Hard Thing About Hard Things: Building a B...</td>\n",
       "      <td>Ben Horowitz</td>\n",
       "      <td>8.44</td>\n",
       "      <td>A lot of people talk about how great it is to ...</td>\n",
       "      <td>Biography</td>\n",
       "    </tr>\n",
       "    <tr>\n",
       "      <th>5244</th>\n",
       "      <td>https://images-na.ssl-images-amazon.com/images...</td>\n",
       "      <td>The Hard Thing About Hard Things: Building a B...</td>\n",
       "      <td>Ben Horowitz</td>\n",
       "      <td>8.44</td>\n",
       "      <td>A lot of people talk about how great it is to ...</td>\n",
       "      <td>History</td>\n",
       "    </tr>\n",
       "    <tr>\n",
       "      <th>5245</th>\n",
       "      <td>https://images-na.ssl-images-amazon.com/images...</td>\n",
       "      <td>The Princess Saves Herself in This One</td>\n",
       "      <td>Amanda Lovelace</td>\n",
       "      <td>7.68</td>\n",
       "      <td>\"Ah, life- the thing that happens to us while ...</td>\n",
       "      <td>Biography</td>\n",
       "    </tr>\n",
       "    <tr>\n",
       "      <th>5246</th>\n",
       "      <td>https://images-na.ssl-images-amazon.com/images...</td>\n",
       "      <td>The Princess Saves Herself in This One</td>\n",
       "      <td>Amanda Lovelace</td>\n",
       "      <td>7.68</td>\n",
       "      <td>\"Ah, life- the thing that happens to us while ...</td>\n",
       "      <td>History</td>\n",
       "    </tr>\n",
       "  </tbody>\n",
       "</table>\n",
       "<p>5247 rows × 6 columns</p>\n",
       "</div>"
      ],
      "text/plain": [
       "                                                  Image  \\\n",
       "0     https://images-na.ssl-images-amazon.com/images...   \n",
       "1     https://images-na.ssl-images-amazon.com/images...   \n",
       "2     https://images-na.ssl-images-amazon.com/images...   \n",
       "3     https://images-na.ssl-images-amazon.com/images...   \n",
       "4     https://images-na.ssl-images-amazon.com/images...   \n",
       "...                                                 ...   \n",
       "5242  https://images-na.ssl-images-amazon.com/images...   \n",
       "5243  https://images-na.ssl-images-amazon.com/images...   \n",
       "5244  https://images-na.ssl-images-amazon.com/images...   \n",
       "5245  https://images-na.ssl-images-amazon.com/images...   \n",
       "5246  https://images-na.ssl-images-amazon.com/images...   \n",
       "\n",
       "                                                  Title               Author  \\\n",
       "0                                      Romeo and Juliet  William Shakespeare   \n",
       "1                                                Hamlet  William Shakespeare   \n",
       "2                                               Macbeth  William Shakespeare   \n",
       "3                                               Othello  William Shakespeare   \n",
       "4                             A Midsummer Night's Dream  William Shakespeare   \n",
       "...                                                 ...                  ...   \n",
       "5242                                     Curious George             H.A. Rey   \n",
       "5243  The Hard Thing About Hard Things: Building a B...         Ben Horowitz   \n",
       "5244  The Hard Thing About Hard Things: Building a B...         Ben Horowitz   \n",
       "5245             The Princess Saves Herself in This One      Amanda Lovelace   \n",
       "5246             The Princess Saves Herself in This One      Amanda Lovelace   \n",
       "\n",
       "      Rating                                        Description      Genre  \n",
       "0       7.48  In Romeo and Juliet, Shakespeare creates a vio...    Romance  \n",
       "1       8.04  Among Shakespeare's plays, \"Hamlet\" is conside...      Drama  \n",
       "2       7.80  One night on the heath, the brave and respecte...     Family  \n",
       "3       7.78  In Othello, Shakespeare creates a powerful dra...      Drama  \n",
       "4       7.90  Shakespeare's intertwined love polygons begin ...    Fantasy  \n",
       "...      ...                                                ...        ...  \n",
       "5242    8.32  The first adventure in this highly popular ser...     Family  \n",
       "5243    8.44  A lot of people talk about how great it is to ...  Biography  \n",
       "5244    8.44  A lot of people talk about how great it is to ...    History  \n",
       "5245    7.68  \"Ah, life- the thing that happens to us while ...  Biography  \n",
       "5246    7.68  \"Ah, life- the thing that happens to us while ...    History  \n",
       "\n",
       "[5247 rows x 6 columns]"
      ]
     },
     "execution_count": 25,
     "metadata": {},
     "output_type": "execute_result"
    }
   ],
   "source": [
    "books_exploded"
   ]
  },
  {
   "cell_type": "code",
   "execution_count": 26,
   "metadata": {},
   "outputs": [],
   "source": [
    "books_exploded.to_csv(\"../Data/Books_exploded.csv\")\n",
    "movies_exploded.to_csv(\"../Data/Movies_exploded.csv\")\n",
    "genre_total.to_csv(\"../Data/genre_total.csv\")"
   ]
  },
  {
   "cell_type": "code",
   "execution_count": null,
   "metadata": {},
   "outputs": [],
   "source": []
  }
 ],
 "metadata": {
  "kernelspec": {
   "display_name": "ironhack",
   "language": "python",
   "name": "python3"
  },
  "language_info": {
   "codemirror_mode": {
    "name": "ipython",
    "version": 3
   },
   "file_extension": ".py",
   "mimetype": "text/x-python",
   "name": "python",
   "nbconvert_exporter": "python",
   "pygments_lexer": "ipython3",
   "version": "3.9.13"
  },
  "orig_nbformat": 4
 },
 "nbformat": 4,
 "nbformat_minor": 2
}
