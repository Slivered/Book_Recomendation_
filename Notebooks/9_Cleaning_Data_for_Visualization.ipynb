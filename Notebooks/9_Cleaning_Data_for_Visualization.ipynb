{
 "cells": [
  {
   "cell_type": "code",
   "execution_count": 4,
   "metadata": {},
   "outputs": [],
   "source": [
    "import pandas as pd\n",
    "import matplotlib.pyplot as plt\n",
    "import seaborn as sns\n",
    "import plotly.express as px\n",
    "\n",
    "import sys\n",
    "sys.path.append(\"../\")\n",
    "import src.Resources as src"
   ]
  },
  {
   "cell_type": "code",
   "execution_count": 5,
   "metadata": {},
   "outputs": [],
   "source": [
    "movies = pd.read_csv('../Data/Movies_clean.csv', index_col= 0)  \n",
    "books = pd.read_csv('../Data/Books_clean.csv', index_col= 0)  "
   ]
  },
  {
   "cell_type": "code",
   "execution_count": 6,
   "metadata": {},
   "outputs": [],
   "source": [
    "movies.columns = [\"Title\",\"Image\",\"Genre\",\"Description\",\"Rating\",\"Votes\",\"Directors\",\"Stars\"]\n",
    "books.columns = [\"Author\",\"Image\",\"Description\",\"Rating\",\"Votes\",\"Title\",\"Genre\"]"
   ]
  },
  {
   "cell_type": "code",
   "execution_count": 7,
   "metadata": {},
   "outputs": [],
   "source": [
    "movies[\"Stars\"].fillna(\"Nostars\",inplace=True)\n",
    "movies.drop_duplicates(inplace=True)\n",
    "movies = movies.drop_duplicates(subset=\"Title\")\n",
    "movies = movies.reset_index()\n",
    "movies = movies.drop(\"index\",axis=1)\n",
    "\n",
    "books[\"Description\"].fillna(\"No description\",inplace=True)\n",
    "books.drop_duplicates(inplace=True)\n",
    "books = books.drop_duplicates(subset=\"Title\")\n",
    "books = books.reset_index()\n",
    "books = books.drop(\"index\",axis=1)"
   ]
  },
  {
   "cell_type": "code",
   "execution_count": 8,
   "metadata": {},
   "outputs": [],
   "source": [
    "director = movies[\"Directors\"].apply(lambda x: x.split(\"|\"))\n",
    "m_genre = movies[\"Genre\"].apply(lambda x: x.split(\"|\"))\n",
    "stars = movies[\"Stars\"].apply(lambda x: x.split(\"|\"))\n",
    "b_genre = books[\"Genre\"].apply(lambda x: x.split(\"|\"))"
   ]
  },
  {
   "cell_type": "code",
   "execution_count": 9,
   "metadata": {},
   "outputs": [],
   "source": [
    "n_directors = len(director.explode().unique())\n",
    "movie_genres = len(m_genre.explode().unique())\n",
    "movie_stars = len(stars.explode().unique())\n",
    "book_genre = len(b_genre.explode().unique())\n",
    "n_authors = books[\"Author\"].nunique()\n",
    "n_titles = books[\"Title\"].nunique()\n",
    "n_titles_m = movies[\"Title\"].nunique()"
   ]
  },
  {
   "cell_type": "code",
   "execution_count": 10,
   "metadata": {},
   "outputs": [],
   "source": [
    "Bignumbers = pd.DataFrame([n_authors], columns=[\"Book_Authors\"])\n",
    "Bignumbers[\"Movie_directors\"] = n_directors\n",
    "Bignumbers[\"Movie_stars\"] = movie_stars\n",
    "Bignumbers[\"Book_titles\"] = n_titles\n",
    "Bignumbers[\"Movie_titles\"] = n_titles_m\n",
    "Bignumbers[\"Book_genres\"] = book_genre\n",
    "Bignumbers[\"Movie_genres\"] = movie_genres"
   ]
  },
  {
   "cell_type": "code",
   "execution_count": 12,
   "metadata": {},
   "outputs": [
    {
     "data": {
      "text/html": [
       "<div>\n",
       "<style scoped>\n",
       "    .dataframe tbody tr th:only-of-type {\n",
       "        vertical-align: middle;\n",
       "    }\n",
       "\n",
       "    .dataframe tbody tr th {\n",
       "        vertical-align: top;\n",
       "    }\n",
       "\n",
       "    .dataframe thead th {\n",
       "        text-align: right;\n",
       "    }\n",
       "</style>\n",
       "<table border=\"1\" class=\"dataframe\">\n",
       "  <thead>\n",
       "    <tr style=\"text-align: right;\">\n",
       "      <th></th>\n",
       "      <th>Book_Authors</th>\n",
       "      <th>Movie_directors</th>\n",
       "      <th>Movie_stars</th>\n",
       "      <th>Book_titles</th>\n",
       "      <th>Movie_titles</th>\n",
       "      <th>Book_genres</th>\n",
       "      <th>Movie_genres</th>\n",
       "    </tr>\n",
       "  </thead>\n",
       "  <tbody>\n",
       "    <tr>\n",
       "      <th>0</th>\n",
       "      <td>5219</td>\n",
       "      <td>41338</td>\n",
       "      <td>129173</td>\n",
       "      <td>12527</td>\n",
       "      <td>77900</td>\n",
       "      <td>414</td>\n",
       "      <td>28</td>\n",
       "    </tr>\n",
       "  </tbody>\n",
       "</table>\n",
       "</div>"
      ],
      "text/plain": [
       "   Book_Authors  Movie_directors  Movie_stars  Book_titles  Movie_titles  \\\n",
       "0          5219            41338       129173        12527         77900   \n",
       "\n",
       "   Book_genres  Movie_genres  \n",
       "0          414            28  "
      ]
     },
     "execution_count": 12,
     "metadata": {},
     "output_type": "execute_result"
    }
   ],
   "source": [
    "Bignumbers"
   ]
  },
  {
   "cell_type": "code",
   "execution_count": 13,
   "metadata": {},
   "outputs": [],
   "source": [
    "Bignumbers.to_csv(\"../Data/Bignumbers.csv\")"
   ]
  },
  {
   "cell_type": "code",
   "execution_count": 14,
   "metadata": {},
   "outputs": [],
   "source": [
    "movies_1 = movies[movies[\"Votes\"]>1000]\n",
    "books_1 = books[books[\"Votes\"]>1000]"
   ]
  },
  {
   "cell_type": "code",
   "execution_count": 15,
   "metadata": {},
   "outputs": [],
   "source": [
    "max_m =movies_1[\"Rating\"].max()\n",
    "min_m = movies_1[\"Rating\"].min()\n",
    "median_m = movies_1[\"Rating\"].median()\n",
    "mean_m = movies_1[\"Rating\"].mean()"
   ]
  },
  {
   "cell_type": "code",
   "execution_count": 16,
   "metadata": {},
   "outputs": [],
   "source": [
    "max_b = books_1[\"Rating\"].max()\n",
    "min_b = books_1[\"Rating\"].min()\n",
    "median_b = books_1[\"Rating\"].median()\n",
    "mean_b = books_1[\"Rating\"].mean()"
   ]
  },
  {
   "cell_type": "code",
   "execution_count": 17,
   "metadata": {},
   "outputs": [],
   "source": [
    "metric = [\"Max\",\"Min\",\"Median\",\"Mean\",\"Max\",\"Min\",\"Median\",\"Mean\"]\n",
    "rating = [max_m,min_m,median_m,mean_m,max_b,min_b,median_b,mean_b]\n",
    "type = [\"Movie\",\"Movie\",\"Movie\",\"Movie\",\"Book\",\"Book\",\"Book\",\"Book\"]\n"
   ]
  },
  {
   "cell_type": "code",
   "execution_count": 18,
   "metadata": {},
   "outputs": [],
   "source": [
    "Metrics_movies_books = pd.DataFrame({\"Metric\": metric, \"Rating\": rating, \"Type\": type})\n",
    "Metrics_movies_books.to_csv(\"../Data/Metrics_movies_books.csv\")"
   ]
  },
  {
   "cell_type": "code",
   "execution_count": 19,
   "metadata": {},
   "outputs": [],
   "source": [
    "books['Genre'] = books['Genre'].apply(src.map_genre)\n",
    "movies[\"Genre\"] = movies[\"Genre\"].apply(src.map_movie_genre)"
   ]
  },
  {
   "cell_type": "code",
   "execution_count": 20,
   "metadata": {},
   "outputs": [],
   "source": [
    "books.dropna(inplace=True)\n",
    "movies.dropna(inplace=True)\n",
    "books[\"Genre\"] = books[\"Genre\"].apply(lambda x: x.split(\"|\"))\n",
    "movies[\"Genre\"] = movies[\"Genre\"].apply(lambda x : x.split(\"|\"))"
   ]
  },
  {
   "cell_type": "code",
   "execution_count": 21,
   "metadata": {},
   "outputs": [],
   "source": [
    "genre_books = books[\"Genre\"].explode().value_counts().reset_index()\n",
    "genre_movies = movies[\"Genre\"].explode().value_counts().reset_index()"
   ]
  },
  {
   "cell_type": "code",
   "execution_count": 22,
   "metadata": {},
   "outputs": [
    {
     "data": {
      "text/plain": [
       "index        Genre\n",
       "Action       28785    1\n",
       "Adult        3        1\n",
       "War          3353     1\n",
       "Thriller     7824     1\n",
       "Sports       2189     1\n",
       "Sci-Fi       3960     1\n",
       "Romance      8750     1\n",
       "Mystery      4419     1\n",
       "Music        7803     1\n",
       "Horror       6736     1\n",
       "History      4265     1\n",
       "Film-Noir    806      1\n",
       "Fantasy      3806     1\n",
       "Family       4838     1\n",
       "Drama        33514    1\n",
       "Documentary  8458     1\n",
       "Crime        11769    1\n",
       "Comedy       18865    1\n",
       "Biography    4279     1\n",
       "Animation    4973     1\n",
       "Adventure    12178    1\n",
       "Western      3533     1\n",
       "dtype: int64"
      ]
     },
     "execution_count": 22,
     "metadata": {},
     "output_type": "execute_result"
    }
   ],
   "source": [
    "genre_movies.value_counts()"
   ]
  },
  {
   "cell_type": "code",
   "execution_count": 23,
   "metadata": {},
   "outputs": [],
   "source": [
    "genre_books[\"Type\"]= \"Book\"\n",
    "genre_movies[\"Type\"] = \"Movie\""
   ]
  },
  {
   "cell_type": "code",
   "execution_count": 24,
   "metadata": {},
   "outputs": [],
   "source": [
    "genre_total = pd.concat([genre_books,genre_movies])"
   ]
  },
  {
   "cell_type": "code",
   "execution_count": 26,
   "metadata": {},
   "outputs": [],
   "source": [
    "movies_2 = movies[movies[\"Votes\"]>80000]\n",
    "books_2 = books[books[\"Votes\"]>80000]"
   ]
  },
  {
   "cell_type": "code",
   "execution_count": 27,
   "metadata": {},
   "outputs": [
    {
     "data": {
      "text/html": [
       "<div>\n",
       "<style scoped>\n",
       "    .dataframe tbody tr th:only-of-type {\n",
       "        vertical-align: middle;\n",
       "    }\n",
       "\n",
       "    .dataframe tbody tr th {\n",
       "        vertical-align: top;\n",
       "    }\n",
       "\n",
       "    .dataframe thead th {\n",
       "        text-align: right;\n",
       "    }\n",
       "</style>\n",
       "<table border=\"1\" class=\"dataframe\">\n",
       "  <thead>\n",
       "    <tr style=\"text-align: right;\">\n",
       "      <th></th>\n",
       "      <th>Title</th>\n",
       "      <th>Image</th>\n",
       "      <th>Genre</th>\n",
       "      <th>Description</th>\n",
       "      <th>Rating</th>\n",
       "      <th>Votes</th>\n",
       "      <th>Directors</th>\n",
       "      <th>Stars</th>\n",
       "    </tr>\n",
       "  </thead>\n",
       "  <tbody>\n",
       "    <tr>\n",
       "      <th>1</th>\n",
       "      <td>John Wick 4</td>\n",
       "      <td>https://m.media-amazon.com/images/M/MV5BMDExZG...</td>\n",
       "      <td>[Crime, Thriller, Action]</td>\n",
       "      <td>John Wick uncovers a path to defeating The Hig...</td>\n",
       "      <td>8.3</td>\n",
       "      <td>106008</td>\n",
       "      <td>Chad Stahelski</td>\n",
       "      <td>Keanu Reeves| Laurence Fishburne| George Geor...</td>\n",
       "    </tr>\n",
       "  </tbody>\n",
       "</table>\n",
       "</div>"
      ],
      "text/plain": [
       "         Title                                              Image  \\\n",
       "1  John Wick 4  https://m.media-amazon.com/images/M/MV5BMDExZG...   \n",
       "\n",
       "                       Genre  \\\n",
       "1  [Crime, Thriller, Action]   \n",
       "\n",
       "                                         Description  Rating   Votes  \\\n",
       "1  John Wick uncovers a path to defeating The Hig...     8.3  106008   \n",
       "\n",
       "          Directors                                              Stars  \n",
       "1   Chad Stahelski    Keanu Reeves| Laurence Fishburne| George Geor...  "
      ]
     },
     "execution_count": 27,
     "metadata": {},
     "output_type": "execute_result"
    }
   ],
   "source": [
    "movies_2.head(1)"
   ]
  },
  {
   "cell_type": "code",
   "execution_count": 28,
   "metadata": {},
   "outputs": [
    {
     "data": {
      "text/html": [
       "<div>\n",
       "<style scoped>\n",
       "    .dataframe tbody tr th:only-of-type {\n",
       "        vertical-align: middle;\n",
       "    }\n",
       "\n",
       "    .dataframe tbody tr th {\n",
       "        vertical-align: top;\n",
       "    }\n",
       "\n",
       "    .dataframe thead th {\n",
       "        text-align: right;\n",
       "    }\n",
       "</style>\n",
       "<table border=\"1\" class=\"dataframe\">\n",
       "  <thead>\n",
       "    <tr style=\"text-align: right;\">\n",
       "      <th></th>\n",
       "      <th>Author</th>\n",
       "      <th>Image</th>\n",
       "      <th>Description</th>\n",
       "      <th>Rating</th>\n",
       "      <th>Votes</th>\n",
       "      <th>Title</th>\n",
       "      <th>Genre</th>\n",
       "    </tr>\n",
       "  </thead>\n",
       "  <tbody>\n",
       "    <tr>\n",
       "      <th>0</th>\n",
       "      <td>William Shakespeare</td>\n",
       "      <td>https://images-na.ssl-images-amazon.com/images...</td>\n",
       "      <td>In Romeo and Juliet, Shakespeare creates a vio...</td>\n",
       "      <td>7.48</td>\n",
       "      <td>2462752</td>\n",
       "      <td>Romeo and Juliet</td>\n",
       "      <td>[Romance]</td>\n",
       "    </tr>\n",
       "  </tbody>\n",
       "</table>\n",
       "</div>"
      ],
      "text/plain": [
       "                Author                                              Image  \\\n",
       "0  William Shakespeare  https://images-na.ssl-images-amazon.com/images...   \n",
       "\n",
       "                                         Description  Rating    Votes  \\\n",
       "0  In Romeo and Juliet, Shakespeare creates a vio...    7.48  2462752   \n",
       "\n",
       "              Title      Genre  \n",
       "0  Romeo and Juliet  [Romance]  "
      ]
     },
     "execution_count": 28,
     "metadata": {},
     "output_type": "execute_result"
    }
   ],
   "source": [
    "books_2.head(1)"
   ]
  },
  {
   "cell_type": "code",
   "execution_count": 29,
   "metadata": {},
   "outputs": [],
   "source": [
    "books_exploded = pd.DataFrame({\"Image\":books_2[\"Image\"],\"Title\": books_2[\"Title\"],\"Author\":books_2[\"Author\"], \"Rating\": books_2[\"Rating\"],\"Description\":books_2[\"Description\"],\"Genre\":books_2[\"Genre\"]})\n",
    "movies_exploded = pd.DataFrame({\"Image\":movies_2[\"Image\"],\"Title\": movies_2[\"Title\"],\"Directors\":movies_2[\"Directors\"], \"Rating\": movies_2[\"Rating\"],\"Description\": movies_2[\"Description\"],\"Genre\":movies_2[\"Genre\"]})\n"
   ]
  },
  {
   "cell_type": "code",
   "execution_count": 28,
   "metadata": {},
   "outputs": [],
   "source": [
    "books_exploded = books_exploded.explode(\"Genre\").reset_index(drop=True)\n",
    "movies_exploded = movies_exploded.explode(\"Genre\").reset_index(drop=True)"
   ]
  },
  {
   "cell_type": "code",
   "execution_count": 32,
   "metadata": {},
   "outputs": [
    {
     "data": {
      "text/plain": [
       "2635"
      ]
     },
     "execution_count": 32,
     "metadata": {},
     "output_type": "execute_result"
    }
   ],
   "source": []
  },
  {
   "cell_type": "code",
   "execution_count": 34,
   "metadata": {},
   "outputs": [],
   "source": [
    "books_exploded.to_csv(\"../Data/Books_exploded.csv\")\n",
    "movies_exploded.to_csv(\"../Data/Movies_exploded.csv\")\n",
    "genre_total.to_csv(\"../Data/genre_total.csv\")"
   ]
  }
 ],
 "metadata": {
  "kernelspec": {
   "display_name": "ironhack",
   "language": "python",
   "name": "python3"
  },
  "language_info": {
   "codemirror_mode": {
    "name": "ipython",
    "version": 3
   },
   "file_extension": ".py",
   "mimetype": "text/x-python",
   "name": "python",
   "nbconvert_exporter": "python",
   "pygments_lexer": "ipython3",
   "version": "3.9.13"
  },
  "orig_nbformat": 4
 },
 "nbformat": 4,
 "nbformat_minor": 2
}
