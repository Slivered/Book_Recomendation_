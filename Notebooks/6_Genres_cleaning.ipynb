{
 "cells": [
  {
   "cell_type": "code",
   "execution_count": 1,
   "metadata": {},
   "outputs": [],
   "source": [
    "import pandas as pd\n",
    "\n",
    "import sys\n",
    "sys.path.append(\"../\")\n",
    "import src.Resources as src"
   ]
  },
  {
   "attachments": {},
   "cell_type": "markdown",
   "metadata": {},
   "source": [
    "Here we load Books_clean to simplify the genres."
   ]
  },
  {
   "cell_type": "code",
   "execution_count": 2,
   "metadata": {},
   "outputs": [],
   "source": [
    "df_book = pd.read_csv(\"../Data/Books_clean.csv\",index_col=0)"
   ]
  },
  {
   "attachments": {},
   "cell_type": "markdown",
   "metadata": {},
   "source": [
    "This function uses a dictionary in my library.py to simplify all the genres of the books, then this is applied with a map."
   ]
  },
  {
   "cell_type": "code",
   "execution_count": 3,
   "metadata": {},
   "outputs": [],
   "source": [
    "df_book['Book_genre'] = df_book['Book_genre'].apply(src.map_genre)"
   ]
  },
  {
   "attachments": {},
   "cell_type": "markdown",
   "metadata": {},
   "source": [
    "These are now the new genres for the books."
   ]
  },
  {
   "cell_type": "code",
   "execution_count": 4,
   "metadata": {},
   "outputs": [
    {
     "data": {
      "text/html": [
       "<div>\n",
       "<style scoped>\n",
       "    .dataframe tbody tr th:only-of-type {\n",
       "        vertical-align: middle;\n",
       "    }\n",
       "\n",
       "    .dataframe tbody tr th {\n",
       "        vertical-align: top;\n",
       "    }\n",
       "\n",
       "    .dataframe thead th {\n",
       "        text-align: right;\n",
       "    }\n",
       "</style>\n",
       "<table border=\"1\" class=\"dataframe\">\n",
       "  <thead>\n",
       "    <tr style=\"text-align: right;\">\n",
       "      <th></th>\n",
       "      <th>Book_author</th>\n",
       "      <th>Book_img</th>\n",
       "      <th>Book_description</th>\n",
       "      <th>Book_rating</th>\n",
       "      <th>Book_votes</th>\n",
       "      <th>Book_title</th>\n",
       "      <th>Book_genre</th>\n",
       "    </tr>\n",
       "  </thead>\n",
       "  <tbody>\n",
       "    <tr>\n",
       "      <th>0</th>\n",
       "      <td>William Shakespeare</td>\n",
       "      <td>https://images-na.ssl-images-amazon.com/images...</td>\n",
       "      <td>In Romeo and Juliet, Shakespeare creates a vio...</td>\n",
       "      <td>7.48</td>\n",
       "      <td>2462752</td>\n",
       "      <td>Romeo and Juliet</td>\n",
       "      <td>Romance</td>\n",
       "    </tr>\n",
       "    <tr>\n",
       "      <th>1</th>\n",
       "      <td>William Shakespeare</td>\n",
       "      <td>https://images-na.ssl-images-amazon.com/images...</td>\n",
       "      <td>Among Shakespeare's plays, \"Hamlet\" is conside...</td>\n",
       "      <td>8.04</td>\n",
       "      <td>888492</td>\n",
       "      <td>Hamlet</td>\n",
       "      <td>Drama</td>\n",
       "    </tr>\n",
       "    <tr>\n",
       "      <th>2</th>\n",
       "      <td>William Shakespeare</td>\n",
       "      <td>https://images-na.ssl-images-amazon.com/images...</td>\n",
       "      <td>One night on the heath, the brave and respecte...</td>\n",
       "      <td>7.80</td>\n",
       "      <td>836710</td>\n",
       "      <td>Macbeth</td>\n",
       "      <td>Family</td>\n",
       "    </tr>\n",
       "    <tr>\n",
       "      <th>3</th>\n",
       "      <td>William Shakespeare</td>\n",
       "      <td>https://images-na.ssl-images-amazon.com/images...</td>\n",
       "      <td>In Othello, Shakespeare creates a powerful dra...</td>\n",
       "      <td>7.78</td>\n",
       "      <td>368863</td>\n",
       "      <td>Othello</td>\n",
       "      <td>Drama</td>\n",
       "    </tr>\n",
       "    <tr>\n",
       "      <th>4</th>\n",
       "      <td>William Shakespeare</td>\n",
       "      <td>https://images-na.ssl-images-amazon.com/images...</td>\n",
       "      <td>Shakespeare's intertwined love polygons begin ...</td>\n",
       "      <td>7.90</td>\n",
       "      <td>513517</td>\n",
       "      <td>A Midsummer Night's Dream</td>\n",
       "      <td>Fantasy</td>\n",
       "    </tr>\n",
       "  </tbody>\n",
       "</table>\n",
       "</div>"
      ],
      "text/plain": [
       "           Book_author                                           Book_img  \\\n",
       "0  William Shakespeare  https://images-na.ssl-images-amazon.com/images...   \n",
       "1  William Shakespeare  https://images-na.ssl-images-amazon.com/images...   \n",
       "2  William Shakespeare  https://images-na.ssl-images-amazon.com/images...   \n",
       "3  William Shakespeare  https://images-na.ssl-images-amazon.com/images...   \n",
       "4  William Shakespeare  https://images-na.ssl-images-amazon.com/images...   \n",
       "\n",
       "                                    Book_description  Book_rating  Book_votes  \\\n",
       "0  In Romeo and Juliet, Shakespeare creates a vio...         7.48     2462752   \n",
       "1  Among Shakespeare's plays, \"Hamlet\" is conside...         8.04      888492   \n",
       "2  One night on the heath, the brave and respecte...         7.80      836710   \n",
       "3  In Othello, Shakespeare creates a powerful dra...         7.78      368863   \n",
       "4  Shakespeare's intertwined love polygons begin ...         7.90      513517   \n",
       "\n",
       "                  Book_title Book_genre  \n",
       "0           Romeo and Juliet    Romance  \n",
       "1                     Hamlet      Drama  \n",
       "2                    Macbeth     Family  \n",
       "3                    Othello      Drama  \n",
       "4  A Midsummer Night's Dream    Fantasy  "
      ]
     },
     "execution_count": 4,
     "metadata": {},
     "output_type": "execute_result"
    }
   ],
   "source": [
    "df_book.head()"
   ]
  },
  {
   "attachments": {},
   "cell_type": "markdown",
   "metadata": {},
   "source": [
    "We drop any Nan because that means that it doesn't coincide with any genre that i have for my movies, so I won't be able to do a good recommendation based in the genre."
   ]
  },
  {
   "cell_type": "code",
   "execution_count": 5,
   "metadata": {},
   "outputs": [
    {
     "data": {
      "text/plain": [
       "Book_author          0\n",
       "Book_img             0\n",
       "Book_description    11\n",
       "Book_rating          0\n",
       "Book_votes           0\n",
       "Book_title           0\n",
       "Book_genre          49\n",
       "dtype: int64"
      ]
     },
     "execution_count": 5,
     "metadata": {},
     "output_type": "execute_result"
    }
   ],
   "source": [
    "df_book.isna().sum()"
   ]
  },
  {
   "cell_type": "code",
   "execution_count": 6,
   "metadata": {},
   "outputs": [],
   "source": [
    "df_book.dropna(inplace=True)"
   ]
  },
  {
   "cell_type": "code",
   "execution_count": 7,
   "metadata": {},
   "outputs": [],
   "source": [
    "df_book.to_csv(\"../Data/Books_clean_filtered.csv\")"
   ]
  }
 ],
 "metadata": {
  "kernelspec": {
   "display_name": "ironhack",
   "language": "python",
   "name": "python3"
  },
  "language_info": {
   "codemirror_mode": {
    "name": "ipython",
    "version": 3
   },
   "file_extension": ".py",
   "mimetype": "text/x-python",
   "name": "python",
   "nbconvert_exporter": "python",
   "pygments_lexer": "ipython3",
   "version": "3.9.13"
  },
  "orig_nbformat": 4
 },
 "nbformat": 4,
 "nbformat_minor": 2
}
