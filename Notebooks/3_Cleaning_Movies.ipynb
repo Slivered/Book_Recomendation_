{
 "cells": [
  {
   "cell_type": "code",
   "execution_count": 9,
   "metadata": {},
   "outputs": [],
   "source": [
    "import pandas as pd\n",
    "import numpy as np\n",
    "import pickle\n",
    "#pd.set_option('display.max_colwidth', None)\n",
    "import sys\n",
    "sys.path.append(\"../\")\n",
    "import src.Resources as src\n",
    "\n",
    "import warnings\n",
    "warnings.filterwarnings('ignore')"
   ]
  },
  {
   "attachments": {},
   "cell_type": "markdown",
   "metadata": {},
   "source": [
    "In this notebook i will clean all the data from imdb. We start with this base csv called Movies."
   ]
  },
  {
   "cell_type": "code",
   "execution_count": 10,
   "metadata": {},
   "outputs": [],
   "source": [
    "main_df = pd.read_csv('../Data/Movies.csv', index_col= 0)  "
   ]
  },
  {
   "attachments": {},
   "cell_type": "markdown",
   "metadata": {},
   "source": [
    "We change the name of each of the collumns"
   ]
  },
  {
   "cell_type": "code",
   "execution_count": 11,
   "metadata": {},
   "outputs": [],
   "source": [
    "main_df.columns = [\"Movie_name\",\"Movie_img\",\"Movie_genre\",\"Movie_description\",\"Movie_rating\",\"Casting\",\"Movie_votes\",\"Movie_directors\",\"Movie_stars\"]"
   ]
  },
  {
   "attachments": {},
   "cell_type": "markdown",
   "metadata": {},
   "source": [
    "We run two cleaning functions from Resources.py"
   ]
  },
  {
   "cell_type": "code",
   "execution_count": 12,
   "metadata": {},
   "outputs": [],
   "source": [
    "main_df[\"Movie_rating\"] = main_df[\"Movie_rating\"].apply(lambda x: src.movie_rating_cleaner(x))\n",
    "main_df[\"Movie_votes\"] = main_df[\"Movie_votes\"].apply(lambda x: src.movie_vote_cleaner(x))"
   ]
  },
  {
   "attachments": {},
   "cell_type": "markdown",
   "metadata": {},
   "source": [
    "And now it's time to run the main cleaning function for imdb, it also grabs all the .pkl we have in data and concat them together to make one DataFrame of them all."
   ]
  },
  {
   "cell_type": "code",
   "execution_count": 13,
   "metadata": {},
   "outputs": [],
   "source": [
    "clean_df = src.movie_cleaner(main_df)"
   ]
  },
  {
   "attachments": {},
   "cell_type": "markdown",
   "metadata": {},
   "source": [
    "Here we need to reset the index, drop duplicates and reset index again."
   ]
  },
  {
   "cell_type": "code",
   "execution_count": 14,
   "metadata": {},
   "outputs": [],
   "source": [
    "clean_df.reset_index(inplace=True)\n",
    "clean_df.drop(\"index\",axis=1,inplace=True)\n",
    "clean_df.drop_duplicates(inplace=True)\n",
    "clean_df.reset_index(inplace=True)\n",
    "clean_df.drop(\"index\",axis=1,inplace=True)"
   ]
  },
  {
   "attachments": {},
   "cell_type": "markdown",
   "metadata": {},
   "source": [
    "Here we divide our Directors and Stars by the character \"|\", this will be useful later on for my recommendation."
   ]
  },
  {
   "cell_type": "code",
   "execution_count": 15,
   "metadata": {},
   "outputs": [],
   "source": [
    "clean_df[\"Movie_stars\"] = clean_df[\"Movie_stars\"].apply(lambda x: src.split_casting(x))\n",
    "clean_df[\"Movie_directors\"] = clean_df[\"Movie_directors\"].apply(lambda x: src.split_casting(x))"
   ]
  },
  {
   "attachments": {},
   "cell_type": "markdown",
   "metadata": {},
   "source": [
    "I don't need casting anymore so we will drop it."
   ]
  },
  {
   "cell_type": "code",
   "execution_count": 16,
   "metadata": {},
   "outputs": [],
   "source": [
    "clean_df.drop(\"Casting\",axis=1,inplace=True)"
   ]
  },
  {
   "attachments": {},
   "cell_type": "markdown",
   "metadata": {},
   "source": [
    "We make sure that there aren't any null values, and then we save it as Movies_clean"
   ]
  },
  {
   "cell_type": "code",
   "execution_count": 17,
   "metadata": {},
   "outputs": [
    {
     "data": {
      "text/plain": [
       "0          John Francis Daley| Jonathan Goldstein \n",
       "1                                  Chad Stahelski \n",
       "2                                 Jeremy Garelick \n",
       "3                                   James Cameron \n",
       "4                                  Kyle Newacheck \n",
       "                            ...                   \n",
       "130080             Jessica Kitrick| Lewis Lovhaug \n",
       "130081                              Tristan Price \n",
       "130082                              Aman Sachdeva \n",
       "130083                            Riccardo Ghione \n",
       "130084                               Edward Conna \n",
       "Name: Movie_directors, Length: 130085, dtype: object"
      ]
     },
     "execution_count": 17,
     "metadata": {},
     "output_type": "execute_result"
    }
   ],
   "source": [
    "clean_df[\"Movie_directors\"]"
   ]
  },
  {
   "cell_type": "code",
   "execution_count": 18,
   "metadata": {},
   "outputs": [
    {
     "data": {
      "text/plain": [
       "Movie_name           0\n",
       "Movie_img            0\n",
       "Movie_genre          0\n",
       "Movie_description    0\n",
       "Movie_rating         0\n",
       "Movie_votes          0\n",
       "Movie_directors      0\n",
       "Movie_stars          0\n",
       "dtype: int64"
      ]
     },
     "execution_count": 18,
     "metadata": {},
     "output_type": "execute_result"
    }
   ],
   "source": [
    "clean_df.isnull().sum()"
   ]
  },
  {
   "cell_type": "code",
   "execution_count": 19,
   "metadata": {},
   "outputs": [],
   "source": [
    "clean_df.to_csv(\"../Data/Movies_clean.csv\")"
   ]
  }
 ],
 "metadata": {
  "kernelspec": {
   "display_name": "ironhack",
   "language": "python",
   "name": "python3"
  },
  "language_info": {
   "codemirror_mode": {
    "name": "ipython",
    "version": 3
   },
   "file_extension": ".py",
   "mimetype": "text/x-python",
   "name": "python",
   "nbconvert_exporter": "python",
   "pygments_lexer": "ipython3",
   "version": "3.9.13"
  },
  "orig_nbformat": 4,
  "vscode": {
   "interpreter": {
    "hash": "65b7599f6186181a4b80ca81fba347bd73305ca16c03b6761d91b86b0f734eb2"
   }
  }
 },
 "nbformat": 4,
 "nbformat_minor": 2
}
