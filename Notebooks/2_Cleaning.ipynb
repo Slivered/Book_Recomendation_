{
 "cells": [
  {
   "cell_type": "code",
   "execution_count": 38,
   "metadata": {},
   "outputs": [],
   "source": [
    "import pandas as pd\n",
    "import numpy as np\n",
    "import pickle\n",
    "import sys\n",
    "sys.path.append(\"../\")\n",
    "import src.Resources as src\n",
    "\n",
    "import warnings\n",
    "warnings.filterwarnings('ignore')\n"
   ]
  },
  {
   "attachments": {},
   "cell_type": "markdown",
   "metadata": {},
   "source": [
    "In this notebook i will clean all the data from imdb. We start with this base csv called Movies."
   ]
  },
  {
   "cell_type": "code",
   "execution_count": 39,
   "metadata": {},
   "outputs": [],
   "source": [
    "main_df = pd.read_csv('../Data/Movies.csv', index_col= 0)  "
   ]
  },
  {
   "attachments": {},
   "cell_type": "markdown",
   "metadata": {},
   "source": [
    "We change the name of each of the collumns"
   ]
  },
  {
   "cell_type": "code",
   "execution_count": 40,
   "metadata": {},
   "outputs": [],
   "source": [
    "main_df.columns = [\"Movie_name\",\"Movie_img\",\"Movie_genre\",\"Movie_description\",\"Movie_rating\",\"Casting\",\"Movie_votes\",\"Movie_directors\",\"Movie_stars\"]"
   ]
  },
  {
   "attachments": {},
   "cell_type": "markdown",
   "metadata": {},
   "source": [
    "We run two cleaning functions from Resources.py"
   ]
  },
  {
   "cell_type": "code",
   "execution_count": 41,
   "metadata": {},
   "outputs": [],
   "source": [
    "main_df[\"Movie_rating\"] = main_df[\"Movie_rating\"].apply(lambda x: src.movie_rating_cleaner(x))\n",
    "main_df[\"Movie_votes\"] = main_df[\"Movie_votes\"].apply(lambda x: src.movie_vote_cleaner(x))"
   ]
  },
  {
   "attachments": {},
   "cell_type": "markdown",
   "metadata": {},
   "source": [
    "And now it's time to run the main cleaning function for imdb, it also grabs all the .pkl we have in data and concat them together to make one DataFrame of them all."
   ]
  },
  {
   "cell_type": "code",
   "execution_count": 42,
   "metadata": {},
   "outputs": [],
   "source": [
    "clean_df = src.movie_cleaner(main_df)"
   ]
  },
  {
   "attachments": {},
   "cell_type": "markdown",
   "metadata": {},
   "source": [
    "Here we need to reset the index, drop duplicates and reset index again."
   ]
  },
  {
   "cell_type": "code",
   "execution_count": 43,
   "metadata": {},
   "outputs": [],
   "source": [
    "clean_df.reset_index(inplace=True)\n",
    "clean_df.drop(\"index\",axis=1,inplace=True)\n",
    "clean_df.drop_duplicates(inplace=True)\n",
    "clean_df.reset_index(inplace=True)\n",
    "clean_df.drop(\"index\",axis=1,inplace=True)"
   ]
  },
  {
   "attachments": {},
   "cell_type": "markdown",
   "metadata": {},
   "source": [
    "Here we divide our Directors and Stars by the character \"|\", this will be useful later on for my recommendation."
   ]
  },
  {
   "cell_type": "code",
   "execution_count": 44,
   "metadata": {},
   "outputs": [],
   "source": [
    "clean_df[\"Movie_stars\"] = clean_df[\"Movie_stars\"].apply(lambda x: src.split_casting(x))\n",
    "clean_df[\"Movie_directors\"] = clean_df[\"Movie_directors\"].apply(lambda x: src.split_casting(x))"
   ]
  },
  {
   "attachments": {},
   "cell_type": "markdown",
   "metadata": {},
   "source": [
    "I don't need casting anymore so we will drop it."
   ]
  },
  {
   "cell_type": "code",
   "execution_count": 45,
   "metadata": {},
   "outputs": [],
   "source": [
    "clean_df.drop(\"Casting\",axis=1,inplace=True)"
   ]
  },
  {
   "attachments": {},
   "cell_type": "markdown",
   "metadata": {},
   "source": [
    "We make sure that there aren't any null values, and then we save it as Movies_clean"
   ]
  },
  {
   "cell_type": "code",
   "execution_count": 46,
   "metadata": {},
   "outputs": [
    {
     "data": {
      "text/plain": [
       "0          John Francis Daley| Jonathan Goldstein \n",
       "1                                  Chad Stahelski \n",
       "2                                 Jeremy Garelick \n",
       "3                                   James Cameron \n",
       "4                                  Kyle Newacheck \n",
       "                            ...                   \n",
       "130080             Jessica Kitrick| Lewis Lovhaug \n",
       "130081                              Tristan Price \n",
       "130082                              Aman Sachdeva \n",
       "130083                            Riccardo Ghione \n",
       "130084                               Edward Conna \n",
       "Name: Movie_directors, Length: 130085, dtype: object"
      ]
     },
     "execution_count": 46,
     "metadata": {},
     "output_type": "execute_result"
    }
   ],
   "source": [
    "clean_df[\"Movie_directors\"]"
   ]
  },
  {
   "cell_type": "code",
   "execution_count": 47,
   "metadata": {},
   "outputs": [
    {
     "data": {
      "text/plain": [
       "Movie_name           0\n",
       "Movie_img            0\n",
       "Movie_genre          0\n",
       "Movie_description    0\n",
       "Movie_rating         0\n",
       "Movie_votes          0\n",
       "Movie_directors      0\n",
       "Movie_stars          0\n",
       "dtype: int64"
      ]
     },
     "execution_count": 47,
     "metadata": {},
     "output_type": "execute_result"
    }
   ],
   "source": [
    "clean_df.isnull().sum()"
   ]
  },
  {
   "cell_type": "code",
   "execution_count": 48,
   "metadata": {},
   "outputs": [],
   "source": [
    "clean_df.to_csv(\"../Data/Movies_clean.csv\")"
   ]
  },
  {
   "attachments": {},
   "cell_type": "markdown",
   "metadata": {},
   "source": [
    "Now we will clean the Goodreads scraped data"
   ]
  },
  {
   "attachments": {},
   "cell_type": "markdown",
   "metadata": {},
   "source": [
    "In this notebook I will clean the data scraped from Goodreads and as well put it all in one DataFrame.\n",
    "First, we start with the DataFrame Books as a baseline."
   ]
  },
  {
   "cell_type": "code",
   "execution_count": 49,
   "metadata": {},
   "outputs": [],
   "source": [
    "book_df = pd.read_csv('../Data/Books.csv', index_col= 0)  "
   ]
  },
  {
   "cell_type": "code",
   "execution_count": 50,
   "metadata": {},
   "outputs": [
    {
     "data": {
      "text/html": [
       "<div>\n",
       "<style scoped>\n",
       "    .dataframe tbody tr th:only-of-type {\n",
       "        vertical-align: middle;\n",
       "    }\n",
       "\n",
       "    .dataframe tbody tr th {\n",
       "        vertical-align: top;\n",
       "    }\n",
       "\n",
       "    .dataframe thead th {\n",
       "        text-align: right;\n",
       "    }\n",
       "</style>\n",
       "<table border=\"1\" class=\"dataframe\">\n",
       "  <thead>\n",
       "    <tr style=\"text-align: right;\">\n",
       "      <th></th>\n",
       "      <th>Book_author</th>\n",
       "      <th>Book_img</th>\n",
       "      <th>Book_description</th>\n",
       "      <th>Book_rating</th>\n",
       "      <th>Book_votes</th>\n",
       "      <th>Book_title</th>\n",
       "      <th>Book_genre</th>\n",
       "    </tr>\n",
       "  </thead>\n",
       "  <tbody>\n",
       "    <tr>\n",
       "      <th>0</th>\n",
       "      <td>William Shakespeare</td>\n",
       "      <td>https://images-na.ssl-images-amazon.com/images...</td>\n",
       "      <td>In Romeo and Juliet, Shakespeare creates a vio...</td>\n",
       "      <td>3.74</td>\n",
       "      <td>2462752</td>\n",
       "      <td>Romeo and Juliet</td>\n",
       "      <td>Classics|Plays|Fiction|Romance</td>\n",
       "    </tr>\n",
       "  </tbody>\n",
       "</table>\n",
       "</div>"
      ],
      "text/plain": [
       "           Book_author                                           Book_img  \\\n",
       "0  William Shakespeare  https://images-na.ssl-images-amazon.com/images...   \n",
       "\n",
       "                                    Book_description  Book_rating  Book_votes  \\\n",
       "0  In Romeo and Juliet, Shakespeare creates a vio...         3.74     2462752   \n",
       "\n",
       "         Book_title                      Book_genre  \n",
       "0  Romeo and Juliet  Classics|Plays|Fiction|Romance  "
      ]
     },
     "execution_count": 50,
     "metadata": {},
     "output_type": "execute_result"
    }
   ],
   "source": [
    "book_df.head(1)"
   ]
  },
  {
   "attachments": {},
   "cell_type": "markdown",
   "metadata": {},
   "source": [
    "This is a list of all the .pkl that we want to load to our DataFrame, i chose them all, if in a future you would scrap new books you need to put the name of the pkl in here aswell, keep in mind to remove Books from the name here."
   ]
  },
  {
   "attachments": {},
   "cell_type": "markdown",
   "metadata": {},
   "source": [
    "Exemple: Books_Action.pkl for this list would be just Action."
   ]
  },
  {
   "cell_type": "code",
   "execution_count": 51,
   "metadata": {},
   "outputs": [],
   "source": [
    "genres= [\"Action\",\"Adventure\",\"Comedy\",\"Crime\",\"Drama\",\"Fantasy\",\"History\",\"Horror\",\"Mystery\",\"Romance\",\"Sciencefiction\",\"Superhero\",\"Thriller\",\"List\"]"
   ]
  },
  {
   "attachments": {},
   "cell_type": "markdown",
   "metadata": {},
   "source": [
    "Here we run the cleaning function, this function aswell puts all the pickles together into one DataFrame."
   ]
  },
  {
   "cell_type": "code",
   "execution_count": 52,
   "metadata": {},
   "outputs": [],
   "source": [
    "book_df = src.book_cleaner(genres,book_df)"
   ]
  },
  {
   "attachments": {},
   "cell_type": "markdown",
   "metadata": {},
   "source": [
    "We reset the index, drop duplicates, reset index again and then we multiply the rating by 2 so its in the same scale as imdb."
   ]
  },
  {
   "cell_type": "code",
   "execution_count": 53,
   "metadata": {},
   "outputs": [],
   "source": [
    "book_df.reset_index(inplace=True)\n",
    "book_df.drop(\"index\",axis=1,inplace=True)\n",
    "book_df.drop_duplicates(inplace=True)\n",
    "book_df.reset_index(inplace=True)\n",
    "book_df.drop(\"index\",axis=1,inplace=True)\n",
    "book_df[\"Book_rating\"] = book_df[\"Book_rating\"].apply(lambda x: src.book_rating_multiplier(x))"
   ]
  },
  {
   "attachments": {},
   "cell_type": "markdown",
   "metadata": {},
   "source": [
    "We make sure that there aren't any Nan values, in this case there is one so ill just replace it for: \"No description\"."
   ]
  },
  {
   "cell_type": "code",
   "execution_count": 54,
   "metadata": {},
   "outputs": [
    {
     "data": {
      "text/plain": [
       "Book_author         0\n",
       "Book_img            0\n",
       "Book_description    1\n",
       "Book_rating         0\n",
       "Book_votes          0\n",
       "Book_title          0\n",
       "Book_genre          0\n",
       "dtype: int64"
      ]
     },
     "execution_count": 54,
     "metadata": {},
     "output_type": "execute_result"
    }
   ],
   "source": [
    "book_df.isnull().sum()"
   ]
  },
  {
   "cell_type": "code",
   "execution_count": 55,
   "metadata": {},
   "outputs": [],
   "source": [
    "book_df=book_df.fillna(\"No description\")"
   ]
  },
  {
   "attachments": {},
   "cell_type": "markdown",
   "metadata": {},
   "source": [
    "This is the look of the DataFrame clean and with all of the new data we got from the pickles that were scraped with our goodreads selenium function."
   ]
  },
  {
   "attachments": {},
   "cell_type": "markdown",
   "metadata": {},
   "source": [
    "And finally we save it as Books_clean"
   ]
  },
  {
   "cell_type": "code",
   "execution_count": 56,
   "metadata": {},
   "outputs": [],
   "source": [
    "book_df.to_csv(\"../Data/Books_clean.csv\")"
   ]
  },
  {
   "cell_type": "code",
   "execution_count": null,
   "metadata": {},
   "outputs": [],
   "source": []
  },
  {
   "attachments": {},
   "cell_type": "markdown",
   "metadata": {},
   "source": [
    "Here we load Books_clean to simplify the genres."
   ]
  },
  {
   "attachments": {},
   "cell_type": "markdown",
   "metadata": {},
   "source": [
    "This function uses a dictionary in my library.py to simplify all the genres of the books, then this is applied with a map."
   ]
  },
  {
   "cell_type": "code",
   "execution_count": 57,
   "metadata": {},
   "outputs": [],
   "source": [
    "book_df['Book_genre'] = book_df['Book_genre'].apply(src.map_genre)"
   ]
  },
  {
   "attachments": {},
   "cell_type": "markdown",
   "metadata": {},
   "source": [
    "These are now the new genres for the books."
   ]
  },
  {
   "cell_type": "code",
   "execution_count": 58,
   "metadata": {},
   "outputs": [
    {
     "data": {
      "text/html": [
       "<div>\n",
       "<style scoped>\n",
       "    .dataframe tbody tr th:only-of-type {\n",
       "        vertical-align: middle;\n",
       "    }\n",
       "\n",
       "    .dataframe tbody tr th {\n",
       "        vertical-align: top;\n",
       "    }\n",
       "\n",
       "    .dataframe thead th {\n",
       "        text-align: right;\n",
       "    }\n",
       "</style>\n",
       "<table border=\"1\" class=\"dataframe\">\n",
       "  <thead>\n",
       "    <tr style=\"text-align: right;\">\n",
       "      <th></th>\n",
       "      <th>Book_author</th>\n",
       "      <th>Book_img</th>\n",
       "      <th>Book_description</th>\n",
       "      <th>Book_rating</th>\n",
       "      <th>Book_votes</th>\n",
       "      <th>Book_title</th>\n",
       "      <th>Book_genre</th>\n",
       "    </tr>\n",
       "  </thead>\n",
       "  <tbody>\n",
       "    <tr>\n",
       "      <th>0</th>\n",
       "      <td>William Shakespeare</td>\n",
       "      <td>https://images-na.ssl-images-amazon.com/images...</td>\n",
       "      <td>In Romeo and Juliet, Shakespeare creates a vio...</td>\n",
       "      <td>7.48</td>\n",
       "      <td>2462752</td>\n",
       "      <td>Romeo and Juliet</td>\n",
       "      <td>Romance</td>\n",
       "    </tr>\n",
       "    <tr>\n",
       "      <th>1</th>\n",
       "      <td>William Shakespeare</td>\n",
       "      <td>https://images-na.ssl-images-amazon.com/images...</td>\n",
       "      <td>Among Shakespeare's plays, \"Hamlet\" is conside...</td>\n",
       "      <td>8.04</td>\n",
       "      <td>888492</td>\n",
       "      <td>Hamlet</td>\n",
       "      <td>Drama</td>\n",
       "    </tr>\n",
       "    <tr>\n",
       "      <th>2</th>\n",
       "      <td>William Shakespeare</td>\n",
       "      <td>https://images-na.ssl-images-amazon.com/images...</td>\n",
       "      <td>One night on the heath, the brave and respecte...</td>\n",
       "      <td>7.80</td>\n",
       "      <td>836710</td>\n",
       "      <td>Macbeth</td>\n",
       "      <td>Family</td>\n",
       "    </tr>\n",
       "    <tr>\n",
       "      <th>3</th>\n",
       "      <td>William Shakespeare</td>\n",
       "      <td>https://images-na.ssl-images-amazon.com/images...</td>\n",
       "      <td>In Othello, Shakespeare creates a powerful dra...</td>\n",
       "      <td>7.78</td>\n",
       "      <td>368863</td>\n",
       "      <td>Othello</td>\n",
       "      <td>Drama</td>\n",
       "    </tr>\n",
       "    <tr>\n",
       "      <th>4</th>\n",
       "      <td>William Shakespeare</td>\n",
       "      <td>https://images-na.ssl-images-amazon.com/images...</td>\n",
       "      <td>Shakespeare's intertwined love polygons begin ...</td>\n",
       "      <td>7.90</td>\n",
       "      <td>513517</td>\n",
       "      <td>A Midsummer Night's Dream</td>\n",
       "      <td>Fantasy</td>\n",
       "    </tr>\n",
       "  </tbody>\n",
       "</table>\n",
       "</div>"
      ],
      "text/plain": [
       "           Book_author                                           Book_img  \\\n",
       "0  William Shakespeare  https://images-na.ssl-images-amazon.com/images...   \n",
       "1  William Shakespeare  https://images-na.ssl-images-amazon.com/images...   \n",
       "2  William Shakespeare  https://images-na.ssl-images-amazon.com/images...   \n",
       "3  William Shakespeare  https://images-na.ssl-images-amazon.com/images...   \n",
       "4  William Shakespeare  https://images-na.ssl-images-amazon.com/images...   \n",
       "\n",
       "                                    Book_description  Book_rating  Book_votes  \\\n",
       "0  In Romeo and Juliet, Shakespeare creates a vio...         7.48     2462752   \n",
       "1  Among Shakespeare's plays, \"Hamlet\" is conside...         8.04      888492   \n",
       "2  One night on the heath, the brave and respecte...         7.80      836710   \n",
       "3  In Othello, Shakespeare creates a powerful dra...         7.78      368863   \n",
       "4  Shakespeare's intertwined love polygons begin ...         7.90      513517   \n",
       "\n",
       "                  Book_title Book_genre  \n",
       "0           Romeo and Juliet    Romance  \n",
       "1                     Hamlet      Drama  \n",
       "2                    Macbeth     Family  \n",
       "3                    Othello      Drama  \n",
       "4  A Midsummer Night's Dream    Fantasy  "
      ]
     },
     "execution_count": 58,
     "metadata": {},
     "output_type": "execute_result"
    }
   ],
   "source": [
    "book_df.head()"
   ]
  },
  {
   "attachments": {},
   "cell_type": "markdown",
   "metadata": {},
   "source": [
    "We drop any Nan because that means that it doesn't coincide with any genre that i have for my movies, so I won't be able to do a good recommendation based in the genre."
   ]
  },
  {
   "cell_type": "code",
   "execution_count": 59,
   "metadata": {},
   "outputs": [
    {
     "data": {
      "text/plain": [
       "Book_author          0\n",
       "Book_img             0\n",
       "Book_description     0\n",
       "Book_rating          0\n",
       "Book_votes           0\n",
       "Book_title           0\n",
       "Book_genre          49\n",
       "dtype: int64"
      ]
     },
     "execution_count": 59,
     "metadata": {},
     "output_type": "execute_result"
    }
   ],
   "source": [
    "book_df.isna().sum()"
   ]
  },
  {
   "cell_type": "code",
   "execution_count": 60,
   "metadata": {},
   "outputs": [],
   "source": [
    "book_df.dropna(inplace=True)"
   ]
  },
  {
   "cell_type": "code",
   "execution_count": 61,
   "metadata": {},
   "outputs": [
    {
     "data": {
      "text/html": [
       "<div>\n",
       "<style scoped>\n",
       "    .dataframe tbody tr th:only-of-type {\n",
       "        vertical-align: middle;\n",
       "    }\n",
       "\n",
       "    .dataframe tbody tr th {\n",
       "        vertical-align: top;\n",
       "    }\n",
       "\n",
       "    .dataframe thead th {\n",
       "        text-align: right;\n",
       "    }\n",
       "</style>\n",
       "<table border=\"1\" class=\"dataframe\">\n",
       "  <thead>\n",
       "    <tr style=\"text-align: right;\">\n",
       "      <th></th>\n",
       "      <th>Book_author</th>\n",
       "      <th>Book_img</th>\n",
       "      <th>Book_description</th>\n",
       "      <th>Book_rating</th>\n",
       "      <th>Book_votes</th>\n",
       "      <th>Book_title</th>\n",
       "      <th>Book_genre</th>\n",
       "    </tr>\n",
       "  </thead>\n",
       "  <tbody>\n",
       "    <tr>\n",
       "      <th>0</th>\n",
       "      <td>William Shakespeare</td>\n",
       "      <td>https://images-na.ssl-images-amazon.com/images...</td>\n",
       "      <td>In Romeo and Juliet, Shakespeare creates a vio...</td>\n",
       "      <td>7.48</td>\n",
       "      <td>2462752</td>\n",
       "      <td>Romeo and Juliet</td>\n",
       "      <td>Romance</td>\n",
       "    </tr>\n",
       "    <tr>\n",
       "      <th>1</th>\n",
       "      <td>William Shakespeare</td>\n",
       "      <td>https://images-na.ssl-images-amazon.com/images...</td>\n",
       "      <td>Among Shakespeare's plays, \"Hamlet\" is conside...</td>\n",
       "      <td>8.04</td>\n",
       "      <td>888492</td>\n",
       "      <td>Hamlet</td>\n",
       "      <td>Drama</td>\n",
       "    </tr>\n",
       "    <tr>\n",
       "      <th>2</th>\n",
       "      <td>William Shakespeare</td>\n",
       "      <td>https://images-na.ssl-images-amazon.com/images...</td>\n",
       "      <td>One night on the heath, the brave and respecte...</td>\n",
       "      <td>7.80</td>\n",
       "      <td>836710</td>\n",
       "      <td>Macbeth</td>\n",
       "      <td>Family</td>\n",
       "    </tr>\n",
       "    <tr>\n",
       "      <th>3</th>\n",
       "      <td>William Shakespeare</td>\n",
       "      <td>https://images-na.ssl-images-amazon.com/images...</td>\n",
       "      <td>In Othello, Shakespeare creates a powerful dra...</td>\n",
       "      <td>7.78</td>\n",
       "      <td>368863</td>\n",
       "      <td>Othello</td>\n",
       "      <td>Drama</td>\n",
       "    </tr>\n",
       "    <tr>\n",
       "      <th>4</th>\n",
       "      <td>William Shakespeare</td>\n",
       "      <td>https://images-na.ssl-images-amazon.com/images...</td>\n",
       "      <td>Shakespeare's intertwined love polygons begin ...</td>\n",
       "      <td>7.90</td>\n",
       "      <td>513517</td>\n",
       "      <td>A Midsummer Night's Dream</td>\n",
       "      <td>Fantasy</td>\n",
       "    </tr>\n",
       "  </tbody>\n",
       "</table>\n",
       "</div>"
      ],
      "text/plain": [
       "           Book_author                                           Book_img  \\\n",
       "0  William Shakespeare  https://images-na.ssl-images-amazon.com/images...   \n",
       "1  William Shakespeare  https://images-na.ssl-images-amazon.com/images...   \n",
       "2  William Shakespeare  https://images-na.ssl-images-amazon.com/images...   \n",
       "3  William Shakespeare  https://images-na.ssl-images-amazon.com/images...   \n",
       "4  William Shakespeare  https://images-na.ssl-images-amazon.com/images...   \n",
       "\n",
       "                                    Book_description  Book_rating  Book_votes  \\\n",
       "0  In Romeo and Juliet, Shakespeare creates a vio...         7.48     2462752   \n",
       "1  Among Shakespeare's plays, \"Hamlet\" is conside...         8.04      888492   \n",
       "2  One night on the heath, the brave and respecte...         7.80      836710   \n",
       "3  In Othello, Shakespeare creates a powerful dra...         7.78      368863   \n",
       "4  Shakespeare's intertwined love polygons begin ...         7.90      513517   \n",
       "\n",
       "                  Book_title Book_genre  \n",
       "0           Romeo and Juliet    Romance  \n",
       "1                     Hamlet      Drama  \n",
       "2                    Macbeth     Family  \n",
       "3                    Othello      Drama  \n",
       "4  A Midsummer Night's Dream    Fantasy  "
      ]
     },
     "execution_count": 61,
     "metadata": {},
     "output_type": "execute_result"
    }
   ],
   "source": [
    "book_df.head()"
   ]
  },
  {
   "cell_type": "code",
   "execution_count": 62,
   "metadata": {},
   "outputs": [],
   "source": [
    "book_df.to_csv(\"../Data/Books_clean_filtered.csv\")"
   ]
  },
  {
   "cell_type": "code",
   "execution_count": null,
   "metadata": {},
   "outputs": [],
   "source": []
  },
  {
   "attachments": {},
   "cell_type": "markdown",
   "metadata": {},
   "source": [
    "Now we do the cleaning to prepare the recomendation"
   ]
  },
  {
   "cell_type": "code",
   "execution_count": 63,
   "metadata": {},
   "outputs": [],
   "source": [
    "movies = pd.read_csv(\"../Data/Movies_clean.csv\",index_col=0)\n",
    "books = pd.read_csv(\"../Data/Books_clean_filtered.csv\",index_col=0)"
   ]
  },
  {
   "attachments": {},
   "cell_type": "markdown",
   "metadata": {},
   "source": [
    "We rename our columns"
   ]
  },
  {
   "cell_type": "code",
   "execution_count": 64,
   "metadata": {},
   "outputs": [],
   "source": [
    "movies.columns = [\"Title\",\"Image\",\"Genre\",\"Description\",\"Rating\",\"Votes\",\"Directors\",\"Stars\"]\n",
    "books.columns = [\"Author\",\"Image\",\"Description\",\"Rating\",\"Votes\",\"Title\",\"Genre\"]"
   ]
  },
  {
   "attachments": {},
   "cell_type": "markdown",
   "metadata": {},
   "source": [
    "Drop unnecesary columns"
   ]
  },
  {
   "cell_type": "code",
   "execution_count": 65,
   "metadata": {},
   "outputs": [],
   "source": [
    "movies_rec = movies.drop([\"Directors\",\"Stars\"],axis=1)\n",
    "books_rec = books.drop([\"Author\",],axis=1)\n",
    "books_rec = books_rec.reindex(columns=[\"Title\",\"Image\",\"Genre\",\"Description\",\"Rating\",\"Votes\"])"
   ]
  },
  {
   "attachments": {},
   "cell_type": "markdown",
   "metadata": {},
   "source": [
    "We create a column with a identifier"
   ]
  },
  {
   "cell_type": "code",
   "execution_count": 66,
   "metadata": {},
   "outputs": [],
   "source": [
    "books_rec[\"Type\"] = \"Book\"\n",
    "movies_rec[\"Type\"] = \"Movie\""
   ]
  },
  {
   "attachments": {},
   "cell_type": "markdown",
   "metadata": {},
   "source": [
    "We concat both movies and books"
   ]
  },
  {
   "cell_type": "code",
   "execution_count": 67,
   "metadata": {},
   "outputs": [],
   "source": [
    "recomendation = pd.concat([books_rec,movies_rec])"
   ]
  },
  {
   "attachments": {},
   "cell_type": "markdown",
   "metadata": {},
   "source": [
    "We create a title identifier, there may be duplicates if a book has a movie adaptation"
   ]
  },
  {
   "cell_type": "code",
   "execution_count": 68,
   "metadata": {},
   "outputs": [],
   "source": [
    "recomendation[\"Title_id\"] = recomendation[\"Title\"]+\"_\"+recomendation[\"Type\"]"
   ]
  },
  {
   "attachments": {},
   "cell_type": "markdown",
   "metadata": {},
   "source": [
    "We filter to have only titles with over 5000 votes"
   ]
  },
  {
   "cell_type": "code",
   "execution_count": 69,
   "metadata": {},
   "outputs": [],
   "source": [
    "recomendation = recomendation[recomendation[\"Votes\"]>5000]"
   ]
  },
  {
   "cell_type": "code",
   "execution_count": 70,
   "metadata": {},
   "outputs": [],
   "source": [
    "recomendation.drop_duplicates(inplace=True)\n",
    "recomendation = recomendation.drop_duplicates(subset=\"Title_id\")\n",
    "recomendation = recomendation.reset_index()\n",
    "recomendation = recomendation.drop(\"index\",axis=1)"
   ]
  },
  {
   "cell_type": "code",
   "execution_count": 71,
   "metadata": {},
   "outputs": [
    {
     "data": {
      "text/html": [
       "<div>\n",
       "<style scoped>\n",
       "    .dataframe tbody tr th:only-of-type {\n",
       "        vertical-align: middle;\n",
       "    }\n",
       "\n",
       "    .dataframe tbody tr th {\n",
       "        vertical-align: top;\n",
       "    }\n",
       "\n",
       "    .dataframe thead th {\n",
       "        text-align: right;\n",
       "    }\n",
       "</style>\n",
       "<table border=\"1\" class=\"dataframe\">\n",
       "  <thead>\n",
       "    <tr style=\"text-align: right;\">\n",
       "      <th></th>\n",
       "      <th>Title</th>\n",
       "      <th>Image</th>\n",
       "      <th>Genre</th>\n",
       "      <th>Description</th>\n",
       "      <th>Rating</th>\n",
       "      <th>Votes</th>\n",
       "      <th>Type</th>\n",
       "      <th>Title_id</th>\n",
       "    </tr>\n",
       "  </thead>\n",
       "  <tbody>\n",
       "    <tr>\n",
       "      <th>0</th>\n",
       "      <td>Romeo and Juliet</td>\n",
       "      <td>https://images-na.ssl-images-amazon.com/images...</td>\n",
       "      <td>Romance</td>\n",
       "      <td>In Romeo and Juliet, Shakespeare creates a vio...</td>\n",
       "      <td>7.48</td>\n",
       "      <td>2462752</td>\n",
       "      <td>Book</td>\n",
       "      <td>Romeo and Juliet_Book</td>\n",
       "    </tr>\n",
       "  </tbody>\n",
       "</table>\n",
       "</div>"
      ],
      "text/plain": [
       "              Title                                              Image  \\\n",
       "0  Romeo and Juliet  https://images-na.ssl-images-amazon.com/images...   \n",
       "\n",
       "     Genre                                        Description  Rating  \\\n",
       "0  Romance  In Romeo and Juliet, Shakespeare creates a vio...    7.48   \n",
       "\n",
       "     Votes  Type               Title_id  \n",
       "0  2462752  Book  Romeo and Juliet_Book  "
      ]
     },
     "execution_count": 71,
     "metadata": {},
     "output_type": "execute_result"
    }
   ],
   "source": [
    "recomendation.head(1)"
   ]
  },
  {
   "attachments": {},
   "cell_type": "markdown",
   "metadata": {},
   "source": [
    "Now we reorder our columns and export to csv"
   ]
  },
  {
   "cell_type": "code",
   "execution_count": 72,
   "metadata": {},
   "outputs": [],
   "source": [
    "recomendation = recomendation.reindex(columns=[\"Image\",\"Title\",\"Rating\",\"Votes\",\"Genre\",\"Description\",\"Type\",\"Title_id\"])"
   ]
  },
  {
   "cell_type": "code",
   "execution_count": 73,
   "metadata": {},
   "outputs": [],
   "source": [
    "movies.to_csv(\"../Data/Movies_clean.csv\")\n",
    "books.to_csv(\"../Data/Books_clean.csv\")\n",
    "recomendation.to_csv(\"../Data/recomendation.csv\")"
   ]
  }
 ],
 "metadata": {
  "kernelspec": {
   "display_name": "ironhack",
   "language": "python",
   "name": "python3"
  },
  "language_info": {
   "codemirror_mode": {
    "name": "ipython",
    "version": 3
   },
   "file_extension": ".py",
   "mimetype": "text/x-python",
   "name": "python",
   "nbconvert_exporter": "python",
   "pygments_lexer": "ipython3",
   "version": "3.9.13"
  },
  "orig_nbformat": 4,
  "vscode": {
   "interpreter": {
    "hash": "65b7599f6186181a4b80ca81fba347bd73305ca16c03b6761d91b86b0f734eb2"
   }
  }
 },
 "nbformat": 4,
 "nbformat_minor": 2
}
