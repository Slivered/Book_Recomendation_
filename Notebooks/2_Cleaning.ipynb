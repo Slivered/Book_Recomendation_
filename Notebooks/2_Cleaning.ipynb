{
 "cells": [
  {
   "cell_type": "code",
   "execution_count": 1,
   "metadata": {},
   "outputs": [],
   "source": [
    "import pandas as pd\n",
    "import numpy as np\n",
    "import pickle\n",
    "import sys\n",
    "sys.path.append(\"../\")\n",
    "import src.Resources as src\n",
    "\n",
    "import warnings\n",
    "warnings.filterwarnings('ignore')\n"
   ]
  },
  {
   "attachments": {},
   "cell_type": "markdown",
   "metadata": {},
   "source": [
    "In this notebook i will clean all the data from imdb. We start with this base csv called Movies."
   ]
  },
  {
   "cell_type": "code",
   "execution_count": 2,
   "metadata": {},
   "outputs": [],
   "source": [
    "main_df = pd.read_csv('../Data/Movies.csv', index_col= 0)  "
   ]
  },
  {
   "attachments": {},
   "cell_type": "markdown",
   "metadata": {},
   "source": [
    "We change the name of each of the collumns"
   ]
  },
  {
   "cell_type": "code",
   "execution_count": 3,
   "metadata": {},
   "outputs": [],
   "source": [
    "main_df.columns = [\"Movie_name\",\"Movie_img\",\"Movie_genre\",\"Movie_description\",\"Movie_rating\",\"Casting\",\"Movie_votes\",\"Movie_directors\",\"Movie_stars\"]"
   ]
  },
  {
   "attachments": {},
   "cell_type": "markdown",
   "metadata": {},
   "source": [
    "We run two cleaning functions from Resources.py"
   ]
  },
  {
   "cell_type": "code",
   "execution_count": 4,
   "metadata": {},
   "outputs": [],
   "source": [
    "main_df[\"Movie_rating\"] = main_df[\"Movie_rating\"].apply(lambda x: src.movie_rating_cleaner(x))\n",
    "main_df[\"Movie_votes\"] = main_df[\"Movie_votes\"].apply(lambda x: src.movie_vote_cleaner(x))"
   ]
  },
  {
   "attachments": {},
   "cell_type": "markdown",
   "metadata": {},
   "source": [
    "And now it's time to run the main cleaning function for imdb, it also grabs all the .pkl we have in data and concat them together to make one DataFrame of them all."
   ]
  },
  {
   "cell_type": "code",
   "execution_count": 5,
   "metadata": {},
   "outputs": [],
   "source": [
    "clean_df = src.movie_cleaner(main_df)"
   ]
  },
  {
   "attachments": {},
   "cell_type": "markdown",
   "metadata": {},
   "source": [
    "Here we need to reset the index, drop duplicates and reset index again."
   ]
  },
  {
   "cell_type": "code",
   "execution_count": 6,
   "metadata": {},
   "outputs": [],
   "source": [
    "clean_df.reset_index(inplace=True)\n",
    "clean_df.drop(\"index\",axis=1,inplace=True)\n",
    "clean_df.drop_duplicates(inplace=True)\n",
    "clean_df.reset_index(inplace=True)\n",
    "clean_df.drop(\"index\",axis=1,inplace=True)"
   ]
  },
  {
   "attachments": {},
   "cell_type": "markdown",
   "metadata": {},
   "source": [
    "Here we divide our Directors and Stars by the character \"|\", this will be useful later on for my recommendation."
   ]
  },
  {
   "cell_type": "code",
   "execution_count": 7,
   "metadata": {},
   "outputs": [],
   "source": [
    "clean_df[\"Movie_stars\"] = clean_df[\"Movie_stars\"].apply(lambda x: src.split_casting(x))\n",
    "clean_df[\"Movie_directors\"] = clean_df[\"Movie_directors\"].apply(lambda x: src.split_casting(x))"
   ]
  },
  {
   "attachments": {},
   "cell_type": "markdown",
   "metadata": {},
   "source": [
    "I don't need casting anymore so we will drop it."
   ]
  },
  {
   "cell_type": "code",
   "execution_count": 8,
   "metadata": {},
   "outputs": [],
   "source": [
    "clean_df.drop(\"Casting\",axis=1,inplace=True)"
   ]
  },
  {
   "attachments": {},
   "cell_type": "markdown",
   "metadata": {},
   "source": [
    "We make sure that there aren't any null values, and then we save it as Movies_clean"
   ]
  },
  {
   "cell_type": "code",
   "execution_count": 9,
   "metadata": {},
   "outputs": [
    {
     "data": {
      "text/plain": [
       "0          John Francis Daley| Jonathan Goldstein \n",
       "1                                  Chad Stahelski \n",
       "2                                 Jeremy Garelick \n",
       "3                                   James Cameron \n",
       "4                                  Kyle Newacheck \n",
       "                            ...                   \n",
       "130080             Jessica Kitrick| Lewis Lovhaug \n",
       "130081                              Tristan Price \n",
       "130082                              Aman Sachdeva \n",
       "130083                            Riccardo Ghione \n",
       "130084                               Edward Conna \n",
       "Name: Movie_directors, Length: 130085, dtype: object"
      ]
     },
     "execution_count": 9,
     "metadata": {},
     "output_type": "execute_result"
    }
   ],
   "source": [
    "clean_df[\"Movie_directors\"]"
   ]
  },
  {
   "cell_type": "code",
   "execution_count": 10,
   "metadata": {},
   "outputs": [
    {
     "data": {
      "text/plain": [
       "Movie_name           0\n",
       "Movie_img            0\n",
       "Movie_genre          0\n",
       "Movie_description    0\n",
       "Movie_rating         0\n",
       "Movie_votes          0\n",
       "Movie_directors      0\n",
       "Movie_stars          0\n",
       "dtype: int64"
      ]
     },
     "execution_count": 10,
     "metadata": {},
     "output_type": "execute_result"
    }
   ],
   "source": [
    "clean_df.isnull().sum()"
   ]
  },
  {
   "cell_type": "code",
   "execution_count": 11,
   "metadata": {},
   "outputs": [],
   "source": [
    "clean_df.to_csv(\"../Data/Movies_clean.csv\")"
   ]
  },
  {
   "attachments": {},
   "cell_type": "markdown",
   "metadata": {},
   "source": [
    "Now we will clean the Goodreads scraped data"
   ]
  },
  {
   "attachments": {},
   "cell_type": "markdown",
   "metadata": {},
   "source": [
    "In this notebook I will clean the data scraped from Goodreads and as well put it all in one DataFrame.\n",
    "First, we start with the DataFrame Books as a baseline."
   ]
  },
  {
   "cell_type": "code",
   "execution_count": 12,
   "metadata": {},
   "outputs": [],
   "source": [
    "book_df = pd.read_csv('../Data/Books.csv', index_col= 0)  "
   ]
  },
  {
   "cell_type": "code",
   "execution_count": 13,
   "metadata": {},
   "outputs": [
    {
     "data": {
      "text/html": [
       "<div>\n",
       "<style scoped>\n",
       "    .dataframe tbody tr th:only-of-type {\n",
       "        vertical-align: middle;\n",
       "    }\n",
       "\n",
       "    .dataframe tbody tr th {\n",
       "        vertical-align: top;\n",
       "    }\n",
       "\n",
       "    .dataframe thead th {\n",
       "        text-align: right;\n",
       "    }\n",
       "</style>\n",
       "<table border=\"1\" class=\"dataframe\">\n",
       "  <thead>\n",
       "    <tr style=\"text-align: right;\">\n",
       "      <th></th>\n",
       "      <th>Book_author</th>\n",
       "      <th>Book_img</th>\n",
       "      <th>Book_description</th>\n",
       "      <th>Book_rating</th>\n",
       "      <th>Book_votes</th>\n",
       "      <th>Book_title</th>\n",
       "      <th>Book_genre</th>\n",
       "    </tr>\n",
       "  </thead>\n",
       "  <tbody>\n",
       "    <tr>\n",
       "      <th>0</th>\n",
       "      <td>William Shakespeare</td>\n",
       "      <td>https://images-na.ssl-images-amazon.com/images...</td>\n",
       "      <td>In Romeo and Juliet, Shakespeare creates a vio...</td>\n",
       "      <td>3.74</td>\n",
       "      <td>2462752</td>\n",
       "      <td>Romeo and Juliet</td>\n",
       "      <td>Classics|Plays|Fiction|Romance</td>\n",
       "    </tr>\n",
       "  </tbody>\n",
       "</table>\n",
       "</div>"
      ],
      "text/plain": [
       "           Book_author                                           Book_img  \\\n",
       "0  William Shakespeare  https://images-na.ssl-images-amazon.com/images...   \n",
       "\n",
       "                                    Book_description  Book_rating  Book_votes  \\\n",
       "0  In Romeo and Juliet, Shakespeare creates a vio...         3.74     2462752   \n",
       "\n",
       "         Book_title                      Book_genre  \n",
       "0  Romeo and Juliet  Classics|Plays|Fiction|Romance  "
      ]
     },
     "execution_count": 13,
     "metadata": {},
     "output_type": "execute_result"
    }
   ],
   "source": [
    "book_df.head(1)"
   ]
  },
  {
   "attachments": {},
   "cell_type": "markdown",
   "metadata": {},
   "source": [
    "This is a list of all the .pkl that we want to load to our DataFrame, i chose them all, if in a future you would scrap new books you need to put the name of the pkl in here aswell, keep in mind to remove Books from the name here."
   ]
  },
  {
   "attachments": {},
   "cell_type": "markdown",
   "metadata": {},
   "source": [
    "Exemple: Books_Action.pkl for this list would be just Action."
   ]
  },
  {
   "cell_type": "code",
   "execution_count": 14,
   "metadata": {},
   "outputs": [],
   "source": [
    "genres= [\"Action\",\"Adventure\",\"Comedy\",\"Crime\",\"Drama\",\"Fantasy\",\"History\",\"Horror\",\"Mystery\",\"Romance\",\"Sciencefiction\",\"Superhero\",\"Thriller\",\"List\"]"
   ]
  },
  {
   "attachments": {},
   "cell_type": "markdown",
   "metadata": {},
   "source": [
    "Here we run the cleaning function, this function aswell puts all the pickles together into one DataFrame."
   ]
  },
  {
   "cell_type": "code",
   "execution_count": 15,
   "metadata": {},
   "outputs": [],
   "source": [
    "book_df = src.book_cleaner(genres,book_df)"
   ]
  },
  {
   "attachments": {},
   "cell_type": "markdown",
   "metadata": {},
   "source": [
    "We reset the index, drop duplicates, reset index again and then we multiply the rating by 2 so its in the same scale as imdb."
   ]
  },
  {
   "cell_type": "code",
   "execution_count": 16,
   "metadata": {},
   "outputs": [],
   "source": [
    "book_df.reset_index(inplace=True)\n",
    "book_df.drop(\"index\",axis=1,inplace=True)\n",
    "book_df.drop_duplicates(inplace=True)\n",
    "book_df.reset_index(inplace=True)\n",
    "book_df.drop(\"index\",axis=1,inplace=True)\n",
    "book_df[\"Book_rating\"] = book_df[\"Book_rating\"].apply(lambda x: src.book_rating_multiplier(x))"
   ]
  },
  {
   "attachments": {},
   "cell_type": "markdown",
   "metadata": {},
   "source": [
    "We make sure that there aren't any Nan values, in this case there is one so ill just replace it for: \"No description\"."
   ]
  },
  {
   "cell_type": "code",
   "execution_count": 17,
   "metadata": {},
   "outputs": [
    {
     "data": {
      "text/plain": [
       "Book_author         0\n",
       "Book_img            0\n",
       "Book_description    1\n",
       "Book_rating         0\n",
       "Book_votes          0\n",
       "Book_title          0\n",
       "Book_genre          0\n",
       "dtype: int64"
      ]
     },
     "execution_count": 17,
     "metadata": {},
     "output_type": "execute_result"
    }
   ],
   "source": [
    "book_df.isnull().sum()"
   ]
  },
  {
   "cell_type": "code",
   "execution_count": 18,
   "metadata": {},
   "outputs": [],
   "source": [
    "book_df=book_df.fillna(\"No description\")"
   ]
  },
  {
   "attachments": {},
   "cell_type": "markdown",
   "metadata": {},
   "source": [
    "This is the look of the DataFrame clean and with all of the new data we got from the pickles that were scraped with our goodreads selenium function."
   ]
  },
  {
   "attachments": {},
   "cell_type": "markdown",
   "metadata": {},
   "source": [
    "And finally we save it as Books_clean"
   ]
  },
  {
   "cell_type": "code",
   "execution_count": 19,
   "metadata": {},
   "outputs": [],
   "source": [
    "book_df.to_csv(\"../Data/Books_clean.csv\")"
   ]
  },
  {
   "attachments": {},
   "cell_type": "markdown",
   "metadata": {},
   "source": [
    "Here we load Books_clean to simplify the genres."
   ]
  },
  {
   "cell_type": "code",
   "execution_count": 22,
   "metadata": {},
   "outputs": [],
   "source": [
    "book_df2 = pd.read_csv('../Data/Books_clean.csv', index_col= 0)  "
   ]
  },
  {
   "attachments": {},
   "cell_type": "markdown",
   "metadata": {},
   "source": [
    "This function uses a dictionary in my library.py to simplify all the genres of the books, then this is applied with a map."
   ]
  },
  {
   "cell_type": "code",
   "execution_count": 23,
   "metadata": {},
   "outputs": [],
   "source": [
    "book_df2['Book_genre'] = book_df['Book_genre'].apply(src.map_genre)"
   ]
  },
  {
   "attachments": {},
   "cell_type": "markdown",
   "metadata": {},
   "source": [
    "These are now the new genres for the books."
   ]
  },
  {
   "cell_type": "code",
   "execution_count": 24,
   "metadata": {},
   "outputs": [
    {
     "data": {
      "text/html": [
       "<div>\n",
       "<style scoped>\n",
       "    .dataframe tbody tr th:only-of-type {\n",
       "        vertical-align: middle;\n",
       "    }\n",
       "\n",
       "    .dataframe tbody tr th {\n",
       "        vertical-align: top;\n",
       "    }\n",
       "\n",
       "    .dataframe thead th {\n",
       "        text-align: right;\n",
       "    }\n",
       "</style>\n",
       "<table border=\"1\" class=\"dataframe\">\n",
       "  <thead>\n",
       "    <tr style=\"text-align: right;\">\n",
       "      <th></th>\n",
       "      <th>Book_author</th>\n",
       "      <th>Book_img</th>\n",
       "      <th>Book_description</th>\n",
       "      <th>Book_rating</th>\n",
       "      <th>Book_votes</th>\n",
       "      <th>Book_title</th>\n",
       "      <th>Book_genre</th>\n",
       "    </tr>\n",
       "  </thead>\n",
       "  <tbody>\n",
       "    <tr>\n",
       "      <th>0</th>\n",
       "      <td>William Shakespeare</td>\n",
       "      <td>https://images-na.ssl-images-amazon.com/images...</td>\n",
       "      <td>In Romeo and Juliet, Shakespeare creates a vio...</td>\n",
       "      <td>7.48</td>\n",
       "      <td>2462752</td>\n",
       "      <td>Romeo and Juliet</td>\n",
       "      <td>Romance</td>\n",
       "    </tr>\n",
       "    <tr>\n",
       "      <th>1</th>\n",
       "      <td>William Shakespeare</td>\n",
       "      <td>https://images-na.ssl-images-amazon.com/images...</td>\n",
       "      <td>Among Shakespeare's plays, \"Hamlet\" is conside...</td>\n",
       "      <td>8.04</td>\n",
       "      <td>888492</td>\n",
       "      <td>Hamlet</td>\n",
       "      <td>Drama</td>\n",
       "    </tr>\n",
       "    <tr>\n",
       "      <th>2</th>\n",
       "      <td>William Shakespeare</td>\n",
       "      <td>https://images-na.ssl-images-amazon.com/images...</td>\n",
       "      <td>One night on the heath, the brave and respecte...</td>\n",
       "      <td>7.80</td>\n",
       "      <td>836710</td>\n",
       "      <td>Macbeth</td>\n",
       "      <td>Family</td>\n",
       "    </tr>\n",
       "    <tr>\n",
       "      <th>3</th>\n",
       "      <td>William Shakespeare</td>\n",
       "      <td>https://images-na.ssl-images-amazon.com/images...</td>\n",
       "      <td>In Othello, Shakespeare creates a powerful dra...</td>\n",
       "      <td>7.78</td>\n",
       "      <td>368863</td>\n",
       "      <td>Othello</td>\n",
       "      <td>Drama</td>\n",
       "    </tr>\n",
       "    <tr>\n",
       "      <th>4</th>\n",
       "      <td>William Shakespeare</td>\n",
       "      <td>https://images-na.ssl-images-amazon.com/images...</td>\n",
       "      <td>Shakespeare's intertwined love polygons begin ...</td>\n",
       "      <td>7.90</td>\n",
       "      <td>513517</td>\n",
       "      <td>A Midsummer Night's Dream</td>\n",
       "      <td>Fantasy</td>\n",
       "    </tr>\n",
       "    <tr>\n",
       "      <th>...</th>\n",
       "      <td>...</td>\n",
       "      <td>...</td>\n",
       "      <td>...</td>\n",
       "      <td>...</td>\n",
       "      <td>...</td>\n",
       "      <td>...</td>\n",
       "      <td>...</td>\n",
       "    </tr>\n",
       "    <tr>\n",
       "      <th>18043</th>\n",
       "      <td>Alice Schroeder</td>\n",
       "      <td>https://images-na.ssl-images-amazon.com/images...</td>\n",
       "      <td>The personally revealing and complete biograph...</td>\n",
       "      <td>8.26</td>\n",
       "      <td>48538</td>\n",
       "      <td>The Snowball: Warren Buffett and the Business ...</td>\n",
       "      <td>History|Biography</td>\n",
       "    </tr>\n",
       "    <tr>\n",
       "      <th>18044</th>\n",
       "      <td>Jonathan Lethem</td>\n",
       "      <td>https://images-na.ssl-images-amazon.com/images...</td>\n",
       "      <td>Lionel Essrog is Brooklyn’s very own self-appo...</td>\n",
       "      <td>7.72</td>\n",
       "      <td>39729</td>\n",
       "      <td>Motherless Brooklyn</td>\n",
       "      <td>Mystery|Crime</td>\n",
       "    </tr>\n",
       "    <tr>\n",
       "      <th>18045</th>\n",
       "      <td>Ruth Rendell</td>\n",
       "      <td>https://images-na.ssl-images-amazon.com/images...</td>\n",
       "      <td>Dazzling psychological suspense. Razor-sharp d...</td>\n",
       "      <td>7.36</td>\n",
       "      <td>13305</td>\n",
       "      <td>From Doon With Death</td>\n",
       "      <td>Mystery|Crime</td>\n",
       "    </tr>\n",
       "    <tr>\n",
       "      <th>18046</th>\n",
       "      <td>Shawn Achor</td>\n",
       "      <td>https://images-na.ssl-images-amazon.com/images...</td>\n",
       "      <td>Our most commonly held formula for success is ...</td>\n",
       "      <td>8.28</td>\n",
       "      <td>35581</td>\n",
       "      <td>The Happiness Advantage: The Seven Principles ...</td>\n",
       "      <td>Biography|History|Documentary</td>\n",
       "    </tr>\n",
       "    <tr>\n",
       "      <th>18047</th>\n",
       "      <td>Enid Blyton</td>\n",
       "      <td>https://images-na.ssl-images-amazon.com/images...</td>\n",
       "      <td>Elizabeth Allen is spoilt and selfish. When sh...</td>\n",
       "      <td>8.14</td>\n",
       "      <td>8875</td>\n",
       "      <td>The Naughtiest Girl in the School</td>\n",
       "      <td>Family</td>\n",
       "    </tr>\n",
       "  </tbody>\n",
       "</table>\n",
       "<p>18048 rows × 7 columns</p>\n",
       "</div>"
      ],
      "text/plain": [
       "               Book_author                                           Book_img  \\\n",
       "0      William Shakespeare  https://images-na.ssl-images-amazon.com/images...   \n",
       "1      William Shakespeare  https://images-na.ssl-images-amazon.com/images...   \n",
       "2      William Shakespeare  https://images-na.ssl-images-amazon.com/images...   \n",
       "3      William Shakespeare  https://images-na.ssl-images-amazon.com/images...   \n",
       "4      William Shakespeare  https://images-na.ssl-images-amazon.com/images...   \n",
       "...                    ...                                                ...   \n",
       "18043      Alice Schroeder  https://images-na.ssl-images-amazon.com/images...   \n",
       "18044      Jonathan Lethem  https://images-na.ssl-images-amazon.com/images...   \n",
       "18045         Ruth Rendell  https://images-na.ssl-images-amazon.com/images...   \n",
       "18046          Shawn Achor  https://images-na.ssl-images-amazon.com/images...   \n",
       "18047          Enid Blyton  https://images-na.ssl-images-amazon.com/images...   \n",
       "\n",
       "                                        Book_description  Book_rating  \\\n",
       "0      In Romeo and Juliet, Shakespeare creates a vio...         7.48   \n",
       "1      Among Shakespeare's plays, \"Hamlet\" is conside...         8.04   \n",
       "2      One night on the heath, the brave and respecte...         7.80   \n",
       "3      In Othello, Shakespeare creates a powerful dra...         7.78   \n",
       "4      Shakespeare's intertwined love polygons begin ...         7.90   \n",
       "...                                                  ...          ...   \n",
       "18043  The personally revealing and complete biograph...         8.26   \n",
       "18044  Lionel Essrog is Brooklyn’s very own self-appo...         7.72   \n",
       "18045  Dazzling psychological suspense. Razor-sharp d...         7.36   \n",
       "18046  Our most commonly held formula for success is ...         8.28   \n",
       "18047  Elizabeth Allen is spoilt and selfish. When sh...         8.14   \n",
       "\n",
       "       Book_votes                                         Book_title  \\\n",
       "0         2462752                                   Romeo and Juliet   \n",
       "1          888492                                             Hamlet   \n",
       "2          836710                                            Macbeth   \n",
       "3          368863                                            Othello   \n",
       "4          513517                          A Midsummer Night's Dream   \n",
       "...           ...                                                ...   \n",
       "18043       48538  The Snowball: Warren Buffett and the Business ...   \n",
       "18044       39729                                Motherless Brooklyn   \n",
       "18045       13305                               From Doon With Death   \n",
       "18046       35581  The Happiness Advantage: The Seven Principles ...   \n",
       "18047        8875                  The Naughtiest Girl in the School   \n",
       "\n",
       "                          Book_genre  \n",
       "0                            Romance  \n",
       "1                              Drama  \n",
       "2                             Family  \n",
       "3                              Drama  \n",
       "4                            Fantasy  \n",
       "...                              ...  \n",
       "18043              History|Biography  \n",
       "18044                  Mystery|Crime  \n",
       "18045                  Mystery|Crime  \n",
       "18046  Biography|History|Documentary  \n",
       "18047                         Family  \n",
       "\n",
       "[18048 rows x 7 columns]"
      ]
     },
     "execution_count": 24,
     "metadata": {},
     "output_type": "execute_result"
    }
   ],
   "source": [
    "book_df2"
   ]
  },
  {
   "attachments": {},
   "cell_type": "markdown",
   "metadata": {},
   "source": [
    "We drop any Nan because that means that it doesn't coincide with any genre that i have for my movies, so I won't be able to do a good recommendation based in the genre."
   ]
  },
  {
   "cell_type": "code",
   "execution_count": 25,
   "metadata": {},
   "outputs": [
    {
     "data": {
      "text/plain": [
       "Book_author          0\n",
       "Book_img             0\n",
       "Book_description    11\n",
       "Book_rating          0\n",
       "Book_votes           0\n",
       "Book_title           0\n",
       "Book_genre          49\n",
       "dtype: int64"
      ]
     },
     "execution_count": 25,
     "metadata": {},
     "output_type": "execute_result"
    }
   ],
   "source": [
    "book_df2.isna().sum()"
   ]
  },
  {
   "cell_type": "code",
   "execution_count": 26,
   "metadata": {},
   "outputs": [],
   "source": [
    "book_df2.dropna(inplace=True)"
   ]
  },
  {
   "cell_type": "code",
   "execution_count": 27,
   "metadata": {},
   "outputs": [
    {
     "data": {
      "text/html": [
       "<div>\n",
       "<style scoped>\n",
       "    .dataframe tbody tr th:only-of-type {\n",
       "        vertical-align: middle;\n",
       "    }\n",
       "\n",
       "    .dataframe tbody tr th {\n",
       "        vertical-align: top;\n",
       "    }\n",
       "\n",
       "    .dataframe thead th {\n",
       "        text-align: right;\n",
       "    }\n",
       "</style>\n",
       "<table border=\"1\" class=\"dataframe\">\n",
       "  <thead>\n",
       "    <tr style=\"text-align: right;\">\n",
       "      <th></th>\n",
       "      <th>Book_author</th>\n",
       "      <th>Book_img</th>\n",
       "      <th>Book_description</th>\n",
       "      <th>Book_rating</th>\n",
       "      <th>Book_votes</th>\n",
       "      <th>Book_title</th>\n",
       "      <th>Book_genre</th>\n",
       "    </tr>\n",
       "  </thead>\n",
       "  <tbody>\n",
       "    <tr>\n",
       "      <th>0</th>\n",
       "      <td>William Shakespeare</td>\n",
       "      <td>https://images-na.ssl-images-amazon.com/images...</td>\n",
       "      <td>In Romeo and Juliet, Shakespeare creates a vio...</td>\n",
       "      <td>7.48</td>\n",
       "      <td>2462752</td>\n",
       "      <td>Romeo and Juliet</td>\n",
       "      <td>Romance</td>\n",
       "    </tr>\n",
       "    <tr>\n",
       "      <th>1</th>\n",
       "      <td>William Shakespeare</td>\n",
       "      <td>https://images-na.ssl-images-amazon.com/images...</td>\n",
       "      <td>Among Shakespeare's plays, \"Hamlet\" is conside...</td>\n",
       "      <td>8.04</td>\n",
       "      <td>888492</td>\n",
       "      <td>Hamlet</td>\n",
       "      <td>Drama</td>\n",
       "    </tr>\n",
       "    <tr>\n",
       "      <th>2</th>\n",
       "      <td>William Shakespeare</td>\n",
       "      <td>https://images-na.ssl-images-amazon.com/images...</td>\n",
       "      <td>One night on the heath, the brave and respecte...</td>\n",
       "      <td>7.80</td>\n",
       "      <td>836710</td>\n",
       "      <td>Macbeth</td>\n",
       "      <td>Family</td>\n",
       "    </tr>\n",
       "    <tr>\n",
       "      <th>3</th>\n",
       "      <td>William Shakespeare</td>\n",
       "      <td>https://images-na.ssl-images-amazon.com/images...</td>\n",
       "      <td>In Othello, Shakespeare creates a powerful dra...</td>\n",
       "      <td>7.78</td>\n",
       "      <td>368863</td>\n",
       "      <td>Othello</td>\n",
       "      <td>Drama</td>\n",
       "    </tr>\n",
       "    <tr>\n",
       "      <th>4</th>\n",
       "      <td>William Shakespeare</td>\n",
       "      <td>https://images-na.ssl-images-amazon.com/images...</td>\n",
       "      <td>Shakespeare's intertwined love polygons begin ...</td>\n",
       "      <td>7.90</td>\n",
       "      <td>513517</td>\n",
       "      <td>A Midsummer Night's Dream</td>\n",
       "      <td>Fantasy</td>\n",
       "    </tr>\n",
       "    <tr>\n",
       "      <th>...</th>\n",
       "      <td>...</td>\n",
       "      <td>...</td>\n",
       "      <td>...</td>\n",
       "      <td>...</td>\n",
       "      <td>...</td>\n",
       "      <td>...</td>\n",
       "      <td>...</td>\n",
       "    </tr>\n",
       "    <tr>\n",
       "      <th>18043</th>\n",
       "      <td>Alice Schroeder</td>\n",
       "      <td>https://images-na.ssl-images-amazon.com/images...</td>\n",
       "      <td>The personally revealing and complete biograph...</td>\n",
       "      <td>8.26</td>\n",
       "      <td>48538</td>\n",
       "      <td>The Snowball: Warren Buffett and the Business ...</td>\n",
       "      <td>History|Biography</td>\n",
       "    </tr>\n",
       "    <tr>\n",
       "      <th>18044</th>\n",
       "      <td>Jonathan Lethem</td>\n",
       "      <td>https://images-na.ssl-images-amazon.com/images...</td>\n",
       "      <td>Lionel Essrog is Brooklyn’s very own self-appo...</td>\n",
       "      <td>7.72</td>\n",
       "      <td>39729</td>\n",
       "      <td>Motherless Brooklyn</td>\n",
       "      <td>Mystery|Crime</td>\n",
       "    </tr>\n",
       "    <tr>\n",
       "      <th>18045</th>\n",
       "      <td>Ruth Rendell</td>\n",
       "      <td>https://images-na.ssl-images-amazon.com/images...</td>\n",
       "      <td>Dazzling psychological suspense. Razor-sharp d...</td>\n",
       "      <td>7.36</td>\n",
       "      <td>13305</td>\n",
       "      <td>From Doon With Death</td>\n",
       "      <td>Mystery|Crime</td>\n",
       "    </tr>\n",
       "    <tr>\n",
       "      <th>18046</th>\n",
       "      <td>Shawn Achor</td>\n",
       "      <td>https://images-na.ssl-images-amazon.com/images...</td>\n",
       "      <td>Our most commonly held formula for success is ...</td>\n",
       "      <td>8.28</td>\n",
       "      <td>35581</td>\n",
       "      <td>The Happiness Advantage: The Seven Principles ...</td>\n",
       "      <td>Biography|History|Documentary</td>\n",
       "    </tr>\n",
       "    <tr>\n",
       "      <th>18047</th>\n",
       "      <td>Enid Blyton</td>\n",
       "      <td>https://images-na.ssl-images-amazon.com/images...</td>\n",
       "      <td>Elizabeth Allen is spoilt and selfish. When sh...</td>\n",
       "      <td>8.14</td>\n",
       "      <td>8875</td>\n",
       "      <td>The Naughtiest Girl in the School</td>\n",
       "      <td>Family</td>\n",
       "    </tr>\n",
       "  </tbody>\n",
       "</table>\n",
       "<p>17988 rows × 7 columns</p>\n",
       "</div>"
      ],
      "text/plain": [
       "               Book_author                                           Book_img  \\\n",
       "0      William Shakespeare  https://images-na.ssl-images-amazon.com/images...   \n",
       "1      William Shakespeare  https://images-na.ssl-images-amazon.com/images...   \n",
       "2      William Shakespeare  https://images-na.ssl-images-amazon.com/images...   \n",
       "3      William Shakespeare  https://images-na.ssl-images-amazon.com/images...   \n",
       "4      William Shakespeare  https://images-na.ssl-images-amazon.com/images...   \n",
       "...                    ...                                                ...   \n",
       "18043      Alice Schroeder  https://images-na.ssl-images-amazon.com/images...   \n",
       "18044      Jonathan Lethem  https://images-na.ssl-images-amazon.com/images...   \n",
       "18045         Ruth Rendell  https://images-na.ssl-images-amazon.com/images...   \n",
       "18046          Shawn Achor  https://images-na.ssl-images-amazon.com/images...   \n",
       "18047          Enid Blyton  https://images-na.ssl-images-amazon.com/images...   \n",
       "\n",
       "                                        Book_description  Book_rating  \\\n",
       "0      In Romeo and Juliet, Shakespeare creates a vio...         7.48   \n",
       "1      Among Shakespeare's plays, \"Hamlet\" is conside...         8.04   \n",
       "2      One night on the heath, the brave and respecte...         7.80   \n",
       "3      In Othello, Shakespeare creates a powerful dra...         7.78   \n",
       "4      Shakespeare's intertwined love polygons begin ...         7.90   \n",
       "...                                                  ...          ...   \n",
       "18043  The personally revealing and complete biograph...         8.26   \n",
       "18044  Lionel Essrog is Brooklyn’s very own self-appo...         7.72   \n",
       "18045  Dazzling psychological suspense. Razor-sharp d...         7.36   \n",
       "18046  Our most commonly held formula for success is ...         8.28   \n",
       "18047  Elizabeth Allen is spoilt and selfish. When sh...         8.14   \n",
       "\n",
       "       Book_votes                                         Book_title  \\\n",
       "0         2462752                                   Romeo and Juliet   \n",
       "1          888492                                             Hamlet   \n",
       "2          836710                                            Macbeth   \n",
       "3          368863                                            Othello   \n",
       "4          513517                          A Midsummer Night's Dream   \n",
       "...           ...                                                ...   \n",
       "18043       48538  The Snowball: Warren Buffett and the Business ...   \n",
       "18044       39729                                Motherless Brooklyn   \n",
       "18045       13305                               From Doon With Death   \n",
       "18046       35581  The Happiness Advantage: The Seven Principles ...   \n",
       "18047        8875                  The Naughtiest Girl in the School   \n",
       "\n",
       "                          Book_genre  \n",
       "0                            Romance  \n",
       "1                              Drama  \n",
       "2                             Family  \n",
       "3                              Drama  \n",
       "4                            Fantasy  \n",
       "...                              ...  \n",
       "18043              History|Biography  \n",
       "18044                  Mystery|Crime  \n",
       "18045                  Mystery|Crime  \n",
       "18046  Biography|History|Documentary  \n",
       "18047                         Family  \n",
       "\n",
       "[17988 rows x 7 columns]"
      ]
     },
     "execution_count": 27,
     "metadata": {},
     "output_type": "execute_result"
    }
   ],
   "source": [
    "book_df2"
   ]
  },
  {
   "cell_type": "code",
   "execution_count": 28,
   "metadata": {},
   "outputs": [],
   "source": [
    "book_df2.to_csv(\"../Data/Books_clean_filtered.csv\")"
   ]
  },
  {
   "cell_type": "code",
   "execution_count": null,
   "metadata": {},
   "outputs": [],
   "source": []
  },
  {
   "attachments": {},
   "cell_type": "markdown",
   "metadata": {},
   "source": [
    "Now we do the cleaning to prepare the recomendation"
   ]
  },
  {
   "cell_type": "code",
   "execution_count": 29,
   "metadata": {},
   "outputs": [],
   "source": [
    "movies = pd.read_csv(\"../Data/Movies_clean.csv\",index_col=0)\n",
    "books = pd.read_csv(\"../Data/Books_clean_filtered.csv\",index_col=0)"
   ]
  },
  {
   "attachments": {},
   "cell_type": "markdown",
   "metadata": {},
   "source": [
    "We rename our columns"
   ]
  },
  {
   "cell_type": "code",
   "execution_count": 30,
   "metadata": {},
   "outputs": [],
   "source": [
    "movies.columns = [\"Title\",\"Image\",\"Genre\",\"Description\",\"Rating\",\"Votes\",\"Directors\",\"Stars\"]\n",
    "books.columns = [\"Author\",\"Image\",\"Description\",\"Rating\",\"Votes\",\"Title\",\"Genre\"]"
   ]
  },
  {
   "attachments": {},
   "cell_type": "markdown",
   "metadata": {},
   "source": [
    "Drop unnecesary columns"
   ]
  },
  {
   "cell_type": "code",
   "execution_count": 31,
   "metadata": {},
   "outputs": [],
   "source": [
    "movies_rec = movies.drop([\"Directors\",\"Stars\"],axis=1)\n",
    "books_rec = books.drop([\"Author\",],axis=1)\n",
    "books_rec = books_rec.reindex(columns=[\"Title\",\"Image\",\"Genre\",\"Description\",\"Rating\",\"Votes\"])"
   ]
  },
  {
   "attachments": {},
   "cell_type": "markdown",
   "metadata": {},
   "source": [
    "We create a column with a identifier"
   ]
  },
  {
   "cell_type": "code",
   "execution_count": 32,
   "metadata": {},
   "outputs": [],
   "source": [
    "books_rec[\"Type\"] = \"Book\"\n",
    "movies_rec[\"Type\"] = \"Movie\""
   ]
  },
  {
   "attachments": {},
   "cell_type": "markdown",
   "metadata": {},
   "source": [
    "We concat both movies and books"
   ]
  },
  {
   "cell_type": "code",
   "execution_count": 33,
   "metadata": {},
   "outputs": [],
   "source": [
    "recomendation = pd.concat([books_rec,movies_rec])"
   ]
  },
  {
   "attachments": {},
   "cell_type": "markdown",
   "metadata": {},
   "source": [
    "We create a title identifier, there may be duplicates if a book has a movie adaptation"
   ]
  },
  {
   "cell_type": "code",
   "execution_count": 34,
   "metadata": {},
   "outputs": [],
   "source": [
    "recomendation[\"Title_id\"] = recomendation[\"Title\"]+\"_\"+recomendation[\"Type\"]"
   ]
  },
  {
   "attachments": {},
   "cell_type": "markdown",
   "metadata": {},
   "source": [
    "We filter to have only titles with over 5000 votes"
   ]
  },
  {
   "cell_type": "code",
   "execution_count": 35,
   "metadata": {},
   "outputs": [],
   "source": [
    "recomendation = recomendation[recomendation[\"Votes\"]>5000]"
   ]
  },
  {
   "cell_type": "code",
   "execution_count": 36,
   "metadata": {},
   "outputs": [],
   "source": [
    "recomendation.drop_duplicates(inplace=True)\n",
    "recomendation = recomendation.drop_duplicates(subset=\"Title_id\")\n",
    "recomendation = recomendation.reset_index()\n",
    "recomendation = recomendation.drop(\"index\",axis=1)"
   ]
  },
  {
   "cell_type": "code",
   "execution_count": 37,
   "metadata": {},
   "outputs": [
    {
     "data": {
      "text/html": [
       "<div>\n",
       "<style scoped>\n",
       "    .dataframe tbody tr th:only-of-type {\n",
       "        vertical-align: middle;\n",
       "    }\n",
       "\n",
       "    .dataframe tbody tr th {\n",
       "        vertical-align: top;\n",
       "    }\n",
       "\n",
       "    .dataframe thead th {\n",
       "        text-align: right;\n",
       "    }\n",
       "</style>\n",
       "<table border=\"1\" class=\"dataframe\">\n",
       "  <thead>\n",
       "    <tr style=\"text-align: right;\">\n",
       "      <th></th>\n",
       "      <th>Title</th>\n",
       "      <th>Image</th>\n",
       "      <th>Genre</th>\n",
       "      <th>Description</th>\n",
       "      <th>Rating</th>\n",
       "      <th>Votes</th>\n",
       "      <th>Type</th>\n",
       "      <th>Title_id</th>\n",
       "    </tr>\n",
       "  </thead>\n",
       "  <tbody>\n",
       "    <tr>\n",
       "      <th>0</th>\n",
       "      <td>Romeo and Juliet</td>\n",
       "      <td>https://images-na.ssl-images-amazon.com/images...</td>\n",
       "      <td>Romance</td>\n",
       "      <td>In Romeo and Juliet, Shakespeare creates a vio...</td>\n",
       "      <td>7.48</td>\n",
       "      <td>2462752</td>\n",
       "      <td>Book</td>\n",
       "      <td>Romeo and Juliet_Book</td>\n",
       "    </tr>\n",
       "    <tr>\n",
       "      <th>1</th>\n",
       "      <td>Hamlet</td>\n",
       "      <td>https://images-na.ssl-images-amazon.com/images...</td>\n",
       "      <td>Drama</td>\n",
       "      <td>Among Shakespeare's plays, \"Hamlet\" is conside...</td>\n",
       "      <td>8.04</td>\n",
       "      <td>888492</td>\n",
       "      <td>Book</td>\n",
       "      <td>Hamlet_Book</td>\n",
       "    </tr>\n",
       "    <tr>\n",
       "      <th>2</th>\n",
       "      <td>Macbeth</td>\n",
       "      <td>https://images-na.ssl-images-amazon.com/images...</td>\n",
       "      <td>Family</td>\n",
       "      <td>One night on the heath, the brave and respecte...</td>\n",
       "      <td>7.80</td>\n",
       "      <td>836710</td>\n",
       "      <td>Book</td>\n",
       "      <td>Macbeth_Book</td>\n",
       "    </tr>\n",
       "    <tr>\n",
       "      <th>3</th>\n",
       "      <td>Othello</td>\n",
       "      <td>https://images-na.ssl-images-amazon.com/images...</td>\n",
       "      <td>Drama</td>\n",
       "      <td>In Othello, Shakespeare creates a powerful dra...</td>\n",
       "      <td>7.78</td>\n",
       "      <td>368863</td>\n",
       "      <td>Book</td>\n",
       "      <td>Othello_Book</td>\n",
       "    </tr>\n",
       "    <tr>\n",
       "      <th>4</th>\n",
       "      <td>A Midsummer Night's Dream</td>\n",
       "      <td>https://images-na.ssl-images-amazon.com/images...</td>\n",
       "      <td>Fantasy</td>\n",
       "      <td>Shakespeare's intertwined love polygons begin ...</td>\n",
       "      <td>7.90</td>\n",
       "      <td>513517</td>\n",
       "      <td>Book</td>\n",
       "      <td>A Midsummer Night's Dream_Book</td>\n",
       "    </tr>\n",
       "    <tr>\n",
       "      <th>...</th>\n",
       "      <td>...</td>\n",
       "      <td>...</td>\n",
       "      <td>...</td>\n",
       "      <td>...</td>\n",
       "      <td>...</td>\n",
       "      <td>...</td>\n",
       "      <td>...</td>\n",
       "      <td>...</td>\n",
       "    </tr>\n",
       "    <tr>\n",
       "      <th>24561</th>\n",
       "      <td>El gendarme y los extraterrestres</td>\n",
       "      <td>https://m.media-amazon.com/images/S/sash/4Fyxw...</td>\n",
       "      <td>Comedy|Crime|Sci-Fi</td>\n",
       "      <td>In St. Tropez, French gendarme Cruchot and his...</td>\n",
       "      <td>6.20</td>\n",
       "      <td>8890</td>\n",
       "      <td>Movie</td>\n",
       "      <td>El gendarme y los extraterrestres_Movie</td>\n",
       "    </tr>\n",
       "    <tr>\n",
       "      <th>24562</th>\n",
       "      <td>The Capture</td>\n",
       "      <td>https://m.media-amazon.com/images/S/sash/4Fyxw...</td>\n",
       "      <td>Sci-Fi|Thriller</td>\n",
       "      <td>A group of scientists discover a soul guide an...</td>\n",
       "      <td>5.00</td>\n",
       "      <td>5442</td>\n",
       "      <td>Movie</td>\n",
       "      <td>The Capture_Movie</td>\n",
       "    </tr>\n",
       "    <tr>\n",
       "      <th>24563</th>\n",
       "      <td>Hunter Prey</td>\n",
       "      <td>https://m.media-amazon.com/images/S/sash/4Fyxw...</td>\n",
       "      <td>Sci-Fi|Thriller</td>\n",
       "      <td>A spaceship crashes on a desert planet with 3 ...</td>\n",
       "      <td>5.80</td>\n",
       "      <td>6114</td>\n",
       "      <td>Movie</td>\n",
       "      <td>Hunter Prey_Movie</td>\n",
       "    </tr>\n",
       "    <tr>\n",
       "      <th>24564</th>\n",
       "      <td>Infection</td>\n",
       "      <td>https://m.media-amazon.com/images/S/sash/4Fyxw...</td>\n",
       "      <td>Drama|Horror|Sci-Fi</td>\n",
       "      <td>INFECTION takes place in a dark, isolated hosp...</td>\n",
       "      <td>6.00</td>\n",
       "      <td>5614</td>\n",
       "      <td>Movie</td>\n",
       "      <td>Infection_Movie</td>\n",
       "    </tr>\n",
       "    <tr>\n",
       "      <th>24565</th>\n",
       "      <td>Let's Be Evil</td>\n",
       "      <td>https://m.media-amazon.com/images/S/sash/4Fyxw...</td>\n",
       "      <td>Horror|Reality-TV|Sci-Fi</td>\n",
       "      <td>A vision of augmented reality.</td>\n",
       "      <td>3.80</td>\n",
       "      <td>5539</td>\n",
       "      <td>Movie</td>\n",
       "      <td>Let's Be Evil_Movie</td>\n",
       "    </tr>\n",
       "  </tbody>\n",
       "</table>\n",
       "<p>24566 rows × 8 columns</p>\n",
       "</div>"
      ],
      "text/plain": [
       "                                   Title  \\\n",
       "0                       Romeo and Juliet   \n",
       "1                                 Hamlet   \n",
       "2                                Macbeth   \n",
       "3                                Othello   \n",
       "4              A Midsummer Night's Dream   \n",
       "...                                  ...   \n",
       "24561  El gendarme y los extraterrestres   \n",
       "24562                        The Capture   \n",
       "24563                        Hunter Prey   \n",
       "24564                          Infection   \n",
       "24565                      Let's Be Evil   \n",
       "\n",
       "                                                   Image  \\\n",
       "0      https://images-na.ssl-images-amazon.com/images...   \n",
       "1      https://images-na.ssl-images-amazon.com/images...   \n",
       "2      https://images-na.ssl-images-amazon.com/images...   \n",
       "3      https://images-na.ssl-images-amazon.com/images...   \n",
       "4      https://images-na.ssl-images-amazon.com/images...   \n",
       "...                                                  ...   \n",
       "24561  https://m.media-amazon.com/images/S/sash/4Fyxw...   \n",
       "24562  https://m.media-amazon.com/images/S/sash/4Fyxw...   \n",
       "24563  https://m.media-amazon.com/images/S/sash/4Fyxw...   \n",
       "24564  https://m.media-amazon.com/images/S/sash/4Fyxw...   \n",
       "24565  https://m.media-amazon.com/images/S/sash/4Fyxw...   \n",
       "\n",
       "                          Genre  \\\n",
       "0                       Romance   \n",
       "1                         Drama   \n",
       "2                        Family   \n",
       "3                         Drama   \n",
       "4                       Fantasy   \n",
       "...                         ...   \n",
       "24561       Comedy|Crime|Sci-Fi   \n",
       "24562           Sci-Fi|Thriller   \n",
       "24563           Sci-Fi|Thriller   \n",
       "24564       Drama|Horror|Sci-Fi   \n",
       "24565  Horror|Reality-TV|Sci-Fi   \n",
       "\n",
       "                                             Description  Rating    Votes  \\\n",
       "0      In Romeo and Juliet, Shakespeare creates a vio...    7.48  2462752   \n",
       "1      Among Shakespeare's plays, \"Hamlet\" is conside...    8.04   888492   \n",
       "2      One night on the heath, the brave and respecte...    7.80   836710   \n",
       "3      In Othello, Shakespeare creates a powerful dra...    7.78   368863   \n",
       "4      Shakespeare's intertwined love polygons begin ...    7.90   513517   \n",
       "...                                                  ...     ...      ...   \n",
       "24561  In St. Tropez, French gendarme Cruchot and his...    6.20     8890   \n",
       "24562  A group of scientists discover a soul guide an...    5.00     5442   \n",
       "24563  A spaceship crashes on a desert planet with 3 ...    5.80     6114   \n",
       "24564  INFECTION takes place in a dark, isolated hosp...    6.00     5614   \n",
       "24565                     A vision of augmented reality.    3.80     5539   \n",
       "\n",
       "        Type                                 Title_id  \n",
       "0       Book                    Romeo and Juliet_Book  \n",
       "1       Book                              Hamlet_Book  \n",
       "2       Book                             Macbeth_Book  \n",
       "3       Book                             Othello_Book  \n",
       "4       Book           A Midsummer Night's Dream_Book  \n",
       "...      ...                                      ...  \n",
       "24561  Movie  El gendarme y los extraterrestres_Movie  \n",
       "24562  Movie                        The Capture_Movie  \n",
       "24563  Movie                        Hunter Prey_Movie  \n",
       "24564  Movie                          Infection_Movie  \n",
       "24565  Movie                      Let's Be Evil_Movie  \n",
       "\n",
       "[24566 rows x 8 columns]"
      ]
     },
     "execution_count": 37,
     "metadata": {},
     "output_type": "execute_result"
    }
   ],
   "source": [
    "recomendation"
   ]
  },
  {
   "attachments": {},
   "cell_type": "markdown",
   "metadata": {},
   "source": [
    "Now we reorder our columns and export to csv"
   ]
  },
  {
   "cell_type": "code",
   "execution_count": 38,
   "metadata": {},
   "outputs": [],
   "source": [
    "recomendation = recomendation.reindex(columns=[\"Image\",\"Title\",\"Rating\",\"Votes\",\"Genre\",\"Description\",\"Type\",\"Title_id\"])"
   ]
  },
  {
   "cell_type": "code",
   "execution_count": 39,
   "metadata": {},
   "outputs": [],
   "source": [
    "recomendation.to_csv(\"../Data/recomendation.csv\")"
   ]
  },
  {
   "cell_type": "code",
   "execution_count": null,
   "metadata": {},
   "outputs": [],
   "source": []
  }
 ],
 "metadata": {
  "kernelspec": {
   "display_name": "ironhack",
   "language": "python",
   "name": "python3"
  },
  "language_info": {
   "codemirror_mode": {
    "name": "ipython",
    "version": 3
   },
   "file_extension": ".py",
   "mimetype": "text/x-python",
   "name": "python",
   "nbconvert_exporter": "python",
   "pygments_lexer": "ipython3",
   "version": "3.9.13"
  },
  "orig_nbformat": 4,
  "vscode": {
   "interpreter": {
    "hash": "65b7599f6186181a4b80ca81fba347bd73305ca16c03b6761d91b86b0f734eb2"
   }
  }
 },
 "nbformat": 4,
 "nbformat_minor": 2
}
