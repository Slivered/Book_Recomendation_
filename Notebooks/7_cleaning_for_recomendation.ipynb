{
 "cells": [
  {
   "cell_type": "code",
   "execution_count": 23,
   "metadata": {},
   "outputs": [],
   "source": [
    "import pandas as pd"
   ]
  },
  {
   "cell_type": "code",
   "execution_count": 24,
   "metadata": {},
   "outputs": [],
   "source": [
    "movies = pd.read_csv(\"../Data/Movies_clean.csv\",index_col=0)\n",
    "books = pd.read_csv(\"../Data/Books_clean_filtered.csv\",index_col=0)"
   ]
  },
  {
   "cell_type": "code",
   "execution_count": 25,
   "metadata": {},
   "outputs": [],
   "source": [
    "movies.columns = [\"Title\",\"Image\",\"Genre\",\"Description\",\"Rating\",\"Votes\",\"Directors\",\"Stars\"]\n",
    "books.columns = [\"Author\",\"Image\",\"Description\",\"Rating\",\"Votes\",\"Title\",\"Genre\"]"
   ]
  },
  {
   "cell_type": "code",
   "execution_count": 26,
   "metadata": {},
   "outputs": [],
   "source": [
    "movies_rec = movies.drop([\"Directors\",\"Stars\"],axis=1)\n",
    "books_rec = books.drop([\"Author\",],axis=1)\n",
    "books_rec = books_rec.reindex(columns=[\"Title\",\"Image\",\"Genre\",\"Description\",\"Rating\",\"Votes\"])"
   ]
  },
  {
   "cell_type": "code",
   "execution_count": 27,
   "metadata": {},
   "outputs": [],
   "source": [
    "books_rec[\"Type\"] = \"Book\"\n",
    "movies_rec[\"Type\"] = \"Movie\""
   ]
  },
  {
   "cell_type": "code",
   "execution_count": 28,
   "metadata": {},
   "outputs": [],
   "source": [
    "recomendation = pd.concat([books_rec,movies_rec])"
   ]
  },
  {
   "cell_type": "code",
   "execution_count": 29,
   "metadata": {},
   "outputs": [],
   "source": [
    "recomendation[\"Title_id\"] = recomendation[\"Title\"]+\"_\"+recomendation[\"Type\"]"
   ]
  },
  {
   "cell_type": "code",
   "execution_count": 30,
   "metadata": {},
   "outputs": [],
   "source": [
    "recomendation = recomendation[recomendation[\"Votes\"]>5000]"
   ]
  },
  {
   "cell_type": "code",
   "execution_count": 31,
   "metadata": {},
   "outputs": [],
   "source": [
    "recomendation.drop_duplicates(inplace=True)\n",
    "recomendation = recomendation.drop_duplicates(subset=\"Title_id\")\n",
    "recomendation = recomendation.reset_index()\n",
    "recomendation = recomendation.drop(\"index\",axis=1)"
   ]
  },
  {
   "cell_type": "code",
   "execution_count": 34,
   "metadata": {},
   "outputs": [
    {
     "data": {
      "text/html": [
       "<div>\n",
       "<style scoped>\n",
       "    .dataframe tbody tr th:only-of-type {\n",
       "        vertical-align: middle;\n",
       "    }\n",
       "\n",
       "    .dataframe tbody tr th {\n",
       "        vertical-align: top;\n",
       "    }\n",
       "\n",
       "    .dataframe thead th {\n",
       "        text-align: right;\n",
       "    }\n",
       "</style>\n",
       "<table border=\"1\" class=\"dataframe\">\n",
       "  <thead>\n",
       "    <tr style=\"text-align: right;\">\n",
       "      <th></th>\n",
       "      <th>Title</th>\n",
       "      <th>Image</th>\n",
       "      <th>Genre</th>\n",
       "      <th>Description</th>\n",
       "      <th>Rating</th>\n",
       "      <th>Votes</th>\n",
       "      <th>Type</th>\n",
       "      <th>Title_id</th>\n",
       "    </tr>\n",
       "  </thead>\n",
       "  <tbody>\n",
       "    <tr>\n",
       "      <th>0</th>\n",
       "      <td>Romeo and Juliet</td>\n",
       "      <td>https://images-na.ssl-images-amazon.com/images...</td>\n",
       "      <td>Romance</td>\n",
       "      <td>In Romeo and Juliet, Shakespeare creates a vio...</td>\n",
       "      <td>7.48</td>\n",
       "      <td>2462752</td>\n",
       "      <td>Book</td>\n",
       "      <td>Romeo and Juliet_Book</td>\n",
       "    </tr>\n",
       "  </tbody>\n",
       "</table>\n",
       "</div>"
      ],
      "text/plain": [
       "              Title                                              Image  \\\n",
       "0  Romeo and Juliet  https://images-na.ssl-images-amazon.com/images...   \n",
       "\n",
       "     Genre                                        Description  Rating  \\\n",
       "0  Romance  In Romeo and Juliet, Shakespeare creates a vio...    7.48   \n",
       "\n",
       "     Votes  Type               Title_id  \n",
       "0  2462752  Book  Romeo and Juliet_Book  "
      ]
     },
     "execution_count": 34,
     "metadata": {},
     "output_type": "execute_result"
    }
   ],
   "source": [
    "recomendation.head(1)"
   ]
  },
  {
   "cell_type": "code",
   "execution_count": 36,
   "metadata": {},
   "outputs": [],
   "source": [
    "recomendation = recomendation.reindex(columns=[\"Image\",\"Title\",\"Rating\",\"Votes\",\"Genre\",\"Description\",\"Type\",\"Title_id\"])"
   ]
  },
  {
   "cell_type": "code",
   "execution_count": 37,
   "metadata": {},
   "outputs": [],
   "source": [
    "movies.to_csv(\"../Data/Movies_clean.csv\")\n",
    "books.to_csv(\"../Data/Books_clean.csv\")\n",
    "recomendation.to_csv(\"../Data/recomendation.csv\")"
   ]
  }
 ],
 "metadata": {
  "kernelspec": {
   "display_name": "ironhack",
   "language": "python",
   "name": "python3"
  },
  "language_info": {
   "codemirror_mode": {
    "name": "ipython",
    "version": 3
   },
   "file_extension": ".py",
   "mimetype": "text/x-python",
   "name": "python",
   "nbconvert_exporter": "python",
   "pygments_lexer": "ipython3",
   "version": "3.9.13"
  },
  "orig_nbformat": 4
 },
 "nbformat": 4,
 "nbformat_minor": 2
}
